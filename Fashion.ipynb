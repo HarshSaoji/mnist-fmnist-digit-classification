{
  "cells": [
    {
      "cell_type": "markdown",
      "metadata": {
        "id": "5nNyAjuddNuo"
      },
      "source": [
        "## Name: HARSH SAOJI\n",
        "## Roll No: 38\n",
        "## Section: A(A3)\n",
        "## Practical 6\n",
        "## Multilayer Feed-Forward Neural Network"
      ]
    },
    {
      "cell_type": "markdown",
      "metadata": {
        "id": "XxeyelGk_Tp4"
      },
      "source": [
        "# Classifying MNIST Fashion using Tensorflow 2.x"
      ]
    },
    {
      "cell_type": "markdown",
      "metadata": {
        "id": "JL8GMQz2R90b"
      },
      "source": [
        "## Problem Statement"
      ]
    },
    {
      "cell_type": "markdown",
      "metadata": {
        "id": "PwEj36wcbsXF"
      },
      "source": [
        "#### **Dataset Description**"
      ]
    },
    {
      "cell_type": "code",
      "execution_count": null,
      "metadata": {
        "colab": {
          "base_uri": "https://localhost:8080/"
        },
        "execution": {
          "iopub.execute_input": "2025-03-19T06:22:44.423038Z",
          "iopub.status.busy": "2025-03-19T06:22:44.422531Z",
          "iopub.status.idle": "2025-03-19T06:23:01.578517Z",
          "shell.execute_reply": "2025-03-19T06:23:01.577271Z",
          "shell.execute_reply.started": "2025-03-19T06:22:44.422940Z"
        },
        "id": "knttI4ECLnHE",
        "outputId": "2745e216-cbce-46bd-d43a-8570ff40df14"
      },
      "outputs": [
        {
          "name": "stdout",
          "output_type": "stream",
          "text": [
            "2.17.1\n"
          ]
        }
      ],
      "source": [
        "#verify the installation\n",
        "import tensorflow as tf\n",
        "from tensorflow import keras\n",
        "\n",
        "#Check tf.keras version\n",
        "print(tf.__version__)\n"
      ]
    },
    {
      "cell_type": "markdown",
      "metadata": {
        "id": "RaTcM_Gk_jco"
      },
      "source": [
        "## Preparing the Data"
      ]
    },
    {
      "cell_type": "markdown",
      "metadata": {
        "id": "M0UnlNytbPmC"
      },
      "source": [
        "### Loading the Data"
      ]
    },
    {
      "cell_type": "markdown",
      "metadata": {
        "id": "peAAgeflZwcH"
      },
      "source": [
        "Load and prepare the [MNIST dataset](http://yann.lecun.com/exdb/mnist/) and convert the samples from integers to floating-point numbers and deal with categorical data:"
      ]
    },
    {
      "cell_type": "code",
      "execution_count": null,
      "metadata": {
        "execution": {
          "iopub.execute_input": "2025-03-19T06:23:01.580467Z",
          "iopub.status.busy": "2025-03-19T06:23:01.579879Z",
          "iopub.status.idle": "2025-03-19T06:23:02.497407Z",
          "shell.execute_reply": "2025-03-19T06:23:02.496306Z",
          "shell.execute_reply.started": "2025-03-19T06:23:01.580436Z"
        },
        "id": "c8-PSPuqLn_K",
        "outputId": "18480b85-0cf1-41ee-8133-ddbedf5e47b3"
      },
      "outputs": [
        {
          "name": "stdout",
          "output_type": "stream",
          "text": [
            "Downloading data from https://storage.googleapis.com/tensorflow/tf-keras-datasets/train-labels-idx1-ubyte.gz\n",
            "\u001b[1m29515/29515\u001b[0m \u001b[32m━━━━━━━━━━━━━━━━━━━━\u001b[0m\u001b[37m\u001b[0m \u001b[1m0s\u001b[0m 0us/step\n",
            "Downloading data from https://storage.googleapis.com/tensorflow/tf-keras-datasets/train-images-idx3-ubyte.gz\n",
            "\u001b[1m26421880/26421880\u001b[0m \u001b[32m━━━━━━━━━━━━━━━━━━━━\u001b[0m\u001b[37m\u001b[0m \u001b[1m0s\u001b[0m 0us/step\n",
            "Downloading data from https://storage.googleapis.com/tensorflow/tf-keras-datasets/t10k-labels-idx1-ubyte.gz\n",
            "\u001b[1m5148/5148\u001b[0m \u001b[32m━━━━━━━━━━━━━━━━━━━━\u001b[0m\u001b[37m\u001b[0m \u001b[1m0s\u001b[0m 0us/step\n",
            "Downloading data from https://storage.googleapis.com/tensorflow/tf-keras-datasets/t10k-images-idx3-ubyte.gz\n",
            "\u001b[1m4422102/4422102\u001b[0m \u001b[32m━━━━━━━━━━━━━━━━━━━━\u001b[0m\u001b[37m\u001b[0m \u001b[1m0s\u001b[0m 0us/step\n"
          ]
        }
      ],
      "source": [
        "# Loading Fasion MNIST dataset\n",
        "fashion_mnist = keras.datasets.fashion_mnist\n",
        "(X_train, Y_train), (X_test, Y_test) = fashion_mnist.load_data()"
      ]
    },
    {
      "cell_type": "code",
      "execution_count": null,
      "metadata": {
        "colab": {
          "base_uri": "https://localhost:8080/"
        },
        "execution": {
          "iopub.execute_input": "2025-03-19T06:23:02.499886Z",
          "iopub.status.busy": "2025-03-19T06:23:02.499550Z",
          "iopub.status.idle": "2025-03-19T06:23:02.505698Z",
          "shell.execute_reply": "2025-03-19T06:23:02.504238Z",
          "shell.execute_reply.started": "2025-03-19T06:23:02.499857Z"
        },
        "id": "t_v4WkSBLrJH",
        "outputId": "86bb4733-20f4-46fb-b1a7-2e51925b8079"
      },
      "outputs": [
        {
          "name": "stdout",
          "output_type": "stream",
          "text": [
            "(60000, 28, 28)\n",
            "(10000, 28, 28)\n"
          ]
        }
      ],
      "source": [
        "# Data Exploration\n",
        "print(X_train.shape)\n",
        "print(X_test.shape)"
      ]
    },
    {
      "cell_type": "markdown",
      "metadata": {
        "id": "WQR_cGsYaWVD"
      },
      "source": [
        "### Data Preprocessing"
      ]
    },
    {
      "cell_type": "code",
      "execution_count": null,
      "metadata": {
        "execution": {
          "iopub.execute_input": "2025-03-19T06:23:02.507638Z",
          "iopub.status.busy": "2025-03-19T06:23:02.507363Z",
          "iopub.status.idle": "2025-03-19T06:23:02.618331Z",
          "shell.execute_reply": "2025-03-19T06:23:02.617127Z",
          "shell.execute_reply.started": "2025-03-19T06:23:02.507614Z"
        },
        "id": "eH99QHr5Pyz0"
      },
      "outputs": [],
      "source": [
        "X_train = X_train.astype('float32')\n",
        "X_test = X_test.astype('float32')"
      ]
    },
    {
      "cell_type": "code",
      "execution_count": null,
      "metadata": {
        "colab": {
          "base_uri": "https://localhost:8080/"
        },
        "execution": {
          "iopub.execute_input": "2025-03-19T06:23:02.619693Z",
          "iopub.status.busy": "2025-03-19T06:23:02.619385Z",
          "iopub.status.idle": "2025-03-19T06:23:02.808736Z",
          "shell.execute_reply": "2025-03-19T06:23:02.807515Z",
          "shell.execute_reply.started": "2025-03-19T06:23:02.619643Z"
        },
        "id": "5uAo7yDtRhbG",
        "outputId": "e2476e91-6909-4c1e-fd30-d21122f5a2a0"
      },
      "outputs": [
        {
          "name": "stdout",
          "output_type": "stream",
          "text": [
            "(60000, 784) train samples\n",
            "(10000, 784) test samples\n"
          ]
        }
      ],
      "source": [
        "# X_train is 60000 rows of 28x28 values; we reshape it to # 60000 x 784.\n",
        "RESHAPED = 784 # 28x28 = 784 neurons\n",
        "X_train = X_train.reshape(60000, RESHAPED)\n",
        "X_test = X_test.reshape(10000, RESHAPED)\n",
        "\n",
        "# Data is converted into float32 to use 32-bit precision # when training a neural network\n",
        "X_train = X_train.astype('float32')\n",
        "X_test = X_test.astype('float32')\n",
        "\n",
        "# Normalizing the input to be within the range [0,1]\n",
        "X_train /= 255\n",
        "X_test /= 255\n",
        "\n",
        "print(X_train.shape, 'train samples')\n",
        "print(X_test.shape, 'test samples')\n",
        "\n",
        "# One-hot representation of the labels.\n",
        "Y_train = tf.keras.utils.to_categorical(Y_train, 10)\n",
        "Y_test = tf.keras.utils.to_categorical(Y_test, 10)"
      ]
    },
    {
      "cell_type": "markdown",
      "metadata": {
        "id": "8g6qsSi21x97"
      },
      "source": [
        "## Designing the Model"
      ]
    },
    {
      "cell_type": "markdown",
      "metadata": {
        "id": "ajqy56PT_pHr"
      },
      "source": [
        "### Preparing the Model 0: Single layer Perceptron"
      ]
    },
    {
      "cell_type": "markdown",
      "metadata": {
        "id": "wncYBuNkaCFf"
      },
      "source": [
        "Build the `Sequential` model with 0 hidden layers. Choose an optimizer and loss function for training:"
      ]
    },
    {
      "cell_type": "code",
      "execution_count": null,
      "metadata": {
        "execution": {
          "iopub.execute_input": "2025-03-19T06:23:02.810024Z",
          "iopub.status.busy": "2025-03-19T06:23:02.809734Z",
          "iopub.status.idle": "2025-03-19T06:23:02.820924Z",
          "shell.execute_reply": "2025-03-19T06:23:02.819673Z",
          "shell.execute_reply.started": "2025-03-19T06:23:02.809999Z"
        },
        "id": "2Q5jFOQUM-c0"
      },
      "outputs": [],
      "source": [
        "import tensorflow as tf\n",
        "from tensorflow.keras.layers import Dense\n",
        "from tensorflow.keras import Sequential\n",
        "model_0 = Sequential()"
      ]
    },
    {
      "cell_type": "code",
      "execution_count": null,
      "metadata": {
        "execution": {
          "iopub.execute_input": "2025-03-19T06:23:02.822467Z",
          "iopub.status.busy": "2025-03-19T06:23:02.822104Z",
          "iopub.status.idle": "2025-03-19T06:23:02.910518Z",
          "shell.execute_reply": "2025-03-19T06:23:02.909385Z",
          "shell.execute_reply.started": "2025-03-19T06:23:02.822432Z"
        },
        "id": "UqdDW5NLm_Q4",
        "outputId": "cc504c7c-dee3-4dc7-f960-9eaf2d52c8fa"
      },
      "outputs": [
        {
          "name": "stderr",
          "output_type": "stream",
          "text": [
            "/usr/local/lib/python3.10/dist-packages/keras/src/layers/core/dense.py:87: UserWarning: Do not pass an `input_shape`/`input_dim` argument to a layer. When using Sequential models, prefer using an `Input(shape)` object as the first layer in the model instead.\n",
            "  super().__init__(activity_regularizer=activity_regularizer, **kwargs)\n"
          ]
        }
      ],
      "source": [
        "# Now the model will take as input arrays of shape (*, 784)# and output arrays of shape (*, 10)\n",
        "model_0.add(Dense(10,input_shape=(784,),name='dense_layer', activation='softmax'))"
      ]
    },
    {
      "cell_type": "code",
      "execution_count": null,
      "metadata": {
        "execution": {
          "iopub.execute_input": "2025-03-19T06:23:02.913495Z",
          "iopub.status.busy": "2025-03-19T06:23:02.913198Z",
          "iopub.status.idle": "2025-03-19T06:23:02.928724Z",
          "shell.execute_reply": "2025-03-19T06:23:02.927381Z",
          "shell.execute_reply.started": "2025-03-19T06:23:02.913473Z"
        },
        "id": "ocCzyD2SWC9I"
      },
      "outputs": [],
      "source": [
        "# Compiling the model.\n",
        "model_0.compile(optimizer='SGD',\n",
        "              loss='categorical_crossentropy',\n",
        "              metrics=['accuracy'])"
      ]
    },
    {
      "cell_type": "code",
      "execution_count": null,
      "metadata": {
        "colab": {
          "base_uri": "https://localhost:8080/"
        },
        "execution": {
          "iopub.execute_input": "2025-03-19T06:23:02.931001Z",
          "iopub.status.busy": "2025-03-19T06:23:02.930656Z",
          "iopub.status.idle": "2025-03-19T06:24:40.937163Z",
          "shell.execute_reply": "2025-03-19T06:24:40.936069Z",
          "shell.execute_reply.started": "2025-03-19T06:23:02.930972Z"
        },
        "id": "fvAt9Atl-cnx",
        "outputId": "549ea48e-6551-456d-8704-3a8f45589ebe"
      },
      "outputs": [
        {
          "name": "stdout",
          "output_type": "stream",
          "text": [
            "Epoch 1/70\n",
            "\u001b[1m750/750\u001b[0m \u001b[32m━━━━━━━━━━━━━━━━━━━━\u001b[0m\u001b[37m\u001b[0m \u001b[1m2s\u001b[0m 2ms/step - accuracy: 0.5804 - loss: 1.3565 - val_accuracy: 0.7569 - val_loss: 0.7635\n",
            "Epoch 2/70\n",
            "\u001b[1m750/750\u001b[0m \u001b[32m━━━━━━━━━━━━━━━━━━━━\u001b[0m\u001b[37m\u001b[0m \u001b[1m1s\u001b[0m 2ms/step - accuracy: 0.7626 - loss: 0.7396 - val_accuracy: 0.7852 - val_loss: 0.6595\n",
            "Epoch 3/70\n",
            "\u001b[1m750/750\u001b[0m \u001b[32m━━━━━━━━━━━━━━━━━━━━\u001b[0m\u001b[37m\u001b[0m \u001b[1m1s\u001b[0m 2ms/step - accuracy: 0.7914 - loss: 0.6508 - val_accuracy: 0.7989 - val_loss: 0.6108\n",
            "Epoch 4/70\n",
            "\u001b[1m750/750\u001b[0m \u001b[32m━━━━━━━━━━━━━━━━━━━━\u001b[0m\u001b[37m\u001b[0m \u001b[1m1s\u001b[0m 2ms/step - accuracy: 0.8056 - loss: 0.6025 - val_accuracy: 0.8067 - val_loss: 0.5814\n",
            "Epoch 5/70\n",
            "\u001b[1m750/750\u001b[0m \u001b[32m━━━━━━━━━━━━━━━━━━━━\u001b[0m\u001b[37m\u001b[0m \u001b[1m1s\u001b[0m 2ms/step - accuracy: 0.8110 - loss: 0.5771 - val_accuracy: 0.8123 - val_loss: 0.5625\n",
            "Epoch 6/70\n",
            "\u001b[1m750/750\u001b[0m \u001b[32m━━━━━━━━━━━━━━━━━━━━\u001b[0m\u001b[37m\u001b[0m \u001b[1m1s\u001b[0m 2ms/step - accuracy: 0.8181 - loss: 0.5590 - val_accuracy: 0.8167 - val_loss: 0.5470\n",
            "Epoch 7/70\n",
            "\u001b[1m750/750\u001b[0m \u001b[32m━━━━━━━━━━━━━━━━━━━━\u001b[0m\u001b[37m\u001b[0m \u001b[1m1s\u001b[0m 2ms/step - accuracy: 0.8273 - loss: 0.5311 - val_accuracy: 0.8222 - val_loss: 0.5327\n",
            "Epoch 8/70\n",
            "\u001b[1m750/750\u001b[0m \u001b[32m━━━━━━━━━━━━━━━━━━━━\u001b[0m\u001b[37m\u001b[0m \u001b[1m1s\u001b[0m 2ms/step - accuracy: 0.8278 - loss: 0.5290 - val_accuracy: 0.8244 - val_loss: 0.5238\n",
            "Epoch 9/70\n",
            "\u001b[1m750/750\u001b[0m \u001b[32m━━━━━━━━━━━━━━━━━━━━\u001b[0m\u001b[37m\u001b[0m \u001b[1m1s\u001b[0m 2ms/step - accuracy: 0.8277 - loss: 0.5197 - val_accuracy: 0.8265 - val_loss: 0.5154\n",
            "Epoch 10/70\n",
            "\u001b[1m750/750\u001b[0m \u001b[32m━━━━━━━━━━━━━━━━━━━━\u001b[0m\u001b[37m\u001b[0m \u001b[1m1s\u001b[0m 2ms/step - accuracy: 0.8293 - loss: 0.5145 - val_accuracy: 0.8282 - val_loss: 0.5076\n",
            "Epoch 11/70\n",
            "\u001b[1m750/750\u001b[0m \u001b[32m━━━━━━━━━━━━━━━━━━━━\u001b[0m\u001b[37m\u001b[0m \u001b[1m1s\u001b[0m 2ms/step - accuracy: 0.8339 - loss: 0.4995 - val_accuracy: 0.8288 - val_loss: 0.5032\n",
            "Epoch 12/70\n",
            "\u001b[1m750/750\u001b[0m \u001b[32m━━━━━━━━━━━━━━━━━━━━\u001b[0m\u001b[37m\u001b[0m \u001b[1m1s\u001b[0m 2ms/step - accuracy: 0.8356 - loss: 0.4942 - val_accuracy: 0.8313 - val_loss: 0.4964\n",
            "Epoch 13/70\n",
            "\u001b[1m750/750\u001b[0m \u001b[32m━━━━━━━━━━━━━━━━━━━━\u001b[0m\u001b[37m\u001b[0m \u001b[1m1s\u001b[0m 2ms/step - accuracy: 0.8349 - loss: 0.4915 - val_accuracy: 0.8312 - val_loss: 0.4926\n",
            "Epoch 14/70\n",
            "\u001b[1m750/750\u001b[0m \u001b[32m━━━━━━━━━━━━━━━━━━━━\u001b[0m\u001b[37m\u001b[0m \u001b[1m1s\u001b[0m 2ms/step - accuracy: 0.8363 - loss: 0.4898 - val_accuracy: 0.8324 - val_loss: 0.4883\n",
            "Epoch 15/70\n",
            "\u001b[1m750/750\u001b[0m \u001b[32m━━━━━━━━━━━━━━━━━━━━\u001b[0m\u001b[37m\u001b[0m \u001b[1m1s\u001b[0m 2ms/step - accuracy: 0.8371 - loss: 0.4845 - val_accuracy: 0.8340 - val_loss: 0.4845\n",
            "Epoch 16/70\n",
            "\u001b[1m750/750\u001b[0m \u001b[32m━━━━━━━━━━━━━━━━━━━━\u001b[0m\u001b[37m\u001b[0m \u001b[1m1s\u001b[0m 2ms/step - accuracy: 0.8395 - loss: 0.4807 - val_accuracy: 0.8331 - val_loss: 0.4832\n",
            "Epoch 17/70\n",
            "\u001b[1m750/750\u001b[0m \u001b[32m━━━━━━━━━━━━━━━━━━━━\u001b[0m\u001b[37m\u001b[0m \u001b[1m1s\u001b[0m 2ms/step - accuracy: 0.8397 - loss: 0.4795 - val_accuracy: 0.8346 - val_loss: 0.4789\n",
            "Epoch 18/70\n",
            "\u001b[1m750/750\u001b[0m \u001b[32m━━━━━━━━━━━━━━━━━━━━\u001b[0m\u001b[37m\u001b[0m \u001b[1m1s\u001b[0m 2ms/step - accuracy: 0.8407 - loss: 0.4732 - val_accuracy: 0.8362 - val_loss: 0.4771\n",
            "Epoch 19/70\n",
            "\u001b[1m750/750\u001b[0m \u001b[32m━━━━━━━━━━━━━━━━━━━━\u001b[0m\u001b[37m\u001b[0m \u001b[1m1s\u001b[0m 2ms/step - accuracy: 0.8414 - loss: 0.4714 - val_accuracy: 0.8382 - val_loss: 0.4731\n",
            "Epoch 20/70\n",
            "\u001b[1m750/750\u001b[0m \u001b[32m━━━━━━━━━━━━━━━━━━━━\u001b[0m\u001b[37m\u001b[0m \u001b[1m2s\u001b[0m 2ms/step - accuracy: 0.8450 - loss: 0.4608 - val_accuracy: 0.8362 - val_loss: 0.4694\n",
            "Epoch 21/70\n",
            "\u001b[1m750/750\u001b[0m \u001b[32m━━━━━━━━━━━━━━━━━━━━\u001b[0m\u001b[37m\u001b[0m \u001b[1m1s\u001b[0m 2ms/step - accuracy: 0.8459 - loss: 0.4583 - val_accuracy: 0.8397 - val_loss: 0.4679\n",
            "Epoch 22/70\n",
            "\u001b[1m750/750\u001b[0m \u001b[32m━━━━━━━━━━━━━━━━━━━━\u001b[0m\u001b[37m\u001b[0m \u001b[1m1s\u001b[0m 2ms/step - accuracy: 0.8482 - loss: 0.4534 - val_accuracy: 0.8393 - val_loss: 0.4661\n",
            "Epoch 23/70\n",
            "\u001b[1m750/750\u001b[0m \u001b[32m━━━━━━━━━━━━━━━━━━━━\u001b[0m\u001b[37m\u001b[0m \u001b[1m1s\u001b[0m 2ms/step - accuracy: 0.8489 - loss: 0.4535 - val_accuracy: 0.8397 - val_loss: 0.4666\n",
            "Epoch 24/70\n",
            "\u001b[1m750/750\u001b[0m \u001b[32m━━━━━━━━━━━━━━━━━━━━\u001b[0m\u001b[37m\u001b[0m \u001b[1m1s\u001b[0m 2ms/step - accuracy: 0.8459 - loss: 0.4537 - val_accuracy: 0.8416 - val_loss: 0.4618\n",
            "Epoch 25/70\n",
            "\u001b[1m750/750\u001b[0m \u001b[32m━━━━━━━━━━━━━━━━━━━━\u001b[0m\u001b[37m\u001b[0m \u001b[1m1s\u001b[0m 2ms/step - accuracy: 0.8469 - loss: 0.4547 - val_accuracy: 0.8393 - val_loss: 0.4625\n",
            "Epoch 26/70\n",
            "\u001b[1m750/750\u001b[0m \u001b[32m━━━━━━━━━━━━━━━━━━━━\u001b[0m\u001b[37m\u001b[0m \u001b[1m1s\u001b[0m 2ms/step - accuracy: 0.8493 - loss: 0.4461 - val_accuracy: 0.8428 - val_loss: 0.4589\n",
            "Epoch 27/70\n",
            "\u001b[1m750/750\u001b[0m \u001b[32m━━━━━━━━━━━━━━━━━━━━\u001b[0m\u001b[37m\u001b[0m \u001b[1m1s\u001b[0m 2ms/step - accuracy: 0.8512 - loss: 0.4424 - val_accuracy: 0.8427 - val_loss: 0.4571\n",
            "Epoch 28/70\n",
            "\u001b[1m750/750\u001b[0m \u001b[32m━━━━━━━━━━━━━━━━━━━━\u001b[0m\u001b[37m\u001b[0m \u001b[1m1s\u001b[0m 2ms/step - accuracy: 0.8492 - loss: 0.4490 - val_accuracy: 0.8422 - val_loss: 0.4553\n",
            "Epoch 29/70\n",
            "\u001b[1m750/750\u001b[0m \u001b[32m━━━━━━━━━━━━━━━━━━━━\u001b[0m\u001b[37m\u001b[0m \u001b[1m1s\u001b[0m 2ms/step - accuracy: 0.8482 - loss: 0.4487 - val_accuracy: 0.8428 - val_loss: 0.4566\n",
            "Epoch 30/70\n",
            "\u001b[1m750/750\u001b[0m \u001b[32m━━━━━━━━━━━━━━━━━━━━\u001b[0m\u001b[37m\u001b[0m \u001b[1m2s\u001b[0m 2ms/step - accuracy: 0.8504 - loss: 0.4423 - val_accuracy: 0.8438 - val_loss: 0.4535\n",
            "Epoch 31/70\n",
            "\u001b[1m750/750\u001b[0m \u001b[32m━━━━━━━━━━━━━━━━━━━━\u001b[0m\u001b[37m\u001b[0m \u001b[1m1s\u001b[0m 2ms/step - accuracy: 0.8517 - loss: 0.4414 - val_accuracy: 0.8452 - val_loss: 0.4531\n",
            "Epoch 32/70\n",
            "\u001b[1m750/750\u001b[0m \u001b[32m━━━━━━━━━━━━━━━━━━━━\u001b[0m\u001b[37m\u001b[0m \u001b[1m1s\u001b[0m 2ms/step - accuracy: 0.8491 - loss: 0.4460 - val_accuracy: 0.8453 - val_loss: 0.4503\n",
            "Epoch 33/70\n",
            "\u001b[1m750/750\u001b[0m \u001b[32m━━━━━━━━━━━━━━━━━━━━\u001b[0m\u001b[37m\u001b[0m \u001b[1m1s\u001b[0m 2ms/step - accuracy: 0.8509 - loss: 0.4397 - val_accuracy: 0.8459 - val_loss: 0.4499\n",
            "Epoch 34/70\n",
            "\u001b[1m750/750\u001b[0m \u001b[32m━━━━━━━━━━━━━━━━━━━━\u001b[0m\u001b[37m\u001b[0m \u001b[1m1s\u001b[0m 2ms/step - accuracy: 0.8490 - loss: 0.4417 - val_accuracy: 0.8445 - val_loss: 0.4496\n",
            "Epoch 35/70\n",
            "\u001b[1m750/750\u001b[0m \u001b[32m━━━━━━━━━━━━━━━━━━━━\u001b[0m\u001b[37m\u001b[0m \u001b[1m1s\u001b[0m 2ms/step - accuracy: 0.8514 - loss: 0.4404 - val_accuracy: 0.8443 - val_loss: 0.4510\n",
            "Epoch 36/70\n",
            "\u001b[1m750/750\u001b[0m \u001b[32m━━━━━━━━━━━━━━━━━━━━\u001b[0m\u001b[37m\u001b[0m \u001b[1m1s\u001b[0m 2ms/step - accuracy: 0.8522 - loss: 0.4340 - val_accuracy: 0.8463 - val_loss: 0.4478\n",
            "Epoch 37/70\n",
            "\u001b[1m750/750\u001b[0m \u001b[32m━━━━━━━━━━━━━━━━━━━━\u001b[0m\u001b[37m\u001b[0m \u001b[1m1s\u001b[0m 2ms/step - accuracy: 0.8517 - loss: 0.4321 - val_accuracy: 0.8457 - val_loss: 0.4462\n",
            "Epoch 38/70\n",
            "\u001b[1m750/750\u001b[0m \u001b[32m━━━━━━━━━━━━━━━━━━━━\u001b[0m\u001b[37m\u001b[0m \u001b[1m1s\u001b[0m 2ms/step - accuracy: 0.8528 - loss: 0.4346 - val_accuracy: 0.8457 - val_loss: 0.4473\n",
            "Epoch 39/70\n",
            "\u001b[1m750/750\u001b[0m \u001b[32m━━━━━━━━━━━━━━━━━━━━\u001b[0m\u001b[37m\u001b[0m \u001b[1m1s\u001b[0m 2ms/step - accuracy: 0.8517 - loss: 0.4332 - val_accuracy: 0.8491 - val_loss: 0.4442\n",
            "Epoch 40/70\n",
            "\u001b[1m750/750\u001b[0m \u001b[32m━━━━━━━━━━━━━━━━━━━━\u001b[0m\u001b[37m\u001b[0m \u001b[1m1s\u001b[0m 2ms/step - accuracy: 0.8532 - loss: 0.4300 - val_accuracy: 0.8471 - val_loss: 0.4430\n",
            "Epoch 41/70\n",
            "\u001b[1m750/750\u001b[0m \u001b[32m━━━━━━━━━━━━━━━━━━━━\u001b[0m\u001b[37m\u001b[0m \u001b[1m1s\u001b[0m 2ms/step - accuracy: 0.8537 - loss: 0.4309 - val_accuracy: 0.8497 - val_loss: 0.4427\n",
            "Epoch 42/70\n",
            "\u001b[1m750/750\u001b[0m \u001b[32m━━━━━━━━━━━━━━━━━━━━\u001b[0m\u001b[37m\u001b[0m \u001b[1m1s\u001b[0m 2ms/step - accuracy: 0.8531 - loss: 0.4339 - val_accuracy: 0.8484 - val_loss: 0.4428\n",
            "Epoch 43/70\n",
            "\u001b[1m750/750\u001b[0m \u001b[32m━━━━━━━━━━━━━━━━━━━━\u001b[0m\u001b[37m\u001b[0m \u001b[1m1s\u001b[0m 2ms/step - accuracy: 0.8534 - loss: 0.4273 - val_accuracy: 0.8488 - val_loss: 0.4420\n",
            "Epoch 44/70\n",
            "\u001b[1m750/750\u001b[0m \u001b[32m━━━━━━━━━━━━━━━━━━━━\u001b[0m\u001b[37m\u001b[0m \u001b[1m1s\u001b[0m 2ms/step - accuracy: 0.8548 - loss: 0.4242 - val_accuracy: 0.8485 - val_loss: 0.4408\n",
            "Epoch 45/70\n",
            "\u001b[1m750/750\u001b[0m \u001b[32m━━━━━━━━━━━━━━━━━━━━\u001b[0m\u001b[37m\u001b[0m \u001b[1m1s\u001b[0m 2ms/step - accuracy: 0.8537 - loss: 0.4292 - val_accuracy: 0.8478 - val_loss: 0.4406\n",
            "Epoch 46/70\n",
            "\u001b[1m750/750\u001b[0m \u001b[32m━━━━━━━━━━━━━━━━━━━━\u001b[0m\u001b[37m\u001b[0m \u001b[1m1s\u001b[0m 2ms/step - accuracy: 0.8541 - loss: 0.4294 - val_accuracy: 0.8497 - val_loss: 0.4388\n",
            "Epoch 47/70\n",
            "\u001b[1m750/750\u001b[0m \u001b[32m━━━━━━━━━━━━━━━━━━━━\u001b[0m\u001b[37m\u001b[0m \u001b[1m1s\u001b[0m 2ms/step - accuracy: 0.8560 - loss: 0.4285 - val_accuracy: 0.8472 - val_loss: 0.4411\n",
            "Epoch 48/70\n",
            "\u001b[1m750/750\u001b[0m \u001b[32m━━━━━━━━━━━━━━━━━━━━\u001b[0m\u001b[37m\u001b[0m \u001b[1m1s\u001b[0m 2ms/step - accuracy: 0.8580 - loss: 0.4248 - val_accuracy: 0.8487 - val_loss: 0.4379\n",
            "Epoch 49/70\n",
            "\u001b[1m750/750\u001b[0m \u001b[32m━━━━━━━━━━━━━━━━━━━━\u001b[0m\u001b[37m\u001b[0m \u001b[1m1s\u001b[0m 2ms/step - accuracy: 0.8537 - loss: 0.4316 - val_accuracy: 0.8505 - val_loss: 0.4383\n",
            "Epoch 50/70\n",
            "\u001b[1m750/750\u001b[0m \u001b[32m━━━━━━━━━━━━━━━━━━━━\u001b[0m\u001b[37m\u001b[0m \u001b[1m1s\u001b[0m 2ms/step - accuracy: 0.8547 - loss: 0.4245 - val_accuracy: 0.8493 - val_loss: 0.4373\n",
            "Epoch 51/70\n",
            "\u001b[1m750/750\u001b[0m \u001b[32m━━━━━━━━━━━━━━━━━━━━\u001b[0m\u001b[37m\u001b[0m \u001b[1m1s\u001b[0m 2ms/step - accuracy: 0.8580 - loss: 0.4184 - val_accuracy: 0.8500 - val_loss: 0.4366\n",
            "Epoch 52/70\n",
            "\u001b[1m750/750\u001b[0m \u001b[32m━━━━━━━━━━━━━━━━━━━━\u001b[0m\u001b[37m\u001b[0m \u001b[1m1s\u001b[0m 2ms/step - accuracy: 0.8560 - loss: 0.4210 - val_accuracy: 0.8507 - val_loss: 0.4370\n",
            "Epoch 53/70\n",
            "\u001b[1m750/750\u001b[0m \u001b[32m━━━━━━━━━━━━━━━━━━━━\u001b[0m\u001b[37m\u001b[0m \u001b[1m1s\u001b[0m 2ms/step - accuracy: 0.8576 - loss: 0.4223 - val_accuracy: 0.8512 - val_loss: 0.4355\n",
            "Epoch 54/70\n",
            "\u001b[1m750/750\u001b[0m \u001b[32m━━━━━━━━━━━━━━━━━━━━\u001b[0m\u001b[37m\u001b[0m \u001b[1m1s\u001b[0m 2ms/step - accuracy: 0.8573 - loss: 0.4185 - val_accuracy: 0.8507 - val_loss: 0.4373\n",
            "Epoch 55/70\n",
            "\u001b[1m750/750\u001b[0m \u001b[32m━━━━━━━━━━━━━━━━━━━━\u001b[0m\u001b[37m\u001b[0m \u001b[1m1s\u001b[0m 2ms/step - accuracy: 0.8573 - loss: 0.4170 - val_accuracy: 0.8520 - val_loss: 0.4345\n",
            "Epoch 56/70\n",
            "\u001b[1m750/750\u001b[0m \u001b[32m━━━━━━━━━━━━━━━━━━━━\u001b[0m\u001b[37m\u001b[0m \u001b[1m1s\u001b[0m 2ms/step - accuracy: 0.8586 - loss: 0.4225 - val_accuracy: 0.8512 - val_loss: 0.4332\n",
            "Epoch 57/70\n",
            "\u001b[1m750/750\u001b[0m \u001b[32m━━━━━━━━━━━━━━━━━━━━\u001b[0m\u001b[37m\u001b[0m \u001b[1m1s\u001b[0m 2ms/step - accuracy: 0.8579 - loss: 0.4133 - val_accuracy: 0.8511 - val_loss: 0.4327\n",
            "Epoch 58/70\n",
            "\u001b[1m750/750\u001b[0m \u001b[32m━━━━━━━━━━━━━━━━━━━━\u001b[0m\u001b[37m\u001b[0m \u001b[1m1s\u001b[0m 2ms/step - accuracy: 0.8553 - loss: 0.4180 - val_accuracy: 0.8526 - val_loss: 0.4327\n",
            "Epoch 59/70\n",
            "\u001b[1m750/750\u001b[0m \u001b[32m━━━━━━━━━━━━━━━━━━━━\u001b[0m\u001b[37m\u001b[0m \u001b[1m1s\u001b[0m 2ms/step - accuracy: 0.8559 - loss: 0.4162 - val_accuracy: 0.8526 - val_loss: 0.4333\n",
            "Epoch 60/70\n",
            "\u001b[1m750/750\u001b[0m \u001b[32m━━━━━━━━━━━━━━━━━━━━\u001b[0m\u001b[37m\u001b[0m \u001b[1m1s\u001b[0m 2ms/step - accuracy: 0.8597 - loss: 0.4087 - val_accuracy: 0.8537 - val_loss: 0.4322\n",
            "Epoch 61/70\n",
            "\u001b[1m750/750\u001b[0m \u001b[32m━━━━━━━━━━━━━━━━━━━━\u001b[0m\u001b[37m\u001b[0m \u001b[1m1s\u001b[0m 2ms/step - accuracy: 0.8598 - loss: 0.4104 - val_accuracy: 0.8533 - val_loss: 0.4311\n",
            "Epoch 62/70\n",
            "\u001b[1m750/750\u001b[0m \u001b[32m━━━━━━━━━━━━━━━━━━━━\u001b[0m\u001b[37m\u001b[0m \u001b[1m1s\u001b[0m 2ms/step - accuracy: 0.8579 - loss: 0.4147 - val_accuracy: 0.8518 - val_loss: 0.4312\n",
            "Epoch 63/70\n",
            "\u001b[1m750/750\u001b[0m \u001b[32m━━━━━━━━━━━━━━━━━━━━\u001b[0m\u001b[37m\u001b[0m \u001b[1m1s\u001b[0m 2ms/step - accuracy: 0.8582 - loss: 0.4132 - val_accuracy: 0.8533 - val_loss: 0.4316\n",
            "Epoch 64/70\n",
            "\u001b[1m750/750\u001b[0m \u001b[32m━━━━━━━━━━━━━━━━━━━━\u001b[0m\u001b[37m\u001b[0m \u001b[1m1s\u001b[0m 2ms/step - accuracy: 0.8588 - loss: 0.4104 - val_accuracy: 0.8544 - val_loss: 0.4297\n",
            "Epoch 65/70\n",
            "\u001b[1m750/750\u001b[0m \u001b[32m━━━━━━━━━━━━━━━━━━━━\u001b[0m\u001b[37m\u001b[0m \u001b[1m1s\u001b[0m 2ms/step - accuracy: 0.8588 - loss: 0.4160 - val_accuracy: 0.8512 - val_loss: 0.4337\n",
            "Epoch 66/70\n",
            "\u001b[1m750/750\u001b[0m \u001b[32m━━━━━━━━━━━━━━━━━━━━\u001b[0m\u001b[37m\u001b[0m \u001b[1m1s\u001b[0m 2ms/step - accuracy: 0.8573 - loss: 0.4152 - val_accuracy: 0.8533 - val_loss: 0.4304\n",
            "Epoch 67/70\n",
            "\u001b[1m750/750\u001b[0m \u001b[32m━━━━━━━━━━━━━━━━━━━━\u001b[0m\u001b[37m\u001b[0m \u001b[1m1s\u001b[0m 2ms/step - accuracy: 0.8567 - loss: 0.4163 - val_accuracy: 0.8528 - val_loss: 0.4297\n",
            "Epoch 68/70\n",
            "\u001b[1m750/750\u001b[0m \u001b[32m━━━━━━━━━━━━━━━━━━━━\u001b[0m\u001b[37m\u001b[0m \u001b[1m1s\u001b[0m 2ms/step - accuracy: 0.8642 - loss: 0.4060 - val_accuracy: 0.8537 - val_loss: 0.4292\n",
            "Epoch 69/70\n",
            "\u001b[1m750/750\u001b[0m \u001b[32m━━━━━━━━━━━━━━━━━━━━\u001b[0m\u001b[37m\u001b[0m \u001b[1m1s\u001b[0m 2ms/step - accuracy: 0.8579 - loss: 0.4112 - val_accuracy: 0.8528 - val_loss: 0.4299\n",
            "Epoch 70/70\n",
            "\u001b[1m750/750\u001b[0m \u001b[32m━━━━━━━━━━━━━━━━━━━━\u001b[0m\u001b[37m\u001b[0m \u001b[1m1s\u001b[0m 2ms/step - accuracy: 0.8599 - loss: 0.4088 - val_accuracy: 0.8545 - val_loss: 0.4281\n"
          ]
        }
      ],
      "source": [
        "# Training the model.\n",
        "training = model_0.fit(X_train, Y_train, batch_size=64, epochs=70, validation_split=0.2)"
      ]
    },
    {
      "cell_type": "code",
      "execution_count": null,
      "metadata": {
        "colab": {
          "base_uri": "https://localhost:8080/"
        },
        "execution": {
          "iopub.execute_input": "2025-03-19T06:24:40.939029Z",
          "iopub.status.busy": "2025-03-19T06:24:40.938572Z",
          "iopub.status.idle": "2025-03-19T06:24:40.946250Z",
          "shell.execute_reply": "2025-03-19T06:24:40.945155Z",
          "shell.execute_reply.started": "2025-03-19T06:24:40.938986Z"
        },
        "id": "V-FcGw8doJlE",
        "outputId": "3f0e4ac3-46a5-4a03-a472-1e66f023912c"
      },
      "outputs": [
        {
          "name": "stdout",
          "output_type": "stream",
          "text": [
            "dict_keys(['accuracy', 'loss', 'val_accuracy', 'val_loss'])\n"
          ]
        }
      ],
      "source": [
        "import matplotlib.pyplot as plt\n",
        "%matplotlib inline\n",
        "# list all data in training\n",
        "print(training.history.keys())"
      ]
    },
    {
      "cell_type": "code",
      "execution_count": null,
      "metadata": {
        "colab": {
          "base_uri": "https://localhost:8080/",
          "height": 472
        },
        "execution": {
          "iopub.execute_input": "2025-03-19T06:24:40.947870Z",
          "iopub.status.busy": "2025-03-19T06:24:40.947467Z",
          "iopub.status.idle": "2025-03-19T06:24:41.277247Z",
          "shell.execute_reply": "2025-03-19T06:24:41.276104Z",
          "shell.execute_reply.started": "2025-03-19T06:24:40.947843Z"
        },
        "id": "hof2yoiDBCab",
        "outputId": "c602ab21-2a85-4e6e-f86d-7857ed175680"
      },
      "outputs": [
        {
          "data": {
            "image/png": "[encoded data removed]",
            "text/plain": [
              "<Figure size 640x480 with 1 Axes>"
            ]
          },
          "metadata": {},
          "output_type": "display_data"
        }
      ],
      "source": [
        "# summarize training for accuracy\n",
        "plt.plot(training.history['accuracy'])\n",
        "plt.plot(training.history['val_accuracy'])\n",
        "plt.title('model accuracy')\n",
        "plt.ylabel('accuracy')\n",
        "plt.xlabel('epoch')\n",
        "plt.legend(['train', 'test'], loc='upper left')\n",
        "plt.show()"
      ]
    },
    {
      "cell_type": "code",
      "execution_count": null,
      "metadata": {
        "colab": {
          "base_uri": "https://localhost:8080/",
          "height": 472
        },
        "execution": {
          "iopub.execute_input": "2025-03-19T06:24:41.278779Z",
          "iopub.status.busy": "2025-03-19T06:24:41.278371Z",
          "iopub.status.idle": "2025-03-19T06:24:41.524387Z",
          "shell.execute_reply": "2025-03-19T06:24:41.523343Z",
          "shell.execute_reply.started": "2025-03-19T06:24:41.278740Z"
        },
        "id": "5l3KuxvvoQOv",
        "outputId": "750df62d-9e71-466e-dde4-6a4a74b94244"
      },
      "outputs": [
        {
          "data": {
            "image/png": "[encoded data removed]",
            "text/plain": [
              "<Figure size 640x480 with 1 Axes>"
            ]
          },
          "metadata": {},
          "output_type": "display_data"
        }
      ],
      "source": [
        "# summarize traning for loss\n",
        "plt.plot(training.history['loss'])\n",
        "plt.plot(training.history['val_loss'])\n",
        "plt.title('model loss')\n",
        "plt.ylabel('loss')\n",
        "plt.xlabel('epoch')\n",
        "plt.legend(['train', 'test'], loc='upper left')\n",
        "plt.show()"
      ]
    },
    {
      "cell_type": "code",
      "execution_count": null,
      "metadata": {
        "colab": {
          "base_uri": "https://localhost:8080/"
        },
        "execution": {
          "iopub.execute_input": "2025-03-19T06:24:41.525632Z",
          "iopub.status.busy": "2025-03-19T06:24:41.525356Z",
          "iopub.status.idle": "2025-03-19T06:24:41.989445Z",
          "shell.execute_reply": "2025-03-19T06:24:41.988096Z",
          "shell.execute_reply.started": "2025-03-19T06:24:41.525607Z"
        },
        "id": "SzP_B7w7_1tj",
        "outputId": "3a502627-7700-4d19-87c9-149a84f305c5"
      },
      "outputs": [
        {
          "name": "stdout",
          "output_type": "stream",
          "text": [
            "\u001b[1m313/313\u001b[0m \u001b[32m━━━━━━━━━━━━━━━━━━━━\u001b[0m\u001b[37m\u001b[0m \u001b[1m0s\u001b[0m 1ms/step - accuracy: 0.8426 - loss: 0.4454\n",
            "Test accuracy: 0.8403000235557556\n"
          ]
        }
      ],
      "source": [
        "#evaluate the model\n",
        "test_loss, test_acc = model_0.evaluate(X_test, Y_test)\n",
        "print('Test accuracy:', test_acc)"
      ]
    },
    {
      "cell_type": "code",
      "execution_count": null,
      "metadata": {
        "colab": {
          "base_uri": "https://localhost:8080/"
        },
        "execution": {
          "iopub.execute_input": "2025-03-19T06:24:41.991007Z",
          "iopub.status.busy": "2025-03-19T06:24:41.990617Z",
          "iopub.status.idle": "2025-03-19T06:24:42.013517Z",
          "shell.execute_reply": "2025-03-19T06:24:42.012383Z",
          "shell.execute_reply.started": "2025-03-19T06:24:41.990971Z"
        },
        "id": "ZrHaOTYTaukM",
        "outputId": "0e1411fe-894b-47d0-b528-57a0b688f107"
      },
      "outputs": [
        {
          "data": {
            "text/html": [
              "<pre style=\"white-space:pre;overflow-x:auto;line-height:normal;font-family:Menlo,'DejaVu Sans Mono',consolas,'Courier New',monospace\"><span style=\"font-weight: bold\">Model: \"sequential\"</span>\n",
              "</pre>\n"
            ],
            "text/plain": [
              "\u001b[1mModel: \"sequential\"\u001b[0m\n"
            ]
          },
          "metadata": {},
          "output_type": "display_data"
        },
        {
          "data": {
            "text/html": [
              "<pre style=\"white-space:pre;overflow-x:auto;line-height:normal;font-family:Menlo,'DejaVu Sans Mono',consolas,'Courier New',monospace\">┏━━━━━━━━━━━━━━━━━━━━━━━━━━━━━━━━━━━━━━┳━━━━━━━━━━━━━━━━━━━━━━━━━━━━━┳━━━━━━━━━━━━━━━━━┓\n",
              "┃<span style=\"font-weight: bold\"> Layer (type)                         </span>┃<span style=\"font-weight: bold\"> Output Shape                </span>┃<span style=\"font-weight: bold\">         Param # </span>┃\n",
              "┡━━━━━━━━━━━━━━━━━━━━━━━━━━━━━━━━━━━━━━╇━━━━━━━━━━━━━━━━━━━━━━━━━━━━━╇━━━━━━━━━━━━━━━━━┩\n",
              "│ dense_layer (<span style=\"color: #0087ff; text-decoration-color: #0087ff\">Dense</span>)                  │ (<span style=\"color: #00d7ff; text-decoration-color: #00d7ff\">None</span>, <span style=\"color: #00af00; text-decoration-color: #00af00\">10</span>)                  │           <span style=\"color: #00af00; text-decoration-color: #00af00\">7,850</span> │\n",
              "└──────────────────────────────────────┴─────────────────────────────┴─────────────────┘\n",
              "</pre>\n"
            ],
            "text/plain": [
              "┏━━━━━━━━━━━━━━━━━━━━━━━━━━━━━━━━━━━━━━┳━━━━━━━━━━━━━━━━━━━━━━━━━━━━━┳━━━━━━━━━━━━━━━━━┓\n",
              "┃\u001b[1m \u001b[0m\u001b[1mLayer (type)                        \u001b[0m\u001b[1m \u001b[0m┃\u001b[1m \u001b[0m\u001b[1mOutput Shape               \u001b[0m\u001b[1m \u001b[0m┃\u001b[1m \u001b[0m\u001b[1m        Param #\u001b[0m\u001b[1m \u001b[0m┃\n",
              "┡━━━━━━━━━━━━━━━━━━━━━━━━━━━━━━━━━━━━━━╇━━━━━━━━━━━━━━━━━━━━━━━━━━━━━╇━━━━━━━━━━━━━━━━━┩\n",
              "│ dense_layer (\u001b[38;5;33mDense\u001b[0m)                  │ (\u001b[38;5;45mNone\u001b[0m, \u001b[38;5;34m10\u001b[0m)                  │           \u001b[38;5;34m7,850\u001b[0m │\n",
              "└──────────────────────────────────────┴─────────────────────────────┴─────────────────┘\n"
            ]
          },
          "metadata": {},
          "output_type": "display_data"
        },
        {
          "data": {
            "text/html": [
              "<pre style=\"white-space:pre;overflow-x:auto;line-height:normal;font-family:Menlo,'DejaVu Sans Mono',consolas,'Courier New',monospace\"><span style=\"font-weight: bold\"> Total params: </span><span style=\"color: #00af00; text-decoration-color: #00af00\">7,852</span> (30.68 KB)\n",
              "</pre>\n"
            ],
            "text/plain": [
              "\u001b[1m Total params: \u001b[0m\u001b[38;5;34m7,852\u001b[0m (30.68 KB)\n"
            ]
          },
          "metadata": {},
          "output_type": "display_data"
        },
        {
          "data": {
            "text/html": [
              "<pre style=\"white-space:pre;overflow-x:auto;line-height:normal;font-family:Menlo,'DejaVu Sans Mono',consolas,'Courier New',monospace\"><span style=\"font-weight: bold\"> Trainable params: </span><span style=\"color: #00af00; text-decoration-color: #00af00\">7,850</span> (30.66 KB)\n",
              "</pre>\n"
            ],
            "text/plain": [
              "\u001b[1m Trainable params: \u001b[0m\u001b[38;5;34m7,850\u001b[0m (30.66 KB)\n"
            ]
          },
          "metadata": {},
          "output_type": "display_data"
        },
        {
          "data": {
            "text/html": [
              "<pre style=\"white-space:pre;overflow-x:auto;line-height:normal;font-family:Menlo,'DejaVu Sans Mono',consolas,'Courier New',monospace\"><span style=\"font-weight: bold\"> Non-trainable params: </span><span style=\"color: #00af00; text-decoration-color: #00af00\">0</span> (0.00 B)\n",
              "</pre>\n"
            ],
            "text/plain": [
              "\u001b[1m Non-trainable params: \u001b[0m\u001b[38;5;34m0\u001b[0m (0.00 B)\n"
            ]
          },
          "metadata": {},
          "output_type": "display_data"
        },
        {
          "data": {
            "text/html": [
              "<pre style=\"white-space:pre;overflow-x:auto;line-height:normal;font-family:Menlo,'DejaVu Sans Mono',consolas,'Courier New',monospace\"><span style=\"font-weight: bold\"> Optimizer params: </span><span style=\"color: #00af00; text-decoration-color: #00af00\">2</span> (12.00 B)\n",
              "</pre>\n"
            ],
            "text/plain": [
              "\u001b[1m Optimizer params: \u001b[0m\u001b[38;5;34m2\u001b[0m (12.00 B)\n"
            ]
          },
          "metadata": {},
          "output_type": "display_data"
        }
      ],
      "source": [
        "model_0.summary()"
      ]
    },
    {
      "cell_type": "markdown",
      "metadata": {
        "id": "n8iGAu5OAO5Y"
      },
      "source": [
        "### Improved Model 1: Adding Hidden Layer - Multi Layer Perceptron"
      ]
    },
    {
      "cell_type": "code",
      "execution_count": null,
      "metadata": {
        "execution": {
          "iopub.execute_input": "2025-03-19T06:24:42.015026Z",
          "iopub.status.busy": "2025-03-19T06:24:42.014639Z",
          "iopub.status.idle": "2025-03-19T06:24:42.073200Z",
          "shell.execute_reply": "2025-03-19T06:24:42.072132Z",
          "shell.execute_reply.started": "2025-03-19T06:24:42.014987Z"
        },
        "id": "VVkZL5uiAhJB"
      },
      "outputs": [],
      "source": [
        "#Most common type of model is a stack of layers\n",
        "model_1 = tf.keras.Sequential()\n",
        "N_hidden = 64\n",
        "# Adds a densely-connected layer with 64 units to the model:\n",
        "model_1.add(Dense(N_hidden, name='dense_layer', input_shape=(784,), activation = 'relu'))\n",
        "model_1.add(Dense(N_hidden, name='dense_layer_2', activation='relu'))\n",
        "model_1.add(Dense(10, name='dense_layer_3', activation = 'softmax'))"
      ]
    },
    {
      "cell_type": "code",
      "execution_count": null,
      "metadata": {
        "execution": {
          "iopub.execute_input": "2025-03-19T06:24:42.074715Z",
          "iopub.status.busy": "2025-03-19T06:24:42.074332Z",
          "iopub.status.idle": "2025-03-19T06:24:42.084184Z",
          "shell.execute_reply": "2025-03-19T06:24:42.083134Z",
          "shell.execute_reply.started": "2025-03-19T06:24:42.074647Z"
        },
        "id": "MiYit8ATfCXw"
      },
      "outputs": [],
      "source": [
        "# Compiling the model.\n",
        "model_1.compile(optimizer='SGD',\n",
        "              loss='categorical_crossentropy',\n",
        "              metrics=['accuracy'])"
      ]
    },
    {
      "cell_type": "code",
      "execution_count": null,
      "metadata": {
        "colab": {
          "base_uri": "https://localhost:8080/"
        },
        "execution": {
          "iopub.execute_input": "2025-03-19T06:24:42.085913Z",
          "iopub.status.busy": "2025-03-19T06:24:42.085525Z",
          "iopub.status.idle": "2025-03-19T06:27:45.081826Z",
          "shell.execute_reply": "2025-03-19T06:27:45.080676Z",
          "shell.execute_reply.started": "2025-03-19T06:24:42.085885Z"
        },
        "id": "qeWrSoxzfCYE",
        "outputId": "25fb5455-4782-43c4-8447-fce32b7d629d"
      },
      "outputs": [
        {
          "name": "stdout",
          "output_type": "stream",
          "text": [
            "Epoch 1/100\n",
            "\u001b[1m750/750\u001b[0m \u001b[32m━━━━━━━━━━━━━━━━━━━━\u001b[0m\u001b[37m\u001b[0m \u001b[1m2s\u001b[0m 3ms/step - accuracy: 0.5302 - loss: 1.4235 - val_accuracy: 0.7550 - val_loss: 0.6871\n",
            "Epoch 2/100\n",
            "\u001b[1m750/750\u001b[0m \u001b[32m━━━━━━━━━━━━━━━━━━━━\u001b[0m\u001b[37m\u001b[0m \u001b[1m2s\u001b[0m 2ms/step - accuracy: 0.7747 - loss: 0.6584 - val_accuracy: 0.8046 - val_loss: 0.5679\n",
            "Epoch 3/100\n",
            "\u001b[1m750/750\u001b[0m \u001b[32m━━━━━━━━━━━━━━━━━━━━\u001b[0m\u001b[37m\u001b[0m \u001b[1m2s\u001b[0m 2ms/step - accuracy: 0.8098 - loss: 0.5595 - val_accuracy: 0.8188 - val_loss: 0.5157\n",
            "Epoch 4/100\n",
            "\u001b[1m750/750\u001b[0m \u001b[32m━━━━━━━━━━━━━━━━━━━━\u001b[0m\u001b[37m\u001b[0m \u001b[1m2s\u001b[0m 2ms/step - accuracy: 0.8241 - loss: 0.5087 - val_accuracy: 0.8194 - val_loss: 0.5023\n",
            "Epoch 5/100\n",
            "\u001b[1m750/750\u001b[0m \u001b[32m━━━━━━━━━━━━━━━━━━━━\u001b[0m\u001b[37m\u001b[0m \u001b[1m2s\u001b[0m 2ms/step - accuracy: 0.8329 - loss: 0.4790 - val_accuracy: 0.8349 - val_loss: 0.4715\n",
            "Epoch 6/100\n",
            "\u001b[1m750/750\u001b[0m \u001b[32m━━━━━━━━━━━━━━━━━━━━\u001b[0m\u001b[37m\u001b[0m \u001b[1m2s\u001b[0m 2ms/step - accuracy: 0.8398 - loss: 0.4627 - val_accuracy: 0.8339 - val_loss: 0.4743\n",
            "Epoch 7/100\n",
            "\u001b[1m750/750\u001b[0m \u001b[32m━━━━━━━━━━━━━━━━━━━━\u001b[0m\u001b[37m\u001b[0m \u001b[1m2s\u001b[0m 2ms/step - accuracy: 0.8475 - loss: 0.4440 - val_accuracy: 0.8393 - val_loss: 0.4519\n",
            "Epoch 8/100\n",
            "\u001b[1m750/750\u001b[0m \u001b[32m━━━━━━━━━━━━━━━━━━━━\u001b[0m\u001b[37m\u001b[0m \u001b[1m2s\u001b[0m 2ms/step - accuracy: 0.8483 - loss: 0.4390 - val_accuracy: 0.8418 - val_loss: 0.4448\n",
            "Epoch 9/100\n",
            "\u001b[1m750/750\u001b[0m \u001b[32m━━━━━━━━━━━━━━━━━━━━\u001b[0m\u001b[37m\u001b[0m \u001b[1m2s\u001b[0m 2ms/step - accuracy: 0.8539 - loss: 0.4220 - val_accuracy: 0.8490 - val_loss: 0.4304\n",
            "Epoch 10/100\n",
            "\u001b[1m750/750\u001b[0m \u001b[32m━━━━━━━━━━━━━━━━━━━━\u001b[0m\u001b[37m\u001b[0m \u001b[1m2s\u001b[0m 2ms/step - accuracy: 0.8559 - loss: 0.4138 - val_accuracy: 0.8530 - val_loss: 0.4243\n",
            "Epoch 11/100\n",
            "\u001b[1m750/750\u001b[0m \u001b[32m━━━━━━━━━━━━━━━━━━━━\u001b[0m\u001b[37m\u001b[0m \u001b[1m2s\u001b[0m 2ms/step - accuracy: 0.8626 - loss: 0.3993 - val_accuracy: 0.8553 - val_loss: 0.4135\n",
            "Epoch 12/100\n",
            "\u001b[1m750/750\u001b[0m \u001b[32m━━━━━━━━━━━━━━━━━━━━\u001b[0m\u001b[37m\u001b[0m \u001b[1m2s\u001b[0m 2ms/step - accuracy: 0.8619 - loss: 0.3959 - val_accuracy: 0.8594 - val_loss: 0.4085\n",
            "Epoch 13/100\n",
            "\u001b[1m750/750\u001b[0m \u001b[32m━━━━━━━━━━━━━━━━━━━━\u001b[0m\u001b[37m\u001b[0m \u001b[1m2s\u001b[0m 2ms/step - accuracy: 0.8644 - loss: 0.3926 - val_accuracy: 0.8542 - val_loss: 0.4187\n",
            "Epoch 14/100\n",
            "\u001b[1m750/750\u001b[0m \u001b[32m━━━━━━━━━━━━━━━━━━━━\u001b[0m\u001b[37m\u001b[0m \u001b[1m2s\u001b[0m 2ms/step - accuracy: 0.8643 - loss: 0.3889 - val_accuracy: 0.8567 - val_loss: 0.4053\n",
            "Epoch 15/100\n",
            "\u001b[1m750/750\u001b[0m \u001b[32m━━━━━━━━━━━━━━━━━━━━\u001b[0m\u001b[37m\u001b[0m \u001b[1m2s\u001b[0m 2ms/step - accuracy: 0.8654 - loss: 0.3847 - val_accuracy: 0.8593 - val_loss: 0.4006\n",
            "Epoch 16/100\n",
            "\u001b[1m750/750\u001b[0m \u001b[32m━━━━━━━━━━━━━━━━━━━━\u001b[0m\u001b[37m\u001b[0m \u001b[1m2s\u001b[0m 2ms/step - accuracy: 0.8676 - loss: 0.3780 - val_accuracy: 0.8654 - val_loss: 0.3915\n",
            "Epoch 17/100\n",
            "\u001b[1m750/750\u001b[0m \u001b[32m━━━━━━━━━━━━━━━━━━━━\u001b[0m\u001b[37m\u001b[0m \u001b[1m2s\u001b[0m 2ms/step - accuracy: 0.8684 - loss: 0.3758 - val_accuracy: 0.8602 - val_loss: 0.3971\n",
            "Epoch 18/100\n",
            "\u001b[1m750/750\u001b[0m \u001b[32m━━━━━━━━━━━━━━━━━━━━\u001b[0m\u001b[37m\u001b[0m \u001b[1m2s\u001b[0m 2ms/step - accuracy: 0.8672 - loss: 0.3754 - val_accuracy: 0.8583 - val_loss: 0.4063\n",
            "Epoch 19/100\n",
            "\u001b[1m750/750\u001b[0m \u001b[32m━━━━━━━━━━━━━━━━━━━━\u001b[0m\u001b[37m\u001b[0m \u001b[1m2s\u001b[0m 2ms/step - accuracy: 0.8712 - loss: 0.3648 - val_accuracy: 0.8673 - val_loss: 0.3830\n",
            "Epoch 20/100\n",
            "\u001b[1m750/750\u001b[0m \u001b[32m━━━━━━━━━━━━━━━━━━━━\u001b[0m\u001b[37m\u001b[0m \u001b[1m2s\u001b[0m 2ms/step - accuracy: 0.8732 - loss: 0.3595 - val_accuracy: 0.8663 - val_loss: 0.3855\n",
            "Epoch 21/100\n",
            "\u001b[1m750/750\u001b[0m \u001b[32m━━━━━━━━━━━━━━━━━━━━\u001b[0m\u001b[37m\u001b[0m \u001b[1m2s\u001b[0m 2ms/step - accuracy: 0.8752 - loss: 0.3555 - val_accuracy: 0.8668 - val_loss: 0.3766\n",
            "Epoch 22/100\n",
            "\u001b[1m750/750\u001b[0m \u001b[32m━━━━━━━━━━━━━━━━━━━━\u001b[0m\u001b[37m\u001b[0m \u001b[1m2s\u001b[0m 2ms/step - accuracy: 0.8739 - loss: 0.3599 - val_accuracy: 0.8525 - val_loss: 0.4046\n",
            "Epoch 23/100\n",
            "\u001b[1m750/750\u001b[0m \u001b[32m━━━━━━━━━━━━━━━━━━━━\u001b[0m\u001b[37m\u001b[0m \u001b[1m2s\u001b[0m 2ms/step - accuracy: 0.8757 - loss: 0.3508 - val_accuracy: 0.8631 - val_loss: 0.3816\n",
            "Epoch 24/100\n",
            "\u001b[1m750/750\u001b[0m \u001b[32m━━━━━━━━━━━━━━━━━━━━\u001b[0m\u001b[37m\u001b[0m \u001b[1m2s\u001b[0m 2ms/step - accuracy: 0.8769 - loss: 0.3467 - val_accuracy: 0.8594 - val_loss: 0.3912\n",
            "Epoch 25/100\n",
            "\u001b[1m750/750\u001b[0m \u001b[32m━━━━━━━━━━━━━━━━━━━━\u001b[0m\u001b[37m\u001b[0m \u001b[1m2s\u001b[0m 2ms/step - accuracy: 0.8767 - loss: 0.3460 - val_accuracy: 0.8662 - val_loss: 0.3789\n",
            "Epoch 26/100\n",
            "\u001b[1m750/750\u001b[0m \u001b[32m━━━━━━━━━━━━━━━━━━━━\u001b[0m\u001b[37m\u001b[0m \u001b[1m2s\u001b[0m 2ms/step - accuracy: 0.8820 - loss: 0.3348 - val_accuracy: 0.8732 - val_loss: 0.3644\n",
            "Epoch 27/100\n",
            "\u001b[1m750/750\u001b[0m \u001b[32m━━━━━━━━━━━━━━━━━━━━\u001b[0m\u001b[37m\u001b[0m \u001b[1m2s\u001b[0m 2ms/step - accuracy: 0.8832 - loss: 0.3346 - val_accuracy: 0.8692 - val_loss: 0.3721\n",
            "Epoch 28/100\n",
            "\u001b[1m750/750\u001b[0m \u001b[32m━━━━━━━━━━━━━━━━━━━━\u001b[0m\u001b[37m\u001b[0m \u001b[1m2s\u001b[0m 3ms/step - accuracy: 0.8821 - loss: 0.3331 - val_accuracy: 0.8689 - val_loss: 0.3706\n",
            "Epoch 29/100\n",
            "\u001b[1m750/750\u001b[0m \u001b[32m━━━━━━━━━━━━━━━━━━━━\u001b[0m\u001b[37m\u001b[0m \u001b[1m2s\u001b[0m 2ms/step - accuracy: 0.8865 - loss: 0.3238 - val_accuracy: 0.8695 - val_loss: 0.3718\n",
            "Epoch 30/100\n",
            "\u001b[1m750/750\u001b[0m \u001b[32m━━━━━━━━━━━━━━━━━━━━\u001b[0m\u001b[37m\u001b[0m \u001b[1m2s\u001b[0m 2ms/step - accuracy: 0.8833 - loss: 0.3281 - val_accuracy: 0.8528 - val_loss: 0.4074\n",
            "Epoch 31/100\n",
            "\u001b[1m750/750\u001b[0m \u001b[32m━━━━━━━━━━━━━━━━━━━━\u001b[0m\u001b[37m\u001b[0m \u001b[1m2s\u001b[0m 2ms/step - accuracy: 0.8865 - loss: 0.3224 - val_accuracy: 0.8728 - val_loss: 0.3593\n",
            "Epoch 32/100\n",
            "\u001b[1m750/750\u001b[0m \u001b[32m━━━━━━━━━━━━━━━━━━━━\u001b[0m\u001b[37m\u001b[0m \u001b[1m2s\u001b[0m 2ms/step - accuracy: 0.8839 - loss: 0.3196 - val_accuracy: 0.8754 - val_loss: 0.3551\n",
            "Epoch 33/100\n",
            "\u001b[1m750/750\u001b[0m \u001b[32m━━━━━━━━━━━━━━━━━━━━\u001b[0m\u001b[37m\u001b[0m \u001b[1m2s\u001b[0m 2ms/step - accuracy: 0.8866 - loss: 0.3218 - val_accuracy: 0.8735 - val_loss: 0.3583\n",
            "Epoch 34/100\n",
            "\u001b[1m750/750\u001b[0m \u001b[32m━━━━━━━━━━━━━━━━━━━━\u001b[0m\u001b[37m\u001b[0m \u001b[1m2s\u001b[0m 2ms/step - accuracy: 0.8864 - loss: 0.3181 - val_accuracy: 0.8703 - val_loss: 0.3598\n",
            "Epoch 35/100\n",
            "\u001b[1m750/750\u001b[0m \u001b[32m━━━━━━━━━━━━━━━━━━━━\u001b[0m\u001b[37m\u001b[0m \u001b[1m2s\u001b[0m 2ms/step - accuracy: 0.8865 - loss: 0.3177 - val_accuracy: 0.8732 - val_loss: 0.3527\n",
            "Epoch 36/100\n",
            "\u001b[1m750/750\u001b[0m \u001b[32m━━━━━━━━━━━━━━━━━━━━\u001b[0m\u001b[37m\u001b[0m \u001b[1m2s\u001b[0m 3ms/step - accuracy: 0.8918 - loss: 0.3100 - val_accuracy: 0.8736 - val_loss: 0.3565\n",
            "Epoch 37/100\n",
            "\u001b[1m750/750\u001b[0m \u001b[32m━━━━━━━━━━━━━━━━━━━━\u001b[0m\u001b[37m\u001b[0m \u001b[1m2s\u001b[0m 3ms/step - accuracy: 0.8921 - loss: 0.3034 - val_accuracy: 0.8758 - val_loss: 0.3543\n",
            "Epoch 38/100\n",
            "\u001b[1m750/750\u001b[0m \u001b[32m━━━━━━━━━━━━━━━━━━━━\u001b[0m\u001b[37m\u001b[0m \u001b[1m2s\u001b[0m 2ms/step - accuracy: 0.8897 - loss: 0.3086 - val_accuracy: 0.8723 - val_loss: 0.3584\n",
            "Epoch 39/100\n",
            "\u001b[1m750/750\u001b[0m \u001b[32m━━━━━━━━━━━━━━━━━━━━\u001b[0m\u001b[37m\u001b[0m \u001b[1m2s\u001b[0m 3ms/step - accuracy: 0.8924 - loss: 0.3038 - val_accuracy: 0.8801 - val_loss: 0.3457\n",
            "Epoch 40/100\n",
            "\u001b[1m750/750\u001b[0m \u001b[32m━━━━━━━━━━━━━━━━━━━━\u001b[0m\u001b[37m\u001b[0m \u001b[1m2s\u001b[0m 2ms/step - accuracy: 0.8930 - loss: 0.3027 - val_accuracy: 0.8716 - val_loss: 0.3704\n",
            "Epoch 41/100\n",
            "\u001b[1m750/750\u001b[0m \u001b[32m━━━━━━━━━━━━━━━━━━━━\u001b[0m\u001b[37m\u001b[0m \u001b[1m2s\u001b[0m 2ms/step - accuracy: 0.8941 - loss: 0.3000 - val_accuracy: 0.8747 - val_loss: 0.3491\n",
            "Epoch 42/100\n",
            "\u001b[1m750/750\u001b[0m \u001b[32m━━━━━━━━━━━━━━━━━━━━\u001b[0m\u001b[37m\u001b[0m \u001b[1m2s\u001b[0m 2ms/step - accuracy: 0.8957 - loss: 0.2925 - val_accuracy: 0.8728 - val_loss: 0.3491\n",
            "Epoch 43/100\n",
            "\u001b[1m750/750\u001b[0m \u001b[32m━━━━━━━━━━━━━━━━━━━━\u001b[0m\u001b[37m\u001b[0m \u001b[1m2s\u001b[0m 2ms/step - accuracy: 0.8951 - loss: 0.2919 - val_accuracy: 0.8767 - val_loss: 0.3415\n",
            "Epoch 44/100\n",
            "\u001b[1m750/750\u001b[0m \u001b[32m━━━━━━━━━━━━━━━━━━━━\u001b[0m\u001b[37m\u001b[0m \u001b[1m2s\u001b[0m 3ms/step - accuracy: 0.8943 - loss: 0.2973 - val_accuracy: 0.8684 - val_loss: 0.3637\n",
            "Epoch 45/100\n",
            "\u001b[1m750/750\u001b[0m \u001b[32m━━━━━━━━━━━━━━━━━━━━\u001b[0m\u001b[37m\u001b[0m \u001b[1m2s\u001b[0m 2ms/step - accuracy: 0.8968 - loss: 0.2880 - val_accuracy: 0.8787 - val_loss: 0.3414\n",
            "Epoch 46/100\n",
            "\u001b[1m750/750\u001b[0m \u001b[32m━━━━━━━━━━━━━━━━━━━━\u001b[0m\u001b[37m\u001b[0m \u001b[1m2s\u001b[0m 2ms/step - accuracy: 0.8942 - loss: 0.2934 - val_accuracy: 0.8755 - val_loss: 0.3496\n",
            "Epoch 47/100\n",
            "\u001b[1m750/750\u001b[0m \u001b[32m━━━━━━━━━━━━━━━━━━━━\u001b[0m\u001b[37m\u001b[0m \u001b[1m2s\u001b[0m 2ms/step - accuracy: 0.8988 - loss: 0.2865 - val_accuracy: 0.8742 - val_loss: 0.3475\n",
            "Epoch 48/100\n",
            "\u001b[1m750/750\u001b[0m \u001b[32m━━━━━━━━━━━━━━━━━━━━\u001b[0m\u001b[37m\u001b[0m \u001b[1m2s\u001b[0m 2ms/step - accuracy: 0.8988 - loss: 0.2860 - val_accuracy: 0.8767 - val_loss: 0.3375\n",
            "Epoch 49/100\n",
            "\u001b[1m750/750\u001b[0m \u001b[32m━━━━━━━━━━━━━━━━━━━━\u001b[0m\u001b[37m\u001b[0m \u001b[1m2s\u001b[0m 2ms/step - accuracy: 0.8981 - loss: 0.2900 - val_accuracy: 0.8772 - val_loss: 0.3468\n",
            "Epoch 50/100\n",
            "\u001b[1m750/750\u001b[0m \u001b[32m━━━━━━━━━━━━━━━━━━━━\u001b[0m\u001b[37m\u001b[0m \u001b[1m2s\u001b[0m 2ms/step - accuracy: 0.9013 - loss: 0.2782 - val_accuracy: 0.8783 - val_loss: 0.3351\n",
            "Epoch 51/100\n",
            "\u001b[1m750/750\u001b[0m \u001b[32m━━━━━━━━━━━━━━━━━━━━\u001b[0m\u001b[37m\u001b[0m \u001b[1m2s\u001b[0m 2ms/step - accuracy: 0.8997 - loss: 0.2808 - val_accuracy: 0.8742 - val_loss: 0.3522\n",
            "Epoch 52/100\n",
            "\u001b[1m750/750\u001b[0m \u001b[32m━━━━━━━━━━━━━━━━━━━━\u001b[0m\u001b[37m\u001b[0m \u001b[1m2s\u001b[0m 2ms/step - accuracy: 0.9004 - loss: 0.2741 - val_accuracy: 0.8795 - val_loss: 0.3370\n",
            "Epoch 53/100\n",
            "\u001b[1m750/750\u001b[0m \u001b[32m━━━━━━━━━━━━━━━━━━━━\u001b[0m\u001b[37m\u001b[0m \u001b[1m2s\u001b[0m 2ms/step - accuracy: 0.9043 - loss: 0.2703 - val_accuracy: 0.8778 - val_loss: 0.3398\n",
            "Epoch 54/100\n",
            "\u001b[1m750/750\u001b[0m \u001b[32m━━━━━━━━━━━━━━━━━━━━\u001b[0m\u001b[37m\u001b[0m \u001b[1m2s\u001b[0m 2ms/step - accuracy: 0.9058 - loss: 0.2699 - val_accuracy: 0.8772 - val_loss: 0.3444\n",
            "Epoch 55/100\n",
            "\u001b[1m750/750\u001b[0m \u001b[32m━━━━━━━━━━━━━━━━━━━━\u001b[0m\u001b[37m\u001b[0m \u001b[1m2s\u001b[0m 2ms/step - accuracy: 0.9043 - loss: 0.2670 - val_accuracy: 0.8813 - val_loss: 0.3336\n",
            "Epoch 56/100\n",
            "\u001b[1m750/750\u001b[0m \u001b[32m━━━━━━━━━━━━━━━━━━━━\u001b[0m\u001b[37m\u001b[0m \u001b[1m2s\u001b[0m 2ms/step - accuracy: 0.9013 - loss: 0.2744 - val_accuracy: 0.8735 - val_loss: 0.3513\n",
            "Epoch 57/100\n",
            "\u001b[1m750/750\u001b[0m \u001b[32m━━━━━━━━━━━━━━━━━━━━\u001b[0m\u001b[37m\u001b[0m \u001b[1m2s\u001b[0m 2ms/step - accuracy: 0.9042 - loss: 0.2699 - val_accuracy: 0.8798 - val_loss: 0.3386\n",
            "Epoch 58/100\n",
            "\u001b[1m750/750\u001b[0m \u001b[32m━━━━━━━━━━━━━━━━━━━━\u001b[0m\u001b[37m\u001b[0m \u001b[1m2s\u001b[0m 2ms/step - accuracy: 0.9038 - loss: 0.2647 - val_accuracy: 0.8748 - val_loss: 0.3507\n",
            "Epoch 59/100\n",
            "\u001b[1m750/750\u001b[0m \u001b[32m━━━━━━━━━━━━━━━━━━━━\u001b[0m\u001b[37m\u001b[0m \u001b[1m2s\u001b[0m 2ms/step - accuracy: 0.9031 - loss: 0.2682 - val_accuracy: 0.8790 - val_loss: 0.3417\n",
            "Epoch 60/100\n",
            "\u001b[1m750/750\u001b[0m \u001b[32m━━━━━━━━━━━━━━━━━━━━\u001b[0m\u001b[37m\u001b[0m \u001b[1m2s\u001b[0m 3ms/step - accuracy: 0.9047 - loss: 0.2658 - val_accuracy: 0.8796 - val_loss: 0.3411\n",
            "Epoch 61/100\n",
            "\u001b[1m750/750\u001b[0m \u001b[32m━━━━━━━━━━━━━━━━━━━━\u001b[0m\u001b[37m\u001b[0m \u001b[1m2s\u001b[0m 3ms/step - accuracy: 0.9077 - loss: 0.2588 - val_accuracy: 0.8808 - val_loss: 0.3336\n",
            "Epoch 62/100\n",
            "\u001b[1m750/750\u001b[0m \u001b[32m━━━━━━━━━━━━━━━━━━━━\u001b[0m\u001b[37m\u001b[0m \u001b[1m2s\u001b[0m 2ms/step - accuracy: 0.9048 - loss: 0.2612 - val_accuracy: 0.8746 - val_loss: 0.3484\n",
            "Epoch 63/100\n",
            "\u001b[1m750/750\u001b[0m \u001b[32m━━━━━━━━━━━━━━━━━━━━\u001b[0m\u001b[37m\u001b[0m \u001b[1m2s\u001b[0m 2ms/step - accuracy: 0.9077 - loss: 0.2636 - val_accuracy: 0.8760 - val_loss: 0.3409\n",
            "Epoch 64/100\n",
            "\u001b[1m750/750\u001b[0m \u001b[32m━━━━━━━━━━━━━━━━━━━━\u001b[0m\u001b[37m\u001b[0m \u001b[1m2s\u001b[0m 2ms/step - accuracy: 0.9100 - loss: 0.2559 - val_accuracy: 0.8808 - val_loss: 0.3331\n",
            "Epoch 65/100\n",
            "\u001b[1m750/750\u001b[0m \u001b[32m━━━━━━━━━━━━━━━━━━━━\u001b[0m\u001b[37m\u001b[0m \u001b[1m2s\u001b[0m 2ms/step - accuracy: 0.9093 - loss: 0.2538 - val_accuracy: 0.8830 - val_loss: 0.3310\n",
            "Epoch 66/100\n",
            "\u001b[1m750/750\u001b[0m \u001b[32m━━━━━━━━━━━━━━━━━━━━\u001b[0m\u001b[37m\u001b[0m \u001b[1m2s\u001b[0m 2ms/step - accuracy: 0.9080 - loss: 0.2550 - val_accuracy: 0.8723 - val_loss: 0.3604\n",
            "Epoch 67/100\n",
            "\u001b[1m750/750\u001b[0m \u001b[32m━━━━━━━━━━━━━━━━━━━━\u001b[0m\u001b[37m\u001b[0m \u001b[1m2s\u001b[0m 2ms/step - accuracy: 0.9100 - loss: 0.2516 - val_accuracy: 0.8855 - val_loss: 0.3308\n",
            "Epoch 68/100\n",
            "\u001b[1m750/750\u001b[0m \u001b[32m━━━━━━━━━━━━━━━━━━━━\u001b[0m\u001b[37m\u001b[0m \u001b[1m2s\u001b[0m 2ms/step - accuracy: 0.9096 - loss: 0.2507 - val_accuracy: 0.8826 - val_loss: 0.3298\n",
            "Epoch 69/100\n",
            "\u001b[1m750/750\u001b[0m \u001b[32m━━━━━━━━━━━━━━━━━━━━\u001b[0m\u001b[37m\u001b[0m \u001b[1m2s\u001b[0m 2ms/step - accuracy: 0.9096 - loss: 0.2513 - val_accuracy: 0.8818 - val_loss: 0.3335\n",
            "Epoch 70/100\n",
            "\u001b[1m750/750\u001b[0m \u001b[32m━━━━━━━━━━━━━━━━━━━━\u001b[0m\u001b[37m\u001b[0m \u001b[1m2s\u001b[0m 2ms/step - accuracy: 0.9119 - loss: 0.2472 - val_accuracy: 0.8842 - val_loss: 0.3324\n",
            "Epoch 71/100\n",
            "\u001b[1m750/750\u001b[0m \u001b[32m━━━━━━━━━━━━━━━━━━━━\u001b[0m\u001b[37m\u001b[0m \u001b[1m2s\u001b[0m 3ms/step - accuracy: 0.9131 - loss: 0.2453 - val_accuracy: 0.8827 - val_loss: 0.3412\n",
            "Epoch 72/100\n",
            "\u001b[1m750/750\u001b[0m \u001b[32m━━━━━━━━━━━━━━━━━━━━\u001b[0m\u001b[37m\u001b[0m \u001b[1m2s\u001b[0m 3ms/step - accuracy: 0.9128 - loss: 0.2447 - val_accuracy: 0.8781 - val_loss: 0.3398\n",
            "Epoch 73/100\n",
            "\u001b[1m750/750\u001b[0m \u001b[32m━━━━━━━━━━━━━━━━━━━━\u001b[0m\u001b[37m\u001b[0m \u001b[1m2s\u001b[0m 2ms/step - accuracy: 0.9137 - loss: 0.2437 - val_accuracy: 0.8833 - val_loss: 0.3336\n",
            "Epoch 74/100\n",
            "\u001b[1m750/750\u001b[0m \u001b[32m━━━━━━━━━━━━━━━━━━━━\u001b[0m\u001b[37m\u001b[0m \u001b[1m2s\u001b[0m 2ms/step - accuracy: 0.9147 - loss: 0.2412 - val_accuracy: 0.8828 - val_loss: 0.3338\n",
            "Epoch 75/100\n",
            "\u001b[1m750/750\u001b[0m \u001b[32m━━━━━━━━━━━━━━━━━━━━\u001b[0m\u001b[37m\u001b[0m \u001b[1m2s\u001b[0m 2ms/step - accuracy: 0.9145 - loss: 0.2401 - val_accuracy: 0.8804 - val_loss: 0.3463\n",
            "Epoch 76/100\n",
            "\u001b[1m750/750\u001b[0m \u001b[32m━━━━━━━━━━━━━━━━━━━━\u001b[0m\u001b[37m\u001b[0m \u001b[1m2s\u001b[0m 2ms/step - accuracy: 0.9147 - loss: 0.2422 - val_accuracy: 0.8818 - val_loss: 0.3377\n",
            "Epoch 77/100\n",
            "\u001b[1m750/750\u001b[0m \u001b[32m━━━━━━━━━━━━━━━━━━━━\u001b[0m\u001b[37m\u001b[0m \u001b[1m2s\u001b[0m 3ms/step - accuracy: 0.9165 - loss: 0.2365 - val_accuracy: 0.8831 - val_loss: 0.3318\n",
            "Epoch 78/100\n",
            "\u001b[1m750/750\u001b[0m \u001b[32m━━━━━━━━━━━━━━━━━━━━\u001b[0m\u001b[37m\u001b[0m \u001b[1m2s\u001b[0m 2ms/step - accuracy: 0.9171 - loss: 0.2370 - val_accuracy: 0.8808 - val_loss: 0.3342\n",
            "Epoch 79/100\n",
            "\u001b[1m750/750\u001b[0m \u001b[32m━━━━━━━━━━━━━━━━━━━━\u001b[0m\u001b[37m\u001b[0m \u001b[1m2s\u001b[0m 2ms/step - accuracy: 0.9145 - loss: 0.2393 - val_accuracy: 0.8882 - val_loss: 0.3285\n",
            "Epoch 80/100\n",
            "\u001b[1m750/750\u001b[0m \u001b[32m━━━━━━━━━━━━━━━━━━━━\u001b[0m\u001b[37m\u001b[0m \u001b[1m2s\u001b[0m 2ms/step - accuracy: 0.9170 - loss: 0.2345 - val_accuracy: 0.8848 - val_loss: 0.3272\n",
            "Epoch 81/100\n",
            "\u001b[1m750/750\u001b[0m \u001b[32m━━━━━━━━━━━━━━━━━━━━\u001b[0m\u001b[37m\u001b[0m \u001b[1m2s\u001b[0m 2ms/step - accuracy: 0.9158 - loss: 0.2331 - val_accuracy: 0.8683 - val_loss: 0.3734\n",
            "Epoch 82/100\n",
            "\u001b[1m750/750\u001b[0m \u001b[32m━━━━━━━━━━━━━━━━━━━━\u001b[0m\u001b[37m\u001b[0m \u001b[1m2s\u001b[0m 2ms/step - accuracy: 0.9169 - loss: 0.2315 - val_accuracy: 0.8832 - val_loss: 0.3342\n",
            "Epoch 83/100\n",
            "\u001b[1m750/750\u001b[0m \u001b[32m━━━━━━━━━━━━━━━━━━━━\u001b[0m\u001b[37m\u001b[0m \u001b[1m2s\u001b[0m 2ms/step - accuracy: 0.9167 - loss: 0.2315 - val_accuracy: 0.8863 - val_loss: 0.3333\n",
            "Epoch 84/100\n",
            "\u001b[1m750/750\u001b[0m \u001b[32m━━━━━━━━━━━━━━━━━━━━\u001b[0m\u001b[37m\u001b[0m \u001b[1m2s\u001b[0m 2ms/step - accuracy: 0.9184 - loss: 0.2275 - val_accuracy: 0.8825 - val_loss: 0.3373\n",
            "Epoch 85/100\n",
            "\u001b[1m750/750\u001b[0m \u001b[32m━━━━━━━━━━━━━━━━━━━━\u001b[0m\u001b[37m\u001b[0m \u001b[1m2s\u001b[0m 3ms/step - accuracy: 0.9211 - loss: 0.2229 - val_accuracy: 0.8843 - val_loss: 0.3332\n",
            "Epoch 86/100\n",
            "\u001b[1m750/750\u001b[0m \u001b[32m━━━━━━━━━━━━━━━━━━━━\u001b[0m\u001b[37m\u001b[0m \u001b[1m2s\u001b[0m 2ms/step - accuracy: 0.9198 - loss: 0.2253 - val_accuracy: 0.8719 - val_loss: 0.3659\n",
            "Epoch 87/100\n",
            "\u001b[1m750/750\u001b[0m \u001b[32m━━━━━━━━━━━━━━━━━━━━\u001b[0m\u001b[37m\u001b[0m \u001b[1m2s\u001b[0m 3ms/step - accuracy: 0.9185 - loss: 0.2288 - val_accuracy: 0.8857 - val_loss: 0.3331\n",
            "Epoch 88/100\n",
            "\u001b[1m750/750\u001b[0m \u001b[32m━━━━━━━━━━━━━━━━━━━━\u001b[0m\u001b[37m\u001b[0m \u001b[1m2s\u001b[0m 2ms/step - accuracy: 0.9171 - loss: 0.2259 - val_accuracy: 0.8859 - val_loss: 0.3289\n",
            "Epoch 89/100\n",
            "\u001b[1m750/750\u001b[0m \u001b[32m━━━━━━━━━━━━━━━━━━━━\u001b[0m\u001b[37m\u001b[0m \u001b[1m2s\u001b[0m 3ms/step - accuracy: 0.9199 - loss: 0.2239 - val_accuracy: 0.8854 - val_loss: 0.3335\n",
            "Epoch 90/100\n",
            "\u001b[1m750/750\u001b[0m \u001b[32m━━━━━━━━━━━━━━━━━━━━\u001b[0m\u001b[37m\u001b[0m \u001b[1m2s\u001b[0m 2ms/step - accuracy: 0.9248 - loss: 0.2148 - val_accuracy: 0.8864 - val_loss: 0.3287\n",
            "Epoch 91/100\n",
            "\u001b[1m750/750\u001b[0m \u001b[32m━━━━━━━━━━━━━━━━━━━━\u001b[0m\u001b[37m\u001b[0m \u001b[1m2s\u001b[0m 2ms/step - accuracy: 0.9217 - loss: 0.2197 - val_accuracy: 0.8857 - val_loss: 0.3278\n",
            "Epoch 92/100\n",
            "\u001b[1m750/750\u001b[0m \u001b[32m━━━━━━━━━━━━━━━━━━━━\u001b[0m\u001b[37m\u001b[0m \u001b[1m2s\u001b[0m 2ms/step - accuracy: 0.9204 - loss: 0.2233 - val_accuracy: 0.8807 - val_loss: 0.3424\n",
            "Epoch 93/100\n",
            "\u001b[1m750/750\u001b[0m \u001b[32m━━━━━━━━━━━━━━━━━━━━\u001b[0m\u001b[37m\u001b[0m \u001b[1m2s\u001b[0m 3ms/step - accuracy: 0.9206 - loss: 0.2208 - val_accuracy: 0.8860 - val_loss: 0.3329\n",
            "Epoch 94/100\n",
            "\u001b[1m750/750\u001b[0m \u001b[32m━━━━━━━━━━━━━━━━━━━━\u001b[0m\u001b[37m\u001b[0m \u001b[1m2s\u001b[0m 2ms/step - accuracy: 0.9202 - loss: 0.2209 - val_accuracy: 0.8789 - val_loss: 0.3511\n",
            "Epoch 95/100\n",
            "\u001b[1m750/750\u001b[0m \u001b[32m━━━━━━━━━━━━━━━━━━━━\u001b[0m\u001b[37m\u001b[0m \u001b[1m2s\u001b[0m 2ms/step - accuracy: 0.9196 - loss: 0.2232 - val_accuracy: 0.8871 - val_loss: 0.3273\n",
            "Epoch 96/100\n",
            "\u001b[1m750/750\u001b[0m \u001b[32m━━━━━━━━━━━━━━━━━━━━\u001b[0m\u001b[37m\u001b[0m \u001b[1m2s\u001b[0m 2ms/step - accuracy: 0.9266 - loss: 0.2093 - val_accuracy: 0.8839 - val_loss: 0.3389\n",
            "Epoch 97/100\n",
            "\u001b[1m750/750\u001b[0m \u001b[32m━━━━━━━━━━━━━━━━━━━━\u001b[0m\u001b[37m\u001b[0m \u001b[1m2s\u001b[0m 2ms/step - accuracy: 0.9247 - loss: 0.2152 - val_accuracy: 0.8878 - val_loss: 0.3293\n",
            "Epoch 98/100\n",
            "\u001b[1m750/750\u001b[0m \u001b[32m━━━━━━━━━━━━━━━━━━━━\u001b[0m\u001b[37m\u001b[0m \u001b[1m2s\u001b[0m 2ms/step - accuracy: 0.9251 - loss: 0.2107 - val_accuracy: 0.8858 - val_loss: 0.3321\n",
            "Epoch 99/100\n",
            "\u001b[1m750/750\u001b[0m \u001b[32m━━━━━━━━━━━━━━━━━━━━\u001b[0m\u001b[37m\u001b[0m \u001b[1m2s\u001b[0m 2ms/step - accuracy: 0.9246 - loss: 0.2121 - val_accuracy: 0.8810 - val_loss: 0.3439\n",
            "Epoch 100/100\n",
            "\u001b[1m750/750\u001b[0m \u001b[32m━━━━━━━━━━━━━━━━━━━━\u001b[0m\u001b[37m\u001b[0m \u001b[1m2s\u001b[0m 2ms/step - accuracy: 0.9243 - loss: 0.2123 - val_accuracy: 0.8852 - val_loss: 0.3301\n"
          ]
        }
      ],
      "source": [
        "# Training the model.\n",
        "training = model_1.fit(X_train, Y_train, batch_size=64, epochs=100, validation_split=0.2)"
      ]
    },
    {
      "cell_type": "code",
      "execution_count": null,
      "metadata": {
        "colab": {
          "base_uri": "https://localhost:8080/"
        },
        "execution": {
          "iopub.execute_input": "2025-03-19T06:27:45.083753Z",
          "iopub.status.busy": "2025-03-19T06:27:45.083390Z",
          "iopub.status.idle": "2025-03-19T06:27:45.090971Z",
          "shell.execute_reply": "2025-03-19T06:27:45.089843Z",
          "shell.execute_reply.started": "2025-03-19T06:27:45.083720Z"
        },
        "id": "Z-tZIj-ASM8Q",
        "outputId": "25712f34-3859-48c0-ebae-9df22ee21417"
      },
      "outputs": [
        {
          "name": "stdout",
          "output_type": "stream",
          "text": [
            "dict_keys(['accuracy', 'loss', 'val_accuracy', 'val_loss'])\n"
          ]
        }
      ],
      "source": [
        "import matplotlib.pyplot as plt\n",
        "%matplotlib inline\n",
        "# list all data in training\n",
        "print(training.history.keys())"
      ]
    },
    {
      "cell_type": "code",
      "execution_count": null,
      "metadata": {
        "colab": {
          "base_uri": "https://localhost:8080/",
          "height": 472
        },
        "execution": {
          "iopub.execute_input": "2025-03-19T06:27:45.092226Z",
          "iopub.status.busy": "2025-03-19T06:27:45.091877Z",
          "iopub.status.idle": "2025-03-19T06:27:45.324326Z",
          "shell.execute_reply": "2025-03-19T06:27:45.323437Z",
          "shell.execute_reply.started": "2025-03-19T06:27:45.092165Z"
        },
        "id": "rxr-WdK1SO3n",
        "outputId": "f2a87380-6609-4b00-a857-611f68172bb1"
      },
      "outputs": [
        {
          "data": {
            "image/png": "[encoded data removed]",
            "text/plain": [
              "<Figure size 640x480 with 1 Axes>"
            ]
          },
          "metadata": {},
          "output_type": "display_data"
        }
      ],
      "source": [
        "# summarize training for accuracy\n",
        "plt.plot(training.history['accuracy'])\n",
        "plt.plot(training.history['val_accuracy'])\n",
        "plt.title('model accuracy')\n",
        "plt.ylabel('accuracy')\n",
        "plt.xlabel('epoch')\n",
        "plt.legend(['train', 'test'], loc='upper left')\n",
        "plt.show()"
      ]
    },
    {
      "cell_type": "code",
      "execution_count": null,
      "metadata": {
        "colab": {
          "base_uri": "https://localhost:8080/",
          "height": 472
        },
        "execution": {
          "iopub.execute_input": "2025-03-19T06:27:45.326068Z",
          "iopub.status.busy": "2025-03-19T06:27:45.325643Z",
          "iopub.status.idle": "2025-03-19T06:27:45.534388Z",
          "shell.execute_reply": "2025-03-19T06:27:45.533295Z",
          "shell.execute_reply.started": "2025-03-19T06:27:45.326024Z"
        },
        "id": "0W6J4tagfCYR",
        "outputId": "1a0a26d8-ccba-40fd-d9aa-b60fb55a7847"
      },
      "outputs": [
        {
          "data": {
            "image/png": "[encoded data removed]",
            "text/plain": [
              "<Figure size 640x480 with 1 Axes>"
            ]
          },
          "metadata": {},
          "output_type": "display_data"
        }
      ],
      "source": [
        "# summarize traning for loss\n",
        "plt.plot(training.history['loss'])\n",
        "plt.plot(training.history['val_loss'])\n",
        "plt.title('model loss')\n",
        "plt.ylabel('loss')\n",
        "plt.xlabel('epoch')\n",
        "plt.legend(['train', 'test'], loc='upper left')\n",
        "plt.show()"
      ]
    },
    {
      "cell_type": "code",
      "execution_count": null,
      "metadata": {
        "colab": {
          "base_uri": "https://localhost:8080/"
        },
        "execution": {
          "iopub.execute_input": "2025-03-19T06:27:45.535903Z",
          "iopub.status.busy": "2025-03-19T06:27:45.535554Z",
          "iopub.status.idle": "2025-03-19T06:27:46.092588Z",
          "shell.execute_reply": "2025-03-19T06:27:46.091379Z",
          "shell.execute_reply.started": "2025-03-19T06:27:45.535875Z"
        },
        "id": "LG8UWh68fCYe",
        "outputId": "5f15195f-d511-4880-a1e1-5bac1e4e141c"
      },
      "outputs": [
        {
          "name": "stdout",
          "output_type": "stream",
          "text": [
            "\u001b[1m313/313\u001b[0m \u001b[32m━━━━━━━━━━━━━━━━━━━━\u001b[0m\u001b[37m\u001b[0m \u001b[1m0s\u001b[0m 1ms/step - accuracy: 0.8756 - loss: 0.3622\n",
            "Test accuracy: 0.8773000240325928\n"
          ]
        }
      ],
      "source": [
        "#evaluate the model\n",
        "test_loss, test_acc = model_1.evaluate(X_test, Y_test)\n",
        "print('Test accuracy:', test_acc)"
      ]
    },
    {
      "cell_type": "code",
      "execution_count": null,
      "metadata": {
        "colab": {
          "base_uri": "https://localhost:8080/"
        },
        "execution": {
          "iopub.execute_input": "2025-03-19T06:27:46.094344Z",
          "iopub.status.busy": "2025-03-19T06:27:46.093942Z",
          "iopub.status.idle": "2025-03-19T06:27:46.118737Z",
          "shell.execute_reply": "2025-03-19T06:27:46.117456Z",
          "shell.execute_reply.started": "2025-03-19T06:27:46.094304Z"
        },
        "id": "iE5uSPRvfCYq",
        "outputId": "01c57ab9-d9b8-4feb-8869-02d019bce1a8"
      },
      "outputs": [
        {
          "data": {
            "text/html": [
              "<pre style=\"white-space:pre;overflow-x:auto;line-height:normal;font-family:Menlo,'DejaVu Sans Mono',consolas,'Courier New',monospace\"><span style=\"font-weight: bold\">Model: \"sequential_1\"</span>\n",
              "</pre>\n"
            ],
            "text/plain": [
              "\u001b[1mModel: \"sequential_1\"\u001b[0m\n"
            ]
          },
          "metadata": {},
          "output_type": "display_data"
        },
        {
          "data": {
            "text/html": [
              "<pre style=\"white-space:pre;overflow-x:auto;line-height:normal;font-family:Menlo,'DejaVu Sans Mono',consolas,'Courier New',monospace\">┏━━━━━━━━━━━━━━━━━━━━━━━━━━━━━━━━━━━━━━┳━━━━━━━━━━━━━━━━━━━━━━━━━━━━━┳━━━━━━━━━━━━━━━━━┓\n",
              "┃<span style=\"font-weight: bold\"> Layer (type)                         </span>┃<span style=\"font-weight: bold\"> Output Shape                </span>┃<span style=\"font-weight: bold\">         Param # </span>┃\n",
              "┡━━━━━━━━━━━━━━━━━━━━━━━━━━━━━━━━━━━━━━╇━━━━━━━━━━━━━━━━━━━━━━━━━━━━━╇━━━━━━━━━━━━━━━━━┩\n",
              "│ dense_layer (<span style=\"color: #0087ff; text-decoration-color: #0087ff\">Dense</span>)                  │ (<span style=\"color: #00d7ff; text-decoration-color: #00d7ff\">None</span>, <span style=\"color: #00af00; text-decoration-color: #00af00\">64</span>)                  │          <span style=\"color: #00af00; text-decoration-color: #00af00\">50,240</span> │\n",
              "├──────────────────────────────────────┼─────────────────────────────┼─────────────────┤\n",
              "│ dense_layer_2 (<span style=\"color: #0087ff; text-decoration-color: #0087ff\">Dense</span>)                │ (<span style=\"color: #00d7ff; text-decoration-color: #00d7ff\">None</span>, <span style=\"color: #00af00; text-decoration-color: #00af00\">64</span>)                  │           <span style=\"color: #00af00; text-decoration-color: #00af00\">4,160</span> │\n",
              "├──────────────────────────────────────┼─────────────────────────────┼─────────────────┤\n",
              "│ dense_layer_3 (<span style=\"color: #0087ff; text-decoration-color: #0087ff\">Dense</span>)                │ (<span style=\"color: #00d7ff; text-decoration-color: #00d7ff\">None</span>, <span style=\"color: #00af00; text-decoration-color: #00af00\">10</span>)                  │             <span style=\"color: #00af00; text-decoration-color: #00af00\">650</span> │\n",
              "└──────────────────────────────────────┴─────────────────────────────┴─────────────────┘\n",
              "</pre>\n"
            ],
            "text/plain": [
              "┏━━━━━━━━━━━━━━━━━━━━━━━━━━━━━━━━━━━━━━┳━━━━━━━━━━━━━━━━━━━━━━━━━━━━━┳━━━━━━━━━━━━━━━━━┓\n",
              "┃\u001b[1m \u001b[0m\u001b[1mLayer (type)                        \u001b[0m\u001b[1m \u001b[0m┃\u001b[1m \u001b[0m\u001b[1mOutput Shape               \u001b[0m\u001b[1m \u001b[0m┃\u001b[1m \u001b[0m\u001b[1m        Param #\u001b[0m\u001b[1m \u001b[0m┃\n",
              "┡━━━━━━━━━━━━━━━━━━━━━━━━━━━━━━━━━━━━━━╇━━━━━━━━━━━━━━━━━━━━━━━━━━━━━╇━━━━━━━━━━━━━━━━━┩\n",
              "│ dense_layer (\u001b[38;5;33mDense\u001b[0m)                  │ (\u001b[38;5;45mNone\u001b[0m, \u001b[38;5;34m64\u001b[0m)                  │          \u001b[38;5;34m50,240\u001b[0m │\n",
              "├──────────────────────────────────────┼─────────────────────────────┼─────────────────┤\n",
              "│ dense_layer_2 (\u001b[38;5;33mDense\u001b[0m)                │ (\u001b[38;5;45mNone\u001b[0m, \u001b[38;5;34m64\u001b[0m)                  │           \u001b[38;5;34m4,160\u001b[0m │\n",
              "├──────────────────────────────────────┼─────────────────────────────┼─────────────────┤\n",
              "│ dense_layer_3 (\u001b[38;5;33mDense\u001b[0m)                │ (\u001b[38;5;45mNone\u001b[0m, \u001b[38;5;34m10\u001b[0m)                  │             \u001b[38;5;34m650\u001b[0m │\n",
              "└──────────────────────────────────────┴─────────────────────────────┴─────────────────┘\n"
            ]
          },
          "metadata": {},
          "output_type": "display_data"
        },
        {
          "data": {
            "text/html": [
              "<pre style=\"white-space:pre;overflow-x:auto;line-height:normal;font-family:Menlo,'DejaVu Sans Mono',consolas,'Courier New',monospace\"><span style=\"font-weight: bold\"> Total params: </span><span style=\"color: #00af00; text-decoration-color: #00af00\">55,052</span> (215.05 KB)\n",
              "</pre>\n"
            ],
            "text/plain": [
              "\u001b[1m Total params: \u001b[0m\u001b[38;5;34m55,052\u001b[0m (215.05 KB)\n"
            ]
          },
          "metadata": {},
          "output_type": "display_data"
        },
        {
          "data": {
            "text/html": [
              "<pre style=\"white-space:pre;overflow-x:auto;line-height:normal;font-family:Menlo,'DejaVu Sans Mono',consolas,'Courier New',monospace\"><span style=\"font-weight: bold\"> Trainable params: </span><span style=\"color: #00af00; text-decoration-color: #00af00\">55,050</span> (215.04 KB)\n",
              "</pre>\n"
            ],
            "text/plain": [
              "\u001b[1m Trainable params: \u001b[0m\u001b[38;5;34m55,050\u001b[0m (215.04 KB)\n"
            ]
          },
          "metadata": {},
          "output_type": "display_data"
        },
        {
          "data": {
            "text/html": [
              "<pre style=\"white-space:pre;overflow-x:auto;line-height:normal;font-family:Menlo,'DejaVu Sans Mono',consolas,'Courier New',monospace\"><span style=\"font-weight: bold\"> Non-trainable params: </span><span style=\"color: #00af00; text-decoration-color: #00af00\">0</span> (0.00 B)\n",
              "</pre>\n"
            ],
            "text/plain": [
              "\u001b[1m Non-trainable params: \u001b[0m\u001b[38;5;34m0\u001b[0m (0.00 B)\n"
            ]
          },
          "metadata": {},
          "output_type": "display_data"
        },
        {
          "data": {
            "text/html": [
              "<pre style=\"white-space:pre;overflow-x:auto;line-height:normal;font-family:Menlo,'DejaVu Sans Mono',consolas,'Courier New',monospace\"><span style=\"font-weight: bold\"> Optimizer params: </span><span style=\"color: #00af00; text-decoration-color: #00af00\">2</span> (12.00 B)\n",
              "</pre>\n"
            ],
            "text/plain": [
              "\u001b[1m Optimizer params: \u001b[0m\u001b[38;5;34m2\u001b[0m (12.00 B)\n"
            ]
          },
          "metadata": {},
          "output_type": "display_data"
        }
      ],
      "source": [
        "model_1.summary()"
      ]
    },
    {
      "cell_type": "code",
      "execution_count": null,
      "metadata": {
        "colab": {
          "base_uri": "https://localhost:8080/"
        },
        "execution": {
          "iopub.execute_input": "2025-03-19T06:27:46.126726Z",
          "iopub.status.busy": "2025-03-19T06:27:46.126371Z",
          "iopub.status.idle": "2025-03-19T06:27:46.134336Z",
          "shell.execute_reply": "2025-03-19T06:27:46.133139Z",
          "shell.execute_reply.started": "2025-03-19T06:27:46.126699Z"
        },
        "id": "p3TehZJnAlD6",
        "outputId": "6028d1e9-2872-46d8-a57f-a94d7447c39d"
      },
      "outputs": [
        {
          "data": {
            "text/plain": [
              "[<KerasVariable shape=(784, 64), dtype=float32, path=sequential_1/dense_layer/kernel>,\n",
              " <KerasVariable shape=(64,), dtype=float32, path=sequential_1/dense_layer/bias>,\n",
              " <KerasVariable shape=(64, 64), dtype=float32, path=sequential_1/dense_layer_2/kernel>,\n",
              " <KerasVariable shape=(64,), dtype=float32, path=sequential_1/dense_layer_2/bias>,\n",
              " <KerasVariable shape=(64, 10), dtype=float32, path=sequential_1/dense_layer_3/kernel>,\n",
              " <KerasVariable shape=(10,), dtype=float32, path=sequential_1/dense_layer_3/bias>]"
            ]
          },
          "execution_count": 24,
          "metadata": {},
          "output_type": "execute_result"
        }
      ],
      "source": [
        "model_1.weights"
      ]
    },
    {
      "cell_type": "markdown",
      "metadata": {
        "id": "Nw7DXcLYfZzp"
      },
      "source": [
        "### Improved Model 2 - Adding Dropout to Avoid Overfitting"
      ]
    },
    {
      "cell_type": "code",
      "execution_count": null,
      "metadata": {
        "execution": {
          "iopub.execute_input": "2025-03-19T06:27:46.137268Z",
          "iopub.status.busy": "2025-03-19T06:27:46.136917Z",
          "iopub.status.idle": "2025-03-19T06:27:46.213836Z",
          "shell.execute_reply": "2025-03-19T06:27:46.212625Z",
          "shell.execute_reply.started": "2025-03-19T06:27:46.137235Z"
        },
        "id": "AXUf6nhvBHnc"
      },
      "outputs": [],
      "source": [
        "from tensorflow.keras.layers import Dropout\n",
        "\n",
        "#Most common type of model is a stack of layers\n",
        "model_2 = tf.keras.Sequential()\n",
        "N_hidden = 128\n",
        "\n",
        "# Adds a densely-connected layer with 128 units to the model:\n",
        "model_2.add(Dense(N_hidden, name='dense_layer', input_shape=(784,), activation = 'relu'))\n",
        "model_2.add(Dropout(0.3))\n",
        "\n",
        "# Adding another dense layer:\n",
        "model_2.add(Dense(N_hidden, name='dense_layer_2', activation='relu'))\n",
        "model_2.add(Dropout(0.3))\n",
        "\n",
        "# Add an output layer with 10 output units (10 different classes):\n",
        "model_2.add(Dense(10, name='dense_layer_3', activation = 'softmax'))"
      ]
    },
    {
      "cell_type": "code",
      "execution_count": null,
      "metadata": {
        "execution": {
          "iopub.execute_input": "2025-03-19T06:27:46.215519Z",
          "iopub.status.busy": "2025-03-19T06:27:46.215113Z",
          "iopub.status.idle": "2025-03-19T06:27:46.225282Z",
          "shell.execute_reply": "2025-03-19T06:27:46.224209Z",
          "shell.execute_reply.started": "2025-03-19T06:27:46.215482Z"
        },
        "id": "wo95PYlPgBe4"
      },
      "outputs": [],
      "source": [
        "# Compiling the model.\n",
        "model_2.compile(optimizer='SGD',\n",
        "              loss='categorical_crossentropy',\n",
        "              metrics=['accuracy'])"
      ]
    },
    {
      "cell_type": "code",
      "execution_count": null,
      "metadata": {
        "colab": {
          "base_uri": "https://localhost:8080/"
        },
        "execution": {
          "iopub.execute_input": "2025-03-19T06:27:46.226970Z",
          "iopub.status.busy": "2025-03-19T06:27:46.226606Z",
          "iopub.status.idle": "2025-03-19T06:29:47.316736Z",
          "shell.execute_reply": "2025-03-19T06:29:47.315614Z",
          "shell.execute_reply.started": "2025-03-19T06:27:46.226933Z"
        },
        "id": "VfargzxGgBfI",
        "outputId": "537b9cd4-729c-4049-8d8c-48674734413b"
      },
      "outputs": [
        {
          "name": "stdout",
          "output_type": "stream",
          "text": [
            "Epoch 1/50\n",
            "\u001b[1m750/750\u001b[0m \u001b[32m━━━━━━━━━━━━━━━━━━━━\u001b[0m\u001b[37m\u001b[0m \u001b[1m3s\u001b[0m 3ms/step - accuracy: 0.4471 - loss: 1.5905 - val_accuracy: 0.7512 - val_loss: 0.7197\n",
            "Epoch 2/50\n",
            "\u001b[1m750/750\u001b[0m \u001b[32m━━━━━━━━━━━━━━━━━━━━\u001b[0m\u001b[37m\u001b[0m \u001b[1m3s\u001b[0m 3ms/step - accuracy: 0.7047 - loss: 0.8322 - val_accuracy: 0.7960 - val_loss: 0.6025\n",
            "Epoch 3/50\n",
            "\u001b[1m750/750\u001b[0m \u001b[32m━━━━━━━━━━━━━━━━━━━━\u001b[0m\u001b[37m\u001b[0m \u001b[1m2s\u001b[0m 3ms/step - accuracy: 0.7523 - loss: 0.7020 - val_accuracy: 0.8117 - val_loss: 0.5468\n",
            "Epoch 4/50\n",
            "\u001b[1m750/750\u001b[0m \u001b[32m━━━━━━━━━━━━━━━━━━━━\u001b[0m\u001b[37m\u001b[0m \u001b[1m2s\u001b[0m 3ms/step - accuracy: 0.7822 - loss: 0.6333 - val_accuracy: 0.8216 - val_loss: 0.5081\n",
            "Epoch 5/50\n",
            "\u001b[1m750/750\u001b[0m \u001b[32m━━━━━━━━━━━━━━━━━━━━\u001b[0m\u001b[37m\u001b[0m \u001b[1m2s\u001b[0m 3ms/step - accuracy: 0.7961 - loss: 0.5915 - val_accuracy: 0.8292 - val_loss: 0.4867\n",
            "Epoch 6/50\n",
            "\u001b[1m750/750\u001b[0m \u001b[32m━━━━━━━━━━━━━━━━━━━━\u001b[0m\u001b[37m\u001b[0m \u001b[1m2s\u001b[0m 3ms/step - accuracy: 0.8099 - loss: 0.5517 - val_accuracy: 0.8364 - val_loss: 0.4629\n",
            "Epoch 7/50\n",
            "\u001b[1m750/750\u001b[0m \u001b[32m━━━━━━━━━━━━━━━━━━━━\u001b[0m\u001b[37m\u001b[0m \u001b[1m2s\u001b[0m 3ms/step - accuracy: 0.8145 - loss: 0.5325 - val_accuracy: 0.8382 - val_loss: 0.4487\n",
            "Epoch 8/50\n",
            "\u001b[1m750/750\u001b[0m \u001b[32m━━━━━━━━━━━━━━━━━━━━\u001b[0m\u001b[37m\u001b[0m \u001b[1m2s\u001b[0m 3ms/step - accuracy: 0.8191 - loss: 0.5165 - val_accuracy: 0.8443 - val_loss: 0.4368\n",
            "Epoch 9/50\n",
            "\u001b[1m750/750\u001b[0m \u001b[32m━━━━━━━━━━━━━━━━━━━━\u001b[0m\u001b[37m\u001b[0m \u001b[1m2s\u001b[0m 3ms/step - accuracy: 0.8226 - loss: 0.5029 - val_accuracy: 0.8454 - val_loss: 0.4276\n",
            "Epoch 10/50\n",
            "\u001b[1m750/750\u001b[0m \u001b[32m━━━━━━━━━━━━━━━━━━━━\u001b[0m\u001b[37m\u001b[0m \u001b[1m2s\u001b[0m 3ms/step - accuracy: 0.8329 - loss: 0.4803 - val_accuracy: 0.8475 - val_loss: 0.4195\n",
            "Epoch 11/50\n",
            "\u001b[1m750/750\u001b[0m \u001b[32m━━━━━━━━━━━━━━━━━━━━\u001b[0m\u001b[37m\u001b[0m \u001b[1m2s\u001b[0m 3ms/step - accuracy: 0.8349 - loss: 0.4738 - val_accuracy: 0.8466 - val_loss: 0.4174\n",
            "Epoch 12/50\n",
            "\u001b[1m750/750\u001b[0m \u001b[32m━━━━━━━━━━━━━━━━━━━━\u001b[0m\u001b[37m\u001b[0m \u001b[1m2s\u001b[0m 3ms/step - accuracy: 0.8381 - loss: 0.4612 - val_accuracy: 0.8543 - val_loss: 0.4070\n",
            "Epoch 13/50\n",
            "\u001b[1m750/750\u001b[0m \u001b[32m━━━━━━━━━━━━━━━━━━━━\u001b[0m\u001b[37m\u001b[0m \u001b[1m2s\u001b[0m 3ms/step - accuracy: 0.8412 - loss: 0.4591 - val_accuracy: 0.8547 - val_loss: 0.4008\n",
            "Epoch 14/50\n",
            "\u001b[1m750/750\u001b[0m \u001b[32m━━━━━━━━━━━━━━━━━━━━\u001b[0m\u001b[37m\u001b[0m \u001b[1m2s\u001b[0m 3ms/step - accuracy: 0.8424 - loss: 0.4549 - val_accuracy: 0.8554 - val_loss: 0.3955\n",
            "Epoch 15/50\n",
            "\u001b[1m750/750\u001b[0m \u001b[32m━━━━━━━━━━━━━━━━━━━━\u001b[0m\u001b[37m\u001b[0m \u001b[1m2s\u001b[0m 3ms/step - accuracy: 0.8456 - loss: 0.4385 - val_accuracy: 0.8573 - val_loss: 0.3914\n",
            "Epoch 16/50\n",
            "\u001b[1m750/750\u001b[0m \u001b[32m━━━━━━━━━━━━━━━━━━━━\u001b[0m\u001b[37m\u001b[0m \u001b[1m2s\u001b[0m 3ms/step - accuracy: 0.8491 - loss: 0.4341 - val_accuracy: 0.8586 - val_loss: 0.3878\n",
            "Epoch 17/50\n",
            "\u001b[1m750/750\u001b[0m \u001b[32m━━━━━━━━━━━━━━━━━━━━\u001b[0m\u001b[37m\u001b[0m \u001b[1m2s\u001b[0m 3ms/step - accuracy: 0.8479 - loss: 0.4268 - val_accuracy: 0.8595 - val_loss: 0.3820\n",
            "Epoch 18/50\n",
            "\u001b[1m750/750\u001b[0m \u001b[32m━━━━━━━━━━━━━━━━━━━━\u001b[0m\u001b[37m\u001b[0m \u001b[1m3s\u001b[0m 3ms/step - accuracy: 0.8495 - loss: 0.4263 - val_accuracy: 0.8619 - val_loss: 0.3792\n",
            "Epoch 19/50\n",
            "\u001b[1m750/750\u001b[0m \u001b[32m━━━━━━━━━━━━━━━━━━━━\u001b[0m\u001b[37m\u001b[0m \u001b[1m3s\u001b[0m 3ms/step - accuracy: 0.8496 - loss: 0.4245 - val_accuracy: 0.8637 - val_loss: 0.3744\n",
            "Epoch 20/50\n",
            "\u001b[1m750/750\u001b[0m \u001b[32m━━━━━━━━━━━━━━━━━━━━\u001b[0m\u001b[37m\u001b[0m \u001b[1m2s\u001b[0m 3ms/step - accuracy: 0.8538 - loss: 0.4154 - val_accuracy: 0.8658 - val_loss: 0.3711\n",
            "Epoch 21/50\n",
            "\u001b[1m750/750\u001b[0m \u001b[32m━━━━━━━━━━━━━━━━━━━━\u001b[0m\u001b[37m\u001b[0m \u001b[1m2s\u001b[0m 3ms/step - accuracy: 0.8579 - loss: 0.4020 - val_accuracy: 0.8651 - val_loss: 0.3717\n",
            "Epoch 22/50\n",
            "\u001b[1m750/750\u001b[0m \u001b[32m━━━━━━━━━━━━━━━━━━━━\u001b[0m\u001b[37m\u001b[0m \u001b[1m2s\u001b[0m 3ms/step - accuracy: 0.8577 - loss: 0.4045 - val_accuracy: 0.8677 - val_loss: 0.3660\n",
            "Epoch 23/50\n",
            "\u001b[1m750/750\u001b[0m \u001b[32m━━━━━━━━━━━━━━━━━━━━\u001b[0m\u001b[37m\u001b[0m \u001b[1m2s\u001b[0m 3ms/step - accuracy: 0.8576 - loss: 0.4018 - val_accuracy: 0.8687 - val_loss: 0.3636\n",
            "Epoch 24/50\n",
            "\u001b[1m750/750\u001b[0m \u001b[32m━━━━━━━━━━━━━━━━━━━━\u001b[0m\u001b[37m\u001b[0m \u001b[1m2s\u001b[0m 3ms/step - accuracy: 0.8614 - loss: 0.3925 - val_accuracy: 0.8692 - val_loss: 0.3619\n",
            "Epoch 25/50\n",
            "\u001b[1m750/750\u001b[0m \u001b[32m━━━━━━━━━━━━━━━━━━━━\u001b[0m\u001b[37m\u001b[0m \u001b[1m3s\u001b[0m 3ms/step - accuracy: 0.8610 - loss: 0.3907 - val_accuracy: 0.8691 - val_loss: 0.3608\n",
            "Epoch 26/50\n",
            "\u001b[1m750/750\u001b[0m \u001b[32m━━━━━━━━━━━━━━━━━━━━\u001b[0m\u001b[37m\u001b[0m \u001b[1m3s\u001b[0m 3ms/step - accuracy: 0.8624 - loss: 0.3916 - val_accuracy: 0.8711 - val_loss: 0.3572\n",
            "Epoch 27/50\n",
            "\u001b[1m750/750\u001b[0m \u001b[32m━━━━━━━━━━━━━━━━━━━━\u001b[0m\u001b[37m\u001b[0m \u001b[1m3s\u001b[0m 3ms/step - accuracy: 0.8649 - loss: 0.3872 - val_accuracy: 0.8721 - val_loss: 0.3539\n",
            "Epoch 28/50\n",
            "\u001b[1m750/750\u001b[0m \u001b[32m━━━━━━━━━━━━━━━━━━━━\u001b[0m\u001b[37m\u001b[0m \u001b[1m2s\u001b[0m 3ms/step - accuracy: 0.8634 - loss: 0.3857 - val_accuracy: 0.8712 - val_loss: 0.3542\n",
            "Epoch 29/50\n",
            "\u001b[1m750/750\u001b[0m \u001b[32m━━━━━━━━━━━━━━━━━━━━\u001b[0m\u001b[37m\u001b[0m \u001b[1m2s\u001b[0m 3ms/step - accuracy: 0.8635 - loss: 0.3834 - val_accuracy: 0.8721 - val_loss: 0.3525\n",
            "Epoch 30/50\n",
            "\u001b[1m750/750\u001b[0m \u001b[32m━━━━━━━━━━━━━━━━━━━━\u001b[0m\u001b[37m\u001b[0m \u001b[1m2s\u001b[0m 3ms/step - accuracy: 0.8666 - loss: 0.3802 - val_accuracy: 0.8731 - val_loss: 0.3512\n",
            "Epoch 31/50\n",
            "\u001b[1m750/750\u001b[0m \u001b[32m━━━━━━━━━━━━━━━━━━━━\u001b[0m\u001b[37m\u001b[0m \u001b[1m3s\u001b[0m 3ms/step - accuracy: 0.8688 - loss: 0.3666 - val_accuracy: 0.8747 - val_loss: 0.3487\n",
            "Epoch 32/50\n",
            "\u001b[1m750/750\u001b[0m \u001b[32m━━━━━━━━━━━━━━━━━━━━\u001b[0m\u001b[37m\u001b[0m \u001b[1m2s\u001b[0m 3ms/step - accuracy: 0.8699 - loss: 0.3702 - val_accuracy: 0.8763 - val_loss: 0.3466\n",
            "Epoch 33/50\n",
            "\u001b[1m750/750\u001b[0m \u001b[32m━━━━━━━━━━━━━━━━━━━━\u001b[0m\u001b[37m\u001b[0m \u001b[1m2s\u001b[0m 3ms/step - accuracy: 0.8658 - loss: 0.3751 - val_accuracy: 0.8740 - val_loss: 0.3485\n",
            "Epoch 34/50\n",
            "\u001b[1m750/750\u001b[0m \u001b[32m━━━━━━━━━━━━━━━━━━━━\u001b[0m\u001b[37m\u001b[0m \u001b[1m2s\u001b[0m 3ms/step - accuracy: 0.8696 - loss: 0.3670 - val_accuracy: 0.8757 - val_loss: 0.3435\n",
            "Epoch 35/50\n",
            "\u001b[1m750/750\u001b[0m \u001b[32m━━━━━━━━━━━━━━━━━━━━\u001b[0m\u001b[37m\u001b[0m \u001b[1m2s\u001b[0m 3ms/step - accuracy: 0.8688 - loss: 0.3707 - val_accuracy: 0.8752 - val_loss: 0.3442\n",
            "Epoch 36/50\n",
            "\u001b[1m750/750\u001b[0m \u001b[32m━━━━━━━━━━━━━━━━━━━━\u001b[0m\u001b[37m\u001b[0m \u001b[1m2s\u001b[0m 3ms/step - accuracy: 0.8736 - loss: 0.3649 - val_accuracy: 0.8766 - val_loss: 0.3404\n",
            "Epoch 37/50\n",
            "\u001b[1m750/750\u001b[0m \u001b[32m━━━━━━━━━━━━━━━━━━━━\u001b[0m\u001b[37m\u001b[0m \u001b[1m2s\u001b[0m 3ms/step - accuracy: 0.8711 - loss: 0.3564 - val_accuracy: 0.8786 - val_loss: 0.3397\n",
            "Epoch 38/50\n",
            "\u001b[1m750/750\u001b[0m \u001b[32m━━━━━━━━━━━━━━━━━━━━\u001b[0m\u001b[37m\u001b[0m \u001b[1m2s\u001b[0m 3ms/step - accuracy: 0.8733 - loss: 0.3584 - val_accuracy: 0.8777 - val_loss: 0.3394\n",
            "Epoch 39/50\n",
            "\u001b[1m750/750\u001b[0m \u001b[32m━━━━━━━━━━━━━━━━━━━━\u001b[0m\u001b[37m\u001b[0m \u001b[1m2s\u001b[0m 3ms/step - accuracy: 0.8734 - loss: 0.3560 - val_accuracy: 0.8766 - val_loss: 0.3387\n",
            "Epoch 40/50\n",
            "\u001b[1m750/750\u001b[0m \u001b[32m━━━━━━━━━━━━━━━━━━━━\u001b[0m\u001b[37m\u001b[0m \u001b[1m2s\u001b[0m 3ms/step - accuracy: 0.8720 - loss: 0.3544 - val_accuracy: 0.8792 - val_loss: 0.3370\n",
            "Epoch 41/50\n",
            "\u001b[1m750/750\u001b[0m \u001b[32m━━━━━━━━━━━━━━━━━━━━\u001b[0m\u001b[37m\u001b[0m \u001b[1m2s\u001b[0m 3ms/step - accuracy: 0.8763 - loss: 0.3458 - val_accuracy: 0.8767 - val_loss: 0.3387\n",
            "Epoch 42/50\n",
            "\u001b[1m750/750\u001b[0m \u001b[32m━━━━━━━━━━━━━━━━━━━━\u001b[0m\u001b[37m\u001b[0m \u001b[1m2s\u001b[0m 3ms/step - accuracy: 0.8768 - loss: 0.3445 - val_accuracy: 0.8789 - val_loss: 0.3359\n",
            "Epoch 43/50\n",
            "\u001b[1m750/750\u001b[0m \u001b[32m━━━━━━━━━━━━━━━━━━━━\u001b[0m\u001b[37m\u001b[0m \u001b[1m2s\u001b[0m 3ms/step - accuracy: 0.8746 - loss: 0.3486 - val_accuracy: 0.8789 - val_loss: 0.3347\n",
            "Epoch 44/50\n",
            "\u001b[1m750/750\u001b[0m \u001b[32m━━━━━━━━━━━━━━━━━━━━\u001b[0m\u001b[37m\u001b[0m \u001b[1m3s\u001b[0m 4ms/step - accuracy: 0.8773 - loss: 0.3425 - val_accuracy: 0.8802 - val_loss: 0.3320\n",
            "Epoch 45/50\n",
            "\u001b[1m750/750\u001b[0m \u001b[32m━━━━━━━━━━━━━━━━━━━━\u001b[0m\u001b[37m\u001b[0m \u001b[1m3s\u001b[0m 4ms/step - accuracy: 0.8781 - loss: 0.3427 - val_accuracy: 0.8817 - val_loss: 0.3307\n",
            "Epoch 46/50\n",
            "\u001b[1m750/750\u001b[0m \u001b[32m━━━━━━━━━━━━━━━━━━━━\u001b[0m\u001b[37m\u001b[0m \u001b[1m2s\u001b[0m 3ms/step - accuracy: 0.8791 - loss: 0.3365 - val_accuracy: 0.8798 - val_loss: 0.3305\n",
            "Epoch 47/50\n",
            "\u001b[1m750/750\u001b[0m \u001b[32m━━━━━━━━━━━━━━━━━━━━\u001b[0m\u001b[37m\u001b[0m \u001b[1m2s\u001b[0m 3ms/step - accuracy: 0.8756 - loss: 0.3413 - val_accuracy: 0.8828 - val_loss: 0.3290\n",
            "Epoch 48/50\n",
            "\u001b[1m750/750\u001b[0m \u001b[32m━━━━━━━━━━━━━━━━━━━━\u001b[0m\u001b[37m\u001b[0m \u001b[1m2s\u001b[0m 3ms/step - accuracy: 0.8818 - loss: 0.3332 - val_accuracy: 0.8817 - val_loss: 0.3276\n",
            "Epoch 49/50\n",
            "\u001b[1m750/750\u001b[0m \u001b[32m━━━━━━━━━━━━━━━━━━━━\u001b[0m\u001b[37m\u001b[0m \u001b[1m2s\u001b[0m 3ms/step - accuracy: 0.8820 - loss: 0.3343 - val_accuracy: 0.8811 - val_loss: 0.3293\n",
            "Epoch 50/50\n",
            "\u001b[1m750/750\u001b[0m \u001b[32m━━━━━━━━━━━━━━━━━━━━\u001b[0m\u001b[37m\u001b[0m \u001b[1m3s\u001b[0m 3ms/step - accuracy: 0.8807 - loss: 0.3318 - val_accuracy: 0.8832 - val_loss: 0.3276\n"
          ]
        }
      ],
      "source": [
        "# Training the model.\n",
        "training = model_2.fit(X_train, Y_train, batch_size=64, epochs=50, validation_split=0.2)"
      ]
    },
    {
      "cell_type": "code",
      "execution_count": null,
      "metadata": {
        "colab": {
          "base_uri": "https://localhost:8080/"
        },
        "execution": {
          "iopub.execute_input": "2025-03-19T06:29:47.318655Z",
          "iopub.status.busy": "2025-03-19T06:29:47.318357Z",
          "iopub.status.idle": "2025-03-19T06:29:47.325542Z",
          "shell.execute_reply": "2025-03-19T06:29:47.324264Z",
          "shell.execute_reply.started": "2025-03-19T06:29:47.318630Z"
        },
        "id": "9QfbwIhAgBfX",
        "outputId": "e17b2c95-89dd-4abb-ce0d-bf8c17f850d9"
      },
      "outputs": [
        {
          "name": "stdout",
          "output_type": "stream",
          "text": [
            "dict_keys(['accuracy', 'loss', 'val_accuracy', 'val_loss'])\n"
          ]
        }
      ],
      "source": [
        "import matplotlib.pyplot as plt\n",
        "%matplotlib inline\n",
        "# list all data in training\n",
        "print(training.history.keys())"
      ]
    },
    {
      "cell_type": "code",
      "execution_count": null,
      "metadata": {
        "colab": {
          "base_uri": "https://localhost:8080/",
          "height": 472
        },
        "execution": {
          "iopub.execute_input": "2025-03-19T06:29:47.326979Z",
          "iopub.status.busy": "2025-03-19T06:29:47.326643Z",
          "iopub.status.idle": "2025-03-19T06:29:47.557947Z",
          "shell.execute_reply": "2025-03-19T06:29:47.556791Z",
          "shell.execute_reply.started": "2025-03-19T06:29:47.326952Z"
        },
        "id": "tNyjaPoxVAS3",
        "outputId": "ee496ecf-05ec-4efd-cd30-46c4a1232366"
      },
      "outputs": [
        {
          "data": {
            "image/png": "[encoded data removed]",
            "text/plain": [
              "<Figure size 640x480 with 1 Axes>"
            ]
          },
          "metadata": {},
          "output_type": "display_data"
        }
      ],
      "source": [
        "# summarize training for accuracy\n",
        "plt.plot(training.history['accuracy'])\n",
        "plt.plot(training.history['val_accuracy'])\n",
        "plt.title('model accuracy')\n",
        "plt.ylabel('accuracy')\n",
        "plt.xlabel('epoch')\n",
        "plt.legend(['train', 'test'], loc='upper left')\n",
        "plt.show()"
      ]
    },
    {
      "cell_type": "code",
      "execution_count": null,
      "metadata": {
        "colab": {
          "base_uri": "https://localhost:8080/",
          "height": 472
        },
        "execution": {
          "iopub.execute_input": "2025-03-19T06:29:47.559258Z",
          "iopub.status.busy": "2025-03-19T06:29:47.558946Z",
          "iopub.status.idle": "2025-03-19T06:29:47.777414Z",
          "shell.execute_reply": "2025-03-19T06:29:47.776356Z",
          "shell.execute_reply.started": "2025-03-19T06:29:47.559230Z"
        },
        "id": "wnLT895lFVyG",
        "outputId": "7042b379-100c-4aa9-e1e0-128678f4c09a"
      },
      "outputs": [
        {
          "data": {
            "image/png": "[encoded data removed]",
            "text/plain": [
              "<Figure size 640x480 with 1 Axes>"
            ]
          },
          "metadata": {},
          "output_type": "display_data"
        }
      ],
      "source": [
        "# summarize traning for loss\n",
        "plt.plot(training.history['loss'])\n",
        "plt.plot(training.history['val_loss'])\n",
        "plt.title('model loss')\n",
        "plt.ylabel('loss')\n",
        "plt.xlabel('epoch')\n",
        "plt.legend(['train', 'test'], loc='upper left')\n",
        "plt.show()"
      ]
    },
    {
      "cell_type": "code",
      "execution_count": null,
      "metadata": {
        "colab": {
          "base_uri": "https://localhost:8080/"
        },
        "execution": {
          "iopub.execute_input": "2025-03-19T06:29:47.778645Z",
          "iopub.status.busy": "2025-03-19T06:29:47.778373Z",
          "iopub.status.idle": "2025-03-19T06:29:47.785391Z",
          "shell.execute_reply": "2025-03-19T06:29:47.784049Z",
          "shell.execute_reply.started": "2025-03-19T06:29:47.778622Z"
        },
        "id": "DMqPRK3jGBCK",
        "outputId": "cda169eb-e888-49a8-a7f5-94e52dbfdcfc"
      },
      "outputs": [
        {
          "data": {
            "text/plain": [
              "<KerasVariable shape=(784, 128), dtype=float32, path=sequential_2/dense_layer/kernel>"
            ]
          },
          "execution_count": 31,
          "metadata": {},
          "output_type": "execute_result"
        }
      ],
      "source": [
        "model_2.weights[0]"
      ]
    },
    {
      "cell_type": "code",
      "execution_count": null,
      "metadata": {
        "colab": {
          "base_uri": "https://localhost:8080/"
        },
        "execution": {
          "iopub.execute_input": "2025-03-19T06:29:47.787165Z",
          "iopub.status.busy": "2025-03-19T06:29:47.786743Z",
          "iopub.status.idle": "2025-03-19T06:29:48.570474Z",
          "shell.execute_reply": "2025-03-19T06:29:48.569367Z",
          "shell.execute_reply.started": "2025-03-19T06:29:47.787122Z"
        },
        "id": "yT7LK87agBfq",
        "outputId": "b0a0384f-d4ce-442a-c36b-3cd396bf3101"
      },
      "outputs": [
        {
          "name": "stdout",
          "output_type": "stream",
          "text": [
            "\u001b[1m313/313\u001b[0m \u001b[32m━━━━━━━━━━━━━━━━━━━━\u001b[0m\u001b[37m\u001b[0m \u001b[1m1s\u001b[0m 2ms/step - accuracy: 0.8743 - loss: 0.3467\n",
            "Test accuracy: 0.8708999752998352\n"
          ]
        }
      ],
      "source": [
        "#evaluate the model\n",
        "test_loss, test_acc = model_2.evaluate(X_test, Y_test)\n",
        "print('Test accuracy:', test_acc)"
      ]
    },
    {
      "cell_type": "code",
      "execution_count": null,
      "metadata": {
        "colab": {
          "base_uri": "https://localhost:8080/"
        },
        "execution": {
          "iopub.execute_input": "2025-03-19T06:29:48.571777Z",
          "iopub.status.busy": "2025-03-19T06:29:48.571469Z",
          "iopub.status.idle": "2025-03-19T06:29:48.594697Z",
          "shell.execute_reply": "2025-03-19T06:29:48.593467Z",
          "shell.execute_reply.started": "2025-03-19T06:29:48.571750Z"
        },
        "id": "jdOVuO0AgBf0",
        "outputId": "790ad9af-a2e6-4c49-d250-062b04074461"
      },
      "outputs": [
        {
          "data": {
            "text/html": [
              "<pre style=\"white-space:pre;overflow-x:auto;line-height:normal;font-family:Menlo,'DejaVu Sans Mono',consolas,'Courier New',monospace\"><span style=\"font-weight: bold\">Model: \"sequential_2\"</span>\n",
              "</pre>\n"
            ],
            "text/plain": [
              "\u001b[1mModel: \"sequential_2\"\u001b[0m\n"
            ]
          },
          "metadata": {},
          "output_type": "display_data"
        },
        {
          "data": {
            "text/html": [
              "<pre style=\"white-space:pre;overflow-x:auto;line-height:normal;font-family:Menlo,'DejaVu Sans Mono',consolas,'Courier New',monospace\">┏━━━━━━━━━━━━━━━━━━━━━━━━━━━━━━━━━━━━━━┳━━━━━━━━━━━━━━━━━━━━━━━━━━━━━┳━━━━━━━━━━━━━━━━━┓\n",
              "┃<span style=\"font-weight: bold\"> Layer (type)                         </span>┃<span style=\"font-weight: bold\"> Output Shape                </span>┃<span style=\"font-weight: bold\">         Param # </span>┃\n",
              "┡━━━━━━━━━━━━━━━━━━━━━━━━━━━━━━━━━━━━━━╇━━━━━━━━━━━━━━━━━━━━━━━━━━━━━╇━━━━━━━━━━━━━━━━━┩\n",
              "│ dense_layer (<span style=\"color: #0087ff; text-decoration-color: #0087ff\">Dense</span>)                  │ (<span style=\"color: #00d7ff; text-decoration-color: #00d7ff\">None</span>, <span style=\"color: #00af00; text-decoration-color: #00af00\">128</span>)                 │         <span style=\"color: #00af00; text-decoration-color: #00af00\">100,480</span> │\n",
              "├──────────────────────────────────────┼─────────────────────────────┼─────────────────┤\n",
              "│ dropout (<span style=\"color: #0087ff; text-decoration-color: #0087ff\">Dropout</span>)                    │ (<span style=\"color: #00d7ff; text-decoration-color: #00d7ff\">None</span>, <span style=\"color: #00af00; text-decoration-color: #00af00\">128</span>)                 │               <span style=\"color: #00af00; text-decoration-color: #00af00\">0</span> │\n",
              "├──────────────────────────────────────┼─────────────────────────────┼─────────────────┤\n",
              "│ dense_layer_2 (<span style=\"color: #0087ff; text-decoration-color: #0087ff\">Dense</span>)                │ (<span style=\"color: #00d7ff; text-decoration-color: #00d7ff\">None</span>, <span style=\"color: #00af00; text-decoration-color: #00af00\">128</span>)                 │          <span style=\"color: #00af00; text-decoration-color: #00af00\">16,512</span> │\n",
              "├──────────────────────────────────────┼─────────────────────────────┼─────────────────┤\n",
              "│ dropout_1 (<span style=\"color: #0087ff; text-decoration-color: #0087ff\">Dropout</span>)                  │ (<span style=\"color: #00d7ff; text-decoration-color: #00d7ff\">None</span>, <span style=\"color: #00af00; text-decoration-color: #00af00\">128</span>)                 │               <span style=\"color: #00af00; text-decoration-color: #00af00\">0</span> │\n",
              "├──────────────────────────────────────┼─────────────────────────────┼─────────────────┤\n",
              "│ dense_layer_3 (<span style=\"color: #0087ff; text-decoration-color: #0087ff\">Dense</span>)                │ (<span style=\"color: #00d7ff; text-decoration-color: #00d7ff\">None</span>, <span style=\"color: #00af00; text-decoration-color: #00af00\">10</span>)                  │           <span style=\"color: #00af00; text-decoration-color: #00af00\">1,290</span> │\n",
              "└──────────────────────────────────────┴─────────────────────────────┴─────────────────┘\n",
              "</pre>\n"
            ],
            "text/plain": [
              "┏━━━━━━━━━━━━━━━━━━━━━━━━━━━━━━━━━━━━━━┳━━━━━━━━━━━━━━━━━━━━━━━━━━━━━┳━━━━━━━━━━━━━━━━━┓\n",
              "┃\u001b[1m \u001b[0m\u001b[1mLayer (type)                        \u001b[0m\u001b[1m \u001b[0m┃\u001b[1m \u001b[0m\u001b[1mOutput Shape               \u001b[0m\u001b[1m \u001b[0m┃\u001b[1m \u001b[0m\u001b[1m        Param #\u001b[0m\u001b[1m \u001b[0m┃\n",
              "┡━━━━━━━━━━━━━━━━━━━━━━━━━━━━━━━━━━━━━━╇━━━━━━━━━━━━━━━━━━━━━━━━━━━━━╇━━━━━━━━━━━━━━━━━┩\n",
              "│ dense_layer (\u001b[38;5;33mDense\u001b[0m)                  │ (\u001b[38;5;45mNone\u001b[0m, \u001b[38;5;34m128\u001b[0m)                 │         \u001b[38;5;34m100,480\u001b[0m │\n",
              "├──────────────────────────────────────┼─────────────────────────────┼─────────────────┤\n",
              "│ dropout (\u001b[38;5;33mDropout\u001b[0m)                    │ (\u001b[38;5;45mNone\u001b[0m, \u001b[38;5;34m128\u001b[0m)                 │               \u001b[38;5;34m0\u001b[0m │\n",
              "├──────────────────────────────────────┼─────────────────────────────┼─────────────────┤\n",
              "│ dense_layer_2 (\u001b[38;5;33mDense\u001b[0m)                │ (\u001b[38;5;45mNone\u001b[0m, \u001b[38;5;34m128\u001b[0m)                 │          \u001b[38;5;34m16,512\u001b[0m │\n",
              "├──────────────────────────────────────┼─────────────────────────────┼─────────────────┤\n",
              "│ dropout_1 (\u001b[38;5;33mDropout\u001b[0m)                  │ (\u001b[38;5;45mNone\u001b[0m, \u001b[38;5;34m128\u001b[0m)                 │               \u001b[38;5;34m0\u001b[0m │\n",
              "├──────────────────────────────────────┼─────────────────────────────┼─────────────────┤\n",
              "│ dense_layer_3 (\u001b[38;5;33mDense\u001b[0m)                │ (\u001b[38;5;45mNone\u001b[0m, \u001b[38;5;34m10\u001b[0m)                  │           \u001b[38;5;34m1,290\u001b[0m │\n",
              "└──────────────────────────────────────┴─────────────────────────────┴─────────────────┘\n"
            ]
          },
          "metadata": {},
          "output_type": "display_data"
        },
        {
          "data": {
            "text/html": [
              "<pre style=\"white-space:pre;overflow-x:auto;line-height:normal;font-family:Menlo,'DejaVu Sans Mono',consolas,'Courier New',monospace\"><span style=\"font-weight: bold\"> Total params: </span><span style=\"color: #00af00; text-decoration-color: #00af00\">118,284</span> (462.05 KB)\n",
              "</pre>\n"
            ],
            "text/plain": [
              "\u001b[1m Total params: \u001b[0m\u001b[38;5;34m118,284\u001b[0m (462.05 KB)\n"
            ]
          },
          "metadata": {},
          "output_type": "display_data"
        },
        {
          "data": {
            "text/html": [
              "<pre style=\"white-space:pre;overflow-x:auto;line-height:normal;font-family:Menlo,'DejaVu Sans Mono',consolas,'Courier New',monospace\"><span style=\"font-weight: bold\"> Trainable params: </span><span style=\"color: #00af00; text-decoration-color: #00af00\">118,282</span> (462.04 KB)\n",
              "</pre>\n"
            ],
            "text/plain": [
              "\u001b[1m Trainable params: \u001b[0m\u001b[38;5;34m118,282\u001b[0m (462.04 KB)\n"
            ]
          },
          "metadata": {},
          "output_type": "display_data"
        },
        {
          "data": {
            "text/html": [
              "<pre style=\"white-space:pre;overflow-x:auto;line-height:normal;font-family:Menlo,'DejaVu Sans Mono',consolas,'Courier New',monospace\"><span style=\"font-weight: bold\"> Non-trainable params: </span><span style=\"color: #00af00; text-decoration-color: #00af00\">0</span> (0.00 B)\n",
              "</pre>\n"
            ],
            "text/plain": [
              "\u001b[1m Non-trainable params: \u001b[0m\u001b[38;5;34m0\u001b[0m (0.00 B)\n"
            ]
          },
          "metadata": {},
          "output_type": "display_data"
        },
        {
          "data": {
            "text/html": [
              "<pre style=\"white-space:pre;overflow-x:auto;line-height:normal;font-family:Menlo,'DejaVu Sans Mono',consolas,'Courier New',monospace\"><span style=\"font-weight: bold\"> Optimizer params: </span><span style=\"color: #00af00; text-decoration-color: #00af00\">2</span> (12.00 B)\n",
              "</pre>\n"
            ],
            "text/plain": [
              "\u001b[1m Optimizer params: \u001b[0m\u001b[38;5;34m2\u001b[0m (12.00 B)\n"
            ]
          },
          "metadata": {},
          "output_type": "display_data"
        }
      ],
      "source": [
        "model_2.summary()"
      ]
    },
    {
      "cell_type": "code",
      "execution_count": null,
      "metadata": {
        "colab": {
          "base_uri": "https://localhost:8080/"
        },
        "execution": {
          "iopub.execute_input": "2025-03-19T06:29:48.595791Z",
          "iopub.status.busy": "2025-03-19T06:29:48.595453Z",
          "iopub.status.idle": "2025-03-19T06:29:48.604814Z",
          "shell.execute_reply": "2025-03-19T06:29:48.603621Z",
          "shell.execute_reply.started": "2025-03-19T06:29:48.595762Z"
        },
        "id": "oykr_QswgBf_",
        "outputId": "a0e1cc92-cd24-4350-ab71-15af9d0642e8"
      },
      "outputs": [
        {
          "data": {
            "text/plain": [
              "[<KerasVariable shape=(784, 128), dtype=float32, path=sequential_2/dense_layer/kernel>,\n",
              " <KerasVariable shape=(128,), dtype=float32, path=sequential_2/dense_layer/bias>,\n",
              " <KerasVariable shape=(128, 128), dtype=float32, path=sequential_2/dense_layer_2/kernel>,\n",
              " <KerasVariable shape=(128,), dtype=float32, path=sequential_2/dense_layer_2/bias>,\n",
              " <KerasVariable shape=(128, 10), dtype=float32, path=sequential_2/dense_layer_3/kernel>,\n",
              " <KerasVariable shape=(10,), dtype=float32, path=sequential_2/dense_layer_3/bias>]"
            ]
          },
          "execution_count": 34,
          "metadata": {},
          "output_type": "execute_result"
        }
      ],
      "source": [
        "model_2.weights"
      ]
    },
    {
      "cell_type": "code",
      "execution_count": null,
      "metadata": {
        "execution": {
          "iopub.execute_input": "2025-03-19T06:29:48.606467Z",
          "iopub.status.busy": "2025-03-19T06:29:48.606135Z",
          "iopub.status.idle": "2025-03-19T06:29:48.637954Z",
          "shell.execute_reply": "2025-03-19T06:29:48.636338Z",
          "shell.execute_reply.started": "2025-03-19T06:29:48.606420Z"
        },
        "id": "SPzS9VdLgBgK",
        "outputId": "29537bbc-b5d3-40f8-930e-cf2acbfdfbf9"
      },
      "outputs": [
        {
          "data": {
            "text/plain": [
              "{'name': 'sequential_2',\n",
              " 'trainable': True,\n",
              " 'dtype': {'module': 'keras',\n",
              "  'class_name': 'DTypePolicy',\n",
              "  'config': {'name': 'float32'},\n",
              "  'registered_name': None},\n",
              " 'layers': [{'module': 'keras.layers',\n",
              "   'class_name': 'InputLayer',\n",
              "   'config': {'batch_shape': (None, 784),\n",
              "    'dtype': 'float32',\n",
              "    'sparse': False,\n",
              "    'name': 'input_layer_2'},\n",
              "   'registered_name': None},\n",
              "  {'module': 'keras.layers',\n",
              "   'class_name': 'Dense',\n",
              "   'config': {'name': 'dense_layer',\n",
              "    'trainable': True,\n",
              "    'dtype': {'module': 'keras',\n",
              "     'class_name': 'DTypePolicy',\n",
              "     'config': {'name': 'float32'},\n",
              "     'registered_name': None},\n",
              "    'units': 128,\n",
              "    'activation': 'relu',\n",
              "    'use_bias': True,\n",
              "    'kernel_initializer': {'module': 'keras.initializers',\n",
              "     'class_name': 'GlorotUniform',\n",
              "     'config': {'seed': None},\n",
              "     'registered_name': None},\n",
              "    'bias_initializer': {'module': 'keras.initializers',\n",
              "     'class_name': 'Zeros',\n",
              "     'config': {},\n",
              "     'registered_name': None},\n",
              "    'kernel_regularizer': None,\n",
              "    'bias_regularizer': None,\n",
              "    'kernel_constraint': None,\n",
              "    'bias_constraint': None},\n",
              "   'registered_name': None,\n",
              "   'build_config': {'input_shape': (None, 784)}},\n",
              "  {'module': 'keras.layers',\n",
              "   'class_name': 'Dropout',\n",
              "   'config': {'name': 'dropout',\n",
              "    'trainable': True,\n",
              "    'dtype': {'module': 'keras',\n",
              "     'class_name': 'DTypePolicy',\n",
              "     'config': {'name': 'float32'},\n",
              "     'registered_name': None},\n",
              "    'rate': 0.3,\n",
              "    'seed': None,\n",
              "    'noise_shape': None},\n",
              "   'registered_name': None,\n",
              "   'build_config': {'input_shape': (None, 128)}},\n",
              "  {'module': 'keras.layers',\n",
              "   'class_name': 'Dense',\n",
              "   'config': {'name': 'dense_layer_2',\n",
              "    'trainable': True,\n",
              "    'dtype': {'module': 'keras',\n",
              "     'class_name': 'DTypePolicy',\n",
              "     'config': {'name': 'float32'},\n",
              "     'registered_name': None},\n",
              "    'units': 128,\n",
              "    'activation': 'relu',\n",
              "    'use_bias': True,\n",
              "    'kernel_initializer': {'module': 'keras.initializers',\n",
              "     'class_name': 'GlorotUniform',\n",
              "     'config': {'seed': None},\n",
              "     'registered_name': None},\n",
              "    'bias_initializer': {'module': 'keras.initializers',\n",
              "     'class_name': 'Zeros',\n",
              "     'config': {},\n",
              "     'registered_name': None},\n",
              "    'kernel_regularizer': None,\n",
              "    'bias_regularizer': None,\n",
              "    'kernel_constraint': None,\n",
              "    'bias_constraint': None},\n",
              "   'registered_name': None,\n",
              "   'build_config': {'input_shape': (None, 128)}},\n",
              "  {'module': 'keras.layers',\n",
              "   'class_name': 'Dropout',\n",
              "   'config': {'name': 'dropout_1',\n",
              "    'trainable': True,\n",
              "    'dtype': {'module': 'keras',\n",
              "     'class_name': 'DTypePolicy',\n",
              "     'config': {'name': 'float32'},\n",
              "     'registered_name': None},\n",
              "    'rate': 0.3,\n",
              "    'seed': None,\n",
              "    'noise_shape': None},\n",
              "   'registered_name': None,\n",
              "   'build_config': {'input_shape': (None, 128)}},\n",
              "  {'module': 'keras.layers',\n",
              "   'class_name': 'Dense',\n",
              "   'config': {'name': 'dense_layer_3',\n",
              "    'trainable': True,\n",
              "    'dtype': {'module': 'keras',\n",
              "     'class_name': 'DTypePolicy',\n",
              "     'config': {'name': 'float32'},\n",
              "     'registered_name': None},\n",
              "    'units': 10,\n",
              "    'activation': 'softmax',\n",
              "    'use_bias': True,\n",
              "    'kernel_initializer': {'module': 'keras.initializers',\n",
              "     'class_name': 'GlorotUniform',\n",
              "     'config': {'seed': None},\n",
              "     'registered_name': None},\n",
              "    'bias_initializer': {'module': 'keras.initializers',\n",
              "     'class_name': 'Zeros',\n",
              "     'config': {},\n",
              "     'registered_name': None},\n",
              "    'kernel_regularizer': None,\n",
              "    'bias_regularizer': None,\n",
              "    'kernel_constraint': None,\n",
              "    'bias_constraint': None},\n",
              "   'registered_name': None,\n",
              "   'build_config': {'input_shape': (None, 128)}}],\n",
              " 'build_input_shape': (None, 784)}"
            ]
          },
          "execution_count": 35,
          "metadata": {},
          "output_type": "execute_result"
        }
      ],
      "source": [
        "model_2.get_config()"
      ]
    },
    {
      "cell_type": "markdown",
      "metadata": {
        "id": "pjps75cBuR1Z"
      },
      "source": [
        "### Improved Model 3: Changing the Optimizer - Adam"
      ]
    },
    {
      "cell_type": "code",
      "execution_count": null,
      "metadata": {
        "execution": {
          "iopub.execute_input": "2025-03-19T06:29:48.639721Z",
          "iopub.status.busy": "2025-03-19T06:29:48.639166Z",
          "iopub.status.idle": "2025-03-19T06:29:48.715013Z",
          "shell.execute_reply": "2025-03-19T06:29:48.713197Z",
          "shell.execute_reply.started": "2025-03-19T06:29:48.639654Z"
        },
        "id": "WmXFwU5puZIF"
      },
      "outputs": [],
      "source": [
        "#Most common type of model is a stack of layers\n",
        "model_3 = tf.keras.Sequential()\n",
        "N_hidden = 64\n",
        "\n",
        "# Adds a densely-connected layer with 64 units to the model:\n",
        "model_3.add(Dense(N_hidden, name='dense_layer', input_shape=(784,), activation = 'relu'))\n",
        "\n",
        "# Now the model will take as input arrays of shape (*, 784)# and output arrays of shape (*, 64)\n",
        "model_3.add(Dropout(0.3))\n",
        "\n",
        "# Adding another dense layer:\n",
        "model_3.add(Dense(N_hidden, name='dense_layer_2', activation='relu'))\n",
        "model_3.add(Dropout(0.3))\n",
        "\n",
        "model_3.add(Dense(10, name='dense_layer_3', activation = 'softmax'))"
      ]
    },
    {
      "cell_type": "code",
      "execution_count": null,
      "metadata": {
        "execution": {
          "iopub.execute_input": "2025-03-19T06:29:48.717401Z",
          "iopub.status.busy": "2025-03-19T06:29:48.716996Z",
          "iopub.status.idle": "2025-03-19T06:29:48.731863Z",
          "shell.execute_reply": "2025-03-19T06:29:48.730524Z",
          "shell.execute_reply.started": "2025-03-19T06:29:48.717368Z"
        },
        "id": "71IzuyLBt3pQ"
      },
      "outputs": [],
      "source": [
        "# Compiling the model.\n",
        "model_3.compile(optimizer='Adam',\n",
        "              loss='categorical_crossentropy',\n",
        "              metrics=['accuracy'])"
      ]
    },
    {
      "cell_type": "code",
      "execution_count": null,
      "metadata": {
        "execution": {
          "iopub.execute_input": "2025-03-19T06:29:48.733134Z",
          "iopub.status.busy": "2025-03-19T06:29:48.732852Z",
          "iopub.status.idle": "2025-03-19T06:30:18.570737Z",
          "shell.execute_reply": "2025-03-19T06:30:18.569687Z",
          "shell.execute_reply.started": "2025-03-19T06:29:48.733109Z"
        },
        "id": "KfP4B4Sat3pW",
        "outputId": "3dc57b95-1abe-4b75-ddb0-75a410f93508"
      },
      "outputs": [
        {
          "name": "stdout",
          "output_type": "stream",
          "text": [
            "Epoch 1/20\n",
            "\u001b[1m375/375\u001b[0m \u001b[32m━━━━━━━━━━━━━━━━━━━━\u001b[0m\u001b[37m\u001b[0m \u001b[1m3s\u001b[0m 4ms/step - accuracy: 0.5792 - loss: 1.1778 - val_accuracy: 0.8240 - val_loss: 0.4851\n",
            "Epoch 2/20\n",
            "\u001b[1m375/375\u001b[0m \u001b[32m━━━━━━━━━━━━━━━━━━━━\u001b[0m\u001b[37m\u001b[0m \u001b[1m1s\u001b[0m 3ms/step - accuracy: 0.8065 - loss: 0.5595 - val_accuracy: 0.8453 - val_loss: 0.4270\n",
            "Epoch 3/20\n",
            "\u001b[1m375/375\u001b[0m \u001b[32m━━━━━━━━━━━━━━━━━━━━\u001b[0m\u001b[37m\u001b[0m \u001b[1m1s\u001b[0m 3ms/step - accuracy: 0.8260 - loss: 0.4834 - val_accuracy: 0.8583 - val_loss: 0.3953\n",
            "Epoch 4/20\n",
            "\u001b[1m375/375\u001b[0m \u001b[32m━━━━━━━━━━━━━━━━━━━━\u001b[0m\u001b[37m\u001b[0m \u001b[1m1s\u001b[0m 3ms/step - accuracy: 0.8373 - loss: 0.4532 - val_accuracy: 0.8592 - val_loss: 0.3840\n",
            "Epoch 5/20\n",
            "\u001b[1m375/375\u001b[0m \u001b[32m━━━━━━━━━━━━━━━━━━━━\u001b[0m\u001b[37m\u001b[0m \u001b[1m1s\u001b[0m 3ms/step - accuracy: 0.8465 - loss: 0.4312 - val_accuracy: 0.8639 - val_loss: 0.3758\n",
            "Epoch 6/20\n",
            "\u001b[1m375/375\u001b[0m \u001b[32m━━━━━━━━━━━━━━━━━━━━\u001b[0m\u001b[37m\u001b[0m \u001b[1m1s\u001b[0m 3ms/step - accuracy: 0.8499 - loss: 0.4250 - val_accuracy: 0.8659 - val_loss: 0.3652\n",
            "Epoch 7/20\n",
            "\u001b[1m375/375\u001b[0m \u001b[32m━━━━━━━━━━━━━━━━━━━━\u001b[0m\u001b[37m\u001b[0m \u001b[1m1s\u001b[0m 3ms/step - accuracy: 0.8534 - loss: 0.4113 - val_accuracy: 0.8687 - val_loss: 0.3580\n",
            "Epoch 8/20\n",
            "\u001b[1m375/375\u001b[0m \u001b[32m━━━━━━━━━━━━━━━━━━━━\u001b[0m\u001b[37m\u001b[0m \u001b[1m1s\u001b[0m 4ms/step - accuracy: 0.8572 - loss: 0.3927 - val_accuracy: 0.8683 - val_loss: 0.3598\n",
            "Epoch 9/20\n",
            "\u001b[1m375/375\u001b[0m \u001b[32m━━━━━━━━━━━━━━━━━━━━\u001b[0m\u001b[37m\u001b[0m \u001b[1m2s\u001b[0m 5ms/step - accuracy: 0.8557 - loss: 0.3941 - val_accuracy: 0.8700 - val_loss: 0.3571\n",
            "Epoch 10/20\n",
            "\u001b[1m375/375\u001b[0m \u001b[32m━━━━━━━━━━━━━━━━━━━━\u001b[0m\u001b[37m\u001b[0m \u001b[1m2s\u001b[0m 4ms/step - accuracy: 0.8608 - loss: 0.3846 - val_accuracy: 0.8759 - val_loss: 0.3448\n",
            "Epoch 11/20\n",
            "\u001b[1m375/375\u001b[0m \u001b[32m━━━━━━━━━━━━━━━━━━━━\u001b[0m\u001b[37m\u001b[0m \u001b[1m2s\u001b[0m 4ms/step - accuracy: 0.8609 - loss: 0.3810 - val_accuracy: 0.8747 - val_loss: 0.3413\n",
            "Epoch 12/20\n",
            "\u001b[1m375/375\u001b[0m \u001b[32m━━━━━━━━━━━━━━━━━━━━\u001b[0m\u001b[37m\u001b[0m \u001b[1m2s\u001b[0m 4ms/step - accuracy: 0.8685 - loss: 0.3643 - val_accuracy: 0.8797 - val_loss: 0.3434\n",
            "Epoch 13/20\n",
            "\u001b[1m375/375\u001b[0m \u001b[32m━━━━━━━━━━━━━━━━━━━━\u001b[0m\u001b[37m\u001b[0m \u001b[1m1s\u001b[0m 4ms/step - accuracy: 0.8669 - loss: 0.3653 - val_accuracy: 0.8792 - val_loss: 0.3314\n",
            "Epoch 14/20\n",
            "\u001b[1m375/375\u001b[0m \u001b[32m━━━━━━━━━━━━━━━━━━━━\u001b[0m\u001b[37m\u001b[0m \u001b[1m1s\u001b[0m 4ms/step - accuracy: 0.8672 - loss: 0.3618 - val_accuracy: 0.8800 - val_loss: 0.3354\n",
            "Epoch 15/20\n",
            "\u001b[1m375/375\u001b[0m \u001b[32m━━━━━━━━━━━━━━━━━━━━\u001b[0m\u001b[37m\u001b[0m \u001b[1m1s\u001b[0m 4ms/step - accuracy: 0.8712 - loss: 0.3555 - val_accuracy: 0.8798 - val_loss: 0.3319\n",
            "Epoch 16/20\n",
            "\u001b[1m375/375\u001b[0m \u001b[32m━━━━━━━━━━━━━━━━━━━━\u001b[0m\u001b[37m\u001b[0m \u001b[1m1s\u001b[0m 4ms/step - accuracy: 0.8722 - loss: 0.3480 - val_accuracy: 0.8796 - val_loss: 0.3329\n",
            "Epoch 17/20\n",
            "\u001b[1m375/375\u001b[0m \u001b[32m━━━━━━━━━━━━━━━━━━━━\u001b[0m\u001b[37m\u001b[0m \u001b[1m1s\u001b[0m 3ms/step - accuracy: 0.8721 - loss: 0.3471 - val_accuracy: 0.8800 - val_loss: 0.3314\n",
            "Epoch 18/20\n",
            "\u001b[1m375/375\u001b[0m \u001b[32m━━━━━━━━━━━━━━━━━━━━\u001b[0m\u001b[37m\u001b[0m \u001b[1m1s\u001b[0m 4ms/step - accuracy: 0.8756 - loss: 0.3417 - val_accuracy: 0.8793 - val_loss: 0.3308\n",
            "Epoch 19/20\n",
            "\u001b[1m375/375\u001b[0m \u001b[32m━━━━━━━━━━━━━━━━━━━━\u001b[0m\u001b[37m\u001b[0m \u001b[1m1s\u001b[0m 4ms/step - accuracy: 0.8730 - loss: 0.3487 - val_accuracy: 0.8812 - val_loss: 0.3343\n",
            "Epoch 20/20\n",
            "\u001b[1m375/375\u001b[0m \u001b[32m━━━━━━━━━━━━━━━━━━━━\u001b[0m\u001b[37m\u001b[0m \u001b[1m1s\u001b[0m 4ms/step - accuracy: 0.8752 - loss: 0.3326 - val_accuracy: 0.8801 - val_loss: 0.3306\n"
          ]
        }
      ],
      "source": [
        "# Training the model.\n",
        "training = model_3.fit(X_train, Y_train, batch_size=128, epochs=20, validation_split=0.2)"
      ]
    },
    {
      "cell_type": "code",
      "execution_count": null,
      "metadata": {
        "execution": {
          "iopub.execute_input": "2025-03-19T06:30:18.572759Z",
          "iopub.status.busy": "2025-03-19T06:30:18.572395Z",
          "iopub.status.idle": "2025-03-19T06:30:19.036228Z",
          "shell.execute_reply": "2025-03-19T06:30:19.035112Z",
          "shell.execute_reply.started": "2025-03-19T06:30:18.572719Z"
        },
        "id": "uuwhbVkxj0iR",
        "outputId": "fdaad3af-a03a-4e6d-c9f8-bceb4a8e2717"
      },
      "outputs": [
        {
          "name": "stdout",
          "output_type": "stream",
          "text": [
            "dict_keys(['accuracy', 'loss', 'val_accuracy', 'val_loss'])\n"
          ]
        },
        {
          "data": {
            "image/png": "[encoded data removed]",
            "text/plain": [
              "<Figure size 640x480 with 1 Axes>"
            ]
          },
          "metadata": {},
          "output_type": "display_data"
        },
        {
          "data": {
            "image/png": "[encoded data removed]",
            "text/plain": [
              "<Figure size 640x480 with 1 Axes>"
            ]
          },
          "metadata": {},
          "output_type": "display_data"
        }
      ],
      "source": [
        "import matplotlib.pyplot as plt\n",
        "%matplotlib inline\n",
        "# list all data in training\n",
        "print(training.history.keys())\n",
        "# summarize training for accuracy\n",
        "plt.plot(training.history['accuracy'])\n",
        "plt.plot(training.history['val_accuracy'])\n",
        "plt.title('model accuracy')\n",
        "plt.ylabel('accuracy')\n",
        "plt.xlabel('epoch')\n",
        "plt.legend(['train', 'test'], loc='upper left')\n",
        "plt.show()\n",
        "# summarize traning for loss\n",
        "plt.plot(training.history['loss'])\n",
        "plt.plot(training.history['val_loss'])\n",
        "plt.title('model loss')\n",
        "plt.ylabel('loss')\n",
        "plt.xlabel('epoch')\n",
        "plt.legend(['train', 'test'], loc='upper left')\n",
        "plt.show()"
      ]
    },
    {
      "cell_type": "code",
      "execution_count": null,
      "metadata": {
        "execution": {
          "iopub.execute_input": "2025-03-19T06:30:19.037644Z",
          "iopub.status.busy": "2025-03-19T06:30:19.037341Z",
          "iopub.status.idle": "2025-03-19T06:30:19.625650Z",
          "shell.execute_reply": "2025-03-19T06:30:19.624786Z",
          "shell.execute_reply.started": "2025-03-19T06:30:19.037618Z"
        },
        "id": "En35EsWnuHmC",
        "outputId": "afaec687-54aa-4842-b9bc-c4500752237d"
      },
      "outputs": [
        {
          "name": "stdout",
          "output_type": "stream",
          "text": [
            "\u001b[1m313/313\u001b[0m \u001b[32m━━━━━━━━━━━━━━━━━━━━\u001b[0m\u001b[37m\u001b[0m \u001b[1m0s\u001b[0m 1ms/step - accuracy: 0.8730 - loss: 0.3538\n",
            "Test accuracy: 0.8702999949455261\n"
          ]
        }
      ],
      "source": [
        "#evaluate the model\n",
        "test_loss, test_acc = model_3.evaluate(X_test, Y_test)\n",
        "print('Test accuracy:', test_acc)"
      ]
    },
    {
      "cell_type": "code",
      "execution_count": null,
      "metadata": {
        "execution": {
          "iopub.execute_input": "2025-03-19T06:30:19.627208Z",
          "iopub.status.busy": "2025-03-19T06:30:19.626820Z",
          "iopub.status.idle": "2025-03-19T06:30:19.649433Z",
          "shell.execute_reply": "2025-03-19T06:30:19.648219Z",
          "shell.execute_reply.started": "2025-03-19T06:30:19.627170Z"
        },
        "id": "Vn7mv0zhj0i2",
        "outputId": "d80c7847-af83-40f0-b992-6f373f7948c5"
      },
      "outputs": [
        {
          "data": {
            "text/html": [
              "<pre style=\"white-space:pre;overflow-x:auto;line-height:normal;font-family:Menlo,'DejaVu Sans Mono',consolas,'Courier New',monospace\"><span style=\"font-weight: bold\">Model: \"sequential_3\"</span>\n",
              "</pre>\n"
            ],
            "text/plain": [
              "\u001b[1mModel: \"sequential_3\"\u001b[0m\n"
            ]
          },
          "metadata": {},
          "output_type": "display_data"
        },
        {
          "data": {
            "text/html": [
              "<pre style=\"white-space:pre;overflow-x:auto;line-height:normal;font-family:Menlo,'DejaVu Sans Mono',consolas,'Courier New',monospace\">┏━━━━━━━━━━━━━━━━━━━━━━━━━━━━━━━━━━━━━━┳━━━━━━━━━━━━━━━━━━━━━━━━━━━━━┳━━━━━━━━━━━━━━━━━┓\n",
              "┃<span style=\"font-weight: bold\"> Layer (type)                         </span>┃<span style=\"font-weight: bold\"> Output Shape                </span>┃<span style=\"font-weight: bold\">         Param # </span>┃\n",
              "┡━━━━━━━━━━━━━━━━━━━━━━━━━━━━━━━━━━━━━━╇━━━━━━━━━━━━━━━━━━━━━━━━━━━━━╇━━━━━━━━━━━━━━━━━┩\n",
              "│ dense_layer (<span style=\"color: #0087ff; text-decoration-color: #0087ff\">Dense</span>)                  │ (<span style=\"color: #00d7ff; text-decoration-color: #00d7ff\">None</span>, <span style=\"color: #00af00; text-decoration-color: #00af00\">64</span>)                  │          <span style=\"color: #00af00; text-decoration-color: #00af00\">50,240</span> │\n",
              "├──────────────────────────────────────┼─────────────────────────────┼─────────────────┤\n",
              "│ dropout_2 (<span style=\"color: #0087ff; text-decoration-color: #0087ff\">Dropout</span>)                  │ (<span style=\"color: #00d7ff; text-decoration-color: #00d7ff\">None</span>, <span style=\"color: #00af00; text-decoration-color: #00af00\">64</span>)                  │               <span style=\"color: #00af00; text-decoration-color: #00af00\">0</span> │\n",
              "├──────────────────────────────────────┼─────────────────────────────┼─────────────────┤\n",
              "│ dense_layer_2 (<span style=\"color: #0087ff; text-decoration-color: #0087ff\">Dense</span>)                │ (<span style=\"color: #00d7ff; text-decoration-color: #00d7ff\">None</span>, <span style=\"color: #00af00; text-decoration-color: #00af00\">64</span>)                  │           <span style=\"color: #00af00; text-decoration-color: #00af00\">4,160</span> │\n",
              "├──────────────────────────────────────┼─────────────────────────────┼─────────────────┤\n",
              "│ dropout_3 (<span style=\"color: #0087ff; text-decoration-color: #0087ff\">Dropout</span>)                  │ (<span style=\"color: #00d7ff; text-decoration-color: #00d7ff\">None</span>, <span style=\"color: #00af00; text-decoration-color: #00af00\">64</span>)                  │               <span style=\"color: #00af00; text-decoration-color: #00af00\">0</span> │\n",
              "├──────────────────────────────────────┼─────────────────────────────┼─────────────────┤\n",
              "│ dense_layer_3 (<span style=\"color: #0087ff; text-decoration-color: #0087ff\">Dense</span>)                │ (<span style=\"color: #00d7ff; text-decoration-color: #00d7ff\">None</span>, <span style=\"color: #00af00; text-decoration-color: #00af00\">10</span>)                  │             <span style=\"color: #00af00; text-decoration-color: #00af00\">650</span> │\n",
              "└──────────────────────────────────────┴─────────────────────────────┴─────────────────┘\n",
              "</pre>\n"
            ],
            "text/plain": [
              "┏━━━━━━━━━━━━━━━━━━━━━━━━━━━━━━━━━━━━━━┳━━━━━━━━━━━━━━━━━━━━━━━━━━━━━┳━━━━━━━━━━━━━━━━━┓\n",
              "┃\u001b[1m \u001b[0m\u001b[1mLayer (type)                        \u001b[0m\u001b[1m \u001b[0m┃\u001b[1m \u001b[0m\u001b[1mOutput Shape               \u001b[0m\u001b[1m \u001b[0m┃\u001b[1m \u001b[0m\u001b[1m        Param #\u001b[0m\u001b[1m \u001b[0m┃\n",
              "┡━━━━━━━━━━━━━━━━━━━━━━━━━━━━━━━━━━━━━━╇━━━━━━━━━━━━━━━━━━━━━━━━━━━━━╇━━━━━━━━━━━━━━━━━┩\n",
              "│ dense_layer (\u001b[38;5;33mDense\u001b[0m)                  │ (\u001b[38;5;45mNone\u001b[0m, \u001b[38;5;34m64\u001b[0m)                  │          \u001b[38;5;34m50,240\u001b[0m │\n",
              "├──────────────────────────────────────┼─────────────────────────────┼─────────────────┤\n",
              "│ dropout_2 (\u001b[38;5;33mDropout\u001b[0m)                  │ (\u001b[38;5;45mNone\u001b[0m, \u001b[38;5;34m64\u001b[0m)                  │               \u001b[38;5;34m0\u001b[0m │\n",
              "├──────────────────────────────────────┼─────────────────────────────┼─────────────────┤\n",
              "│ dense_layer_2 (\u001b[38;5;33mDense\u001b[0m)                │ (\u001b[38;5;45mNone\u001b[0m, \u001b[38;5;34m64\u001b[0m)                  │           \u001b[38;5;34m4,160\u001b[0m │\n",
              "├──────────────────────────────────────┼─────────────────────────────┼─────────────────┤\n",
              "│ dropout_3 (\u001b[38;5;33mDropout\u001b[0m)                  │ (\u001b[38;5;45mNone\u001b[0m, \u001b[38;5;34m64\u001b[0m)                  │               \u001b[38;5;34m0\u001b[0m │\n",
              "├──────────────────────────────────────┼─────────────────────────────┼─────────────────┤\n",
              "│ dense_layer_3 (\u001b[38;5;33mDense\u001b[0m)                │ (\u001b[38;5;45mNone\u001b[0m, \u001b[38;5;34m10\u001b[0m)                  │             \u001b[38;5;34m650\u001b[0m │\n",
              "└──────────────────────────────────────┴─────────────────────────────┴─────────────────┘\n"
            ]
          },
          "metadata": {},
          "output_type": "display_data"
        },
        {
          "data": {
            "text/html": [
              "<pre style=\"white-space:pre;overflow-x:auto;line-height:normal;font-family:Menlo,'DejaVu Sans Mono',consolas,'Courier New',monospace\"><span style=\"font-weight: bold\"> Total params: </span><span style=\"color: #00af00; text-decoration-color: #00af00\">165,152</span> (645.13 KB)\n",
              "</pre>\n"
            ],
            "text/plain": [
              "\u001b[1m Total params: \u001b[0m\u001b[38;5;34m165,152\u001b[0m (645.13 KB)\n"
            ]
          },
          "metadata": {},
          "output_type": "display_data"
        },
        {
          "data": {
            "text/html": [
              "<pre style=\"white-space:pre;overflow-x:auto;line-height:normal;font-family:Menlo,'DejaVu Sans Mono',consolas,'Courier New',monospace\"><span style=\"font-weight: bold\"> Trainable params: </span><span style=\"color: #00af00; text-decoration-color: #00af00\">55,050</span> (215.04 KB)\n",
              "</pre>\n"
            ],
            "text/plain": [
              "\u001b[1m Trainable params: \u001b[0m\u001b[38;5;34m55,050\u001b[0m (215.04 KB)\n"
            ]
          },
          "metadata": {},
          "output_type": "display_data"
        },
        {
          "data": {
            "text/html": [
              "<pre style=\"white-space:pre;overflow-x:auto;line-height:normal;font-family:Menlo,'DejaVu Sans Mono',consolas,'Courier New',monospace\"><span style=\"font-weight: bold\"> Non-trainable params: </span><span style=\"color: #00af00; text-decoration-color: #00af00\">0</span> (0.00 B)\n",
              "</pre>\n"
            ],
            "text/plain": [
              "\u001b[1m Non-trainable params: \u001b[0m\u001b[38;5;34m0\u001b[0m (0.00 B)\n"
            ]
          },
          "metadata": {},
          "output_type": "display_data"
        },
        {
          "data": {
            "text/html": [
              "<pre style=\"white-space:pre;overflow-x:auto;line-height:normal;font-family:Menlo,'DejaVu Sans Mono',consolas,'Courier New',monospace\"><span style=\"font-weight: bold\"> Optimizer params: </span><span style=\"color: #00af00; text-decoration-color: #00af00\">110,102</span> (430.09 KB)\n",
              "</pre>\n"
            ],
            "text/plain": [
              "\u001b[1m Optimizer params: \u001b[0m\u001b[38;5;34m110,102\u001b[0m (430.09 KB)\n"
            ]
          },
          "metadata": {},
          "output_type": "display_data"
        }
      ],
      "source": [
        "model_3.summary()"
      ]
    },
    {
      "cell_type": "code",
      "execution_count": null,
      "metadata": {
        "execution": {
          "iopub.execute_input": "2025-03-19T06:30:19.650914Z",
          "iopub.status.busy": "2025-03-19T06:30:19.650534Z",
          "iopub.status.idle": "2025-03-19T06:30:19.657135Z",
          "shell.execute_reply": "2025-03-19T06:30:19.656213Z",
          "shell.execute_reply.started": "2025-03-19T06:30:19.650883Z"
        },
        "id": "P5eSv_K5j0jK",
        "outputId": "46a08f0d-abda-4eaf-b371-c985422a7eff"
      },
      "outputs": [
        {
          "data": {
            "text/plain": [
              "[<KerasVariable shape=(784, 64), dtype=float32, path=sequential_3/dense_layer/kernel>,\n",
              " <KerasVariable shape=(64,), dtype=float32, path=sequential_3/dense_layer/bias>,\n",
              " <KerasVariable shape=(64, 64), dtype=float32, path=sequential_3/dense_layer_2/kernel>,\n",
              " <KerasVariable shape=(64,), dtype=float32, path=sequential_3/dense_layer_2/bias>,\n",
              " <KerasVariable shape=(64, 10), dtype=float32, path=sequential_3/dense_layer_3/kernel>,\n",
              " <KerasVariable shape=(10,), dtype=float32, path=sequential_3/dense_layer_3/bias>]"
            ]
          },
          "execution_count": 42,
          "metadata": {},
          "output_type": "execute_result"
        }
      ],
      "source": [
        "model_3.weights"
      ]
    },
    {
      "cell_type": "code",
      "execution_count": null,
      "metadata": {
        "execution": {
          "iopub.execute_input": "2025-03-19T06:30:19.658527Z",
          "iopub.status.busy": "2025-03-19T06:30:19.658255Z",
          "iopub.status.idle": "2025-03-19T06:30:19.683945Z",
          "shell.execute_reply": "2025-03-19T06:30:19.682893Z",
          "shell.execute_reply.started": "2025-03-19T06:30:19.658504Z"
        },
        "id": "OK9ct5w-j0jm",
        "outputId": "f6daea46-469a-4f5b-a745-80ba0b65c2b0"
      },
      "outputs": [
        {
          "data": {
            "text/plain": [
              "{'name': 'sequential_3',\n",
              " 'trainable': True,\n",
              " 'dtype': {'module': 'keras',\n",
              "  'class_name': 'DTypePolicy',\n",
              "  'config': {'name': 'float32'},\n",
              "  'registered_name': None},\n",
              " 'layers': [{'module': 'keras.layers',\n",
              "   'class_name': 'InputLayer',\n",
              "   'config': {'batch_shape': (None, 784),\n",
              "    'dtype': 'float32',\n",
              "    'sparse': False,\n",
              "    'name': 'input_layer_3'},\n",
              "   'registered_name': None},\n",
              "  {'module': 'keras.layers',\n",
              "   'class_name': 'Dense',\n",
              "   'config': {'name': 'dense_layer',\n",
              "    'trainable': True,\n",
              "    'dtype': {'module': 'keras',\n",
              "     'class_name': 'DTypePolicy',\n",
              "     'config': {'name': 'float32'},\n",
              "     'registered_name': None},\n",
              "    'units': 64,\n",
              "    'activation': 'relu',\n",
              "    'use_bias': True,\n",
              "    'kernel_initializer': {'module': 'keras.initializers',\n",
              "     'class_name': 'GlorotUniform',\n",
              "     'config': {'seed': None},\n",
              "     'registered_name': None},\n",
              "    'bias_initializer': {'module': 'keras.initializers',\n",
              "     'class_name': 'Zeros',\n",
              "     'config': {},\n",
              "     'registered_name': None},\n",
              "    'kernel_regularizer': None,\n",
              "    'bias_regularizer': None,\n",
              "    'kernel_constraint': None,\n",
              "    'bias_constraint': None},\n",
              "   'registered_name': None,\n",
              "   'build_config': {'input_shape': (None, 784)}},\n",
              "  {'module': 'keras.layers',\n",
              "   'class_name': 'Dropout',\n",
              "   'config': {'name': 'dropout_2',\n",
              "    'trainable': True,\n",
              "    'dtype': {'module': 'keras',\n",
              "     'class_name': 'DTypePolicy',\n",
              "     'config': {'name': 'float32'},\n",
              "     'registered_name': None},\n",
              "    'rate': 0.3,\n",
              "    'seed': None,\n",
              "    'noise_shape': None},\n",
              "   'registered_name': None,\n",
              "   'build_config': {'input_shape': (None, 64)}},\n",
              "  {'module': 'keras.layers',\n",
              "   'class_name': 'Dense',\n",
              "   'config': {'name': 'dense_layer_2',\n",
              "    'trainable': True,\n",
              "    'dtype': {'module': 'keras',\n",
              "     'class_name': 'DTypePolicy',\n",
              "     'config': {'name': 'float32'},\n",
              "     'registered_name': None},\n",
              "    'units': 64,\n",
              "    'activation': 'relu',\n",
              "    'use_bias': True,\n",
              "    'kernel_initializer': {'module': 'keras.initializers',\n",
              "     'class_name': 'GlorotUniform',\n",
              "     'config': {'seed': None},\n",
              "     'registered_name': None},\n",
              "    'bias_initializer': {'module': 'keras.initializers',\n",
              "     'class_name': 'Zeros',\n",
              "     'config': {},\n",
              "     'registered_name': None},\n",
              "    'kernel_regularizer': None,\n",
              "    'bias_regularizer': None,\n",
              "    'kernel_constraint': None,\n",
              "    'bias_constraint': None},\n",
              "   'registered_name': None,\n",
              "   'build_config': {'input_shape': (None, 64)}},\n",
              "  {'module': 'keras.layers',\n",
              "   'class_name': 'Dropout',\n",
              "   'config': {'name': 'dropout_3',\n",
              "    'trainable': True,\n",
              "    'dtype': {'module': 'keras',\n",
              "     'class_name': 'DTypePolicy',\n",
              "     'config': {'name': 'float32'},\n",
              "     'registered_name': None},\n",
              "    'rate': 0.3,\n",
              "    'seed': None,\n",
              "    'noise_shape': None},\n",
              "   'registered_name': None,\n",
              "   'build_config': {'input_shape': (None, 64)}},\n",
              "  {'module': 'keras.layers',\n",
              "   'class_name': 'Dense',\n",
              "   'config': {'name': 'dense_layer_3',\n",
              "    'trainable': True,\n",
              "    'dtype': {'module': 'keras',\n",
              "     'class_name': 'DTypePolicy',\n",
              "     'config': {'name': 'float32'},\n",
              "     'registered_name': None},\n",
              "    'units': 10,\n",
              "    'activation': 'softmax',\n",
              "    'use_bias': True,\n",
              "    'kernel_initializer': {'module': 'keras.initializers',\n",
              "     'class_name': 'GlorotUniform',\n",
              "     'config': {'seed': None},\n",
              "     'registered_name': None},\n",
              "    'bias_initializer': {'module': 'keras.initializers',\n",
              "     'class_name': 'Zeros',\n",
              "     'config': {},\n",
              "     'registered_name': None},\n",
              "    'kernel_regularizer': None,\n",
              "    'bias_regularizer': None,\n",
              "    'kernel_constraint': None,\n",
              "    'bias_constraint': None},\n",
              "   'registered_name': None,\n",
              "   'build_config': {'input_shape': (None, 64)}}],\n",
              " 'build_input_shape': (None, 784)}"
            ]
          },
          "execution_count": 43,
          "metadata": {},
          "output_type": "execute_result"
        }
      ],
      "source": [
        "model_3.get_config()"
      ]
    },
    {
      "cell_type": "markdown",
      "metadata": {
        "id": "mBnxm6kkzUYm"
      },
      "source": [
        "### Improved Model 4: Increasing the number of Hidden Layer neuron"
      ]
    },
    {
      "cell_type": "code",
      "execution_count": null,
      "metadata": {
        "execution": {
          "iopub.execute_input": "2025-03-19T06:30:19.685367Z",
          "iopub.status.busy": "2025-03-19T06:30:19.685059Z",
          "iopub.status.idle": "2025-03-19T06:30:19.764338Z",
          "shell.execute_reply": "2025-03-19T06:30:19.763245Z",
          "shell.execute_reply.started": "2025-03-19T06:30:19.685342Z"
        },
        "id": "1tV9x2SNzUYq"
      },
      "outputs": [],
      "source": [
        "#Most common type of model is a stack of layers\n",
        "model_4 = tf.keras.Sequential()\n",
        "N_hidden = 512\n",
        "# Adds a densely-connected layer with 512 units to the model:\n",
        "model_4.add(Dense(N_hidden, name='dense_layer', input_shape=(784,), activation = 'relu'))\n",
        "# Now the model will take as input arrays of shape (*, 784)# and output arrays of shape (*, 512)\n",
        "model_4.add(Dropout(0.3))\n",
        "# Adding another dense layer:\n",
        "model_4.add(Dense(N_hidden, name='dense_layer_2', activation='relu'))\n",
        "model_4.add(Dropout(0.3))\n",
        "# After the first layer, you don't need to specify\n",
        "# the size of the input anymore:\n",
        "# Add an output layer with 10 output units (10 different classes):\n",
        "model_4.add(Dense(10, name='dense_layer_3', activation = 'softmax'))"
      ]
    },
    {
      "cell_type": "code",
      "execution_count": null,
      "metadata": {
        "execution": {
          "iopub.execute_input": "2025-03-19T06:30:19.765571Z",
          "iopub.status.busy": "2025-03-19T06:30:19.765293Z",
          "iopub.status.idle": "2025-03-19T06:30:19.775640Z",
          "shell.execute_reply": "2025-03-19T06:30:19.774358Z",
          "shell.execute_reply.started": "2025-03-19T06:30:19.765547Z"
        },
        "id": "ODypsK52zUY3"
      },
      "outputs": [],
      "source": [
        "# Compiling the model.\n",
        "model_4.compile(optimizer='Adam',\n",
        "              loss='categorical_crossentropy',\n",
        "              metrics=['accuracy'])"
      ]
    },
    {
      "cell_type": "code",
      "execution_count": null,
      "metadata": {
        "execution": {
          "iopub.execute_input": "2025-03-19T06:30:19.776903Z",
          "iopub.status.busy": "2025-03-19T06:30:19.776601Z",
          "iopub.status.idle": "2025-03-19T06:32:44.754819Z",
          "shell.execute_reply": "2025-03-19T06:32:44.753613Z",
          "shell.execute_reply.started": "2025-03-19T06:30:19.776879Z"
        },
        "id": "wcbJiQdpzUY_",
        "outputId": "4089aceb-e627-45fe-8343-530eff3e4139"
      },
      "outputs": [
        {
          "name": "stdout",
          "output_type": "stream",
          "text": [
            "Epoch 1/31\n",
            "\u001b[1m375/375\u001b[0m \u001b[32m━━━━━━━━━━━━━━━━━━━━\u001b[0m\u001b[37m\u001b[0m \u001b[1m6s\u001b[0m 13ms/step - accuracy: 0.7338 - loss: 0.7501 - val_accuracy: 0.8387 - val_loss: 0.4247\n",
            "Epoch 2/31\n",
            "\u001b[1m375/375\u001b[0m \u001b[32m━━━━━━━━━━━━━━━━━━━━\u001b[0m\u001b[37m\u001b[0m \u001b[1m5s\u001b[0m 13ms/step - accuracy: 0.8449 - loss: 0.4213 - val_accuracy: 0.8643 - val_loss: 0.3742\n",
            "Epoch 3/31\n",
            "\u001b[1m375/375\u001b[0m \u001b[32m━━━━━━━━━━━━━━━━━━━━\u001b[0m\u001b[37m\u001b[0m \u001b[1m5s\u001b[0m 12ms/step - accuracy: 0.8612 - loss: 0.3740 - val_accuracy: 0.8728 - val_loss: 0.3497\n",
            "Epoch 4/31\n",
            "\u001b[1m375/375\u001b[0m \u001b[32m━━━━━━━━━━━━━━━━━━━━\u001b[0m\u001b[37m\u001b[0m \u001b[1m5s\u001b[0m 13ms/step - accuracy: 0.8645 - loss: 0.3616 - val_accuracy: 0.8706 - val_loss: 0.3603\n",
            "Epoch 5/31\n",
            "\u001b[1m375/375\u001b[0m \u001b[32m━━━━━━━━━━━━━━━━━━━━\u001b[0m\u001b[37m\u001b[0m \u001b[1m5s\u001b[0m 12ms/step - accuracy: 0.8729 - loss: 0.3366 - val_accuracy: 0.8780 - val_loss: 0.3313\n",
            "Epoch 6/31\n",
            "\u001b[1m375/375\u001b[0m \u001b[32m━━━━━━━━━━━━━━━━━━━━\u001b[0m\u001b[37m\u001b[0m \u001b[1m5s\u001b[0m 12ms/step - accuracy: 0.8778 - loss: 0.3260 - val_accuracy: 0.8806 - val_loss: 0.3346\n",
            "Epoch 7/31\n",
            "\u001b[1m375/375\u001b[0m \u001b[32m━━━━━━━━━━━━━━━━━━━━\u001b[0m\u001b[37m\u001b[0m \u001b[1m5s\u001b[0m 12ms/step - accuracy: 0.8838 - loss: 0.3128 - val_accuracy: 0.8792 - val_loss: 0.3299\n",
            "Epoch 8/31\n",
            "\u001b[1m375/375\u001b[0m \u001b[32m━━━━━━━━━━━━━━━━━━━━\u001b[0m\u001b[37m\u001b[0m \u001b[1m5s\u001b[0m 12ms/step - accuracy: 0.8866 - loss: 0.3031 - val_accuracy: 0.8748 - val_loss: 0.3414\n",
            "Epoch 9/31\n",
            "\u001b[1m375/375\u001b[0m \u001b[32m━━━━━━━━━━━━━━━━━━━━\u001b[0m\u001b[37m\u001b[0m \u001b[1m5s\u001b[0m 12ms/step - accuracy: 0.8917 - loss: 0.2933 - val_accuracy: 0.8844 - val_loss: 0.3194\n",
            "Epoch 10/31\n",
            "\u001b[1m375/375\u001b[0m \u001b[32m━━━━━━━━━━━━━━━━━━━━\u001b[0m\u001b[37m\u001b[0m \u001b[1m5s\u001b[0m 12ms/step - accuracy: 0.8932 - loss: 0.2830 - val_accuracy: 0.8849 - val_loss: 0.3172\n",
            "Epoch 11/31\n",
            "\u001b[1m375/375\u001b[0m \u001b[32m━━━━━━━━━━━━━━━━━━━━\u001b[0m\u001b[37m\u001b[0m \u001b[1m5s\u001b[0m 13ms/step - accuracy: 0.8903 - loss: 0.2888 - val_accuracy: 0.8915 - val_loss: 0.2969\n",
            "Epoch 12/31\n",
            "\u001b[1m375/375\u001b[0m \u001b[32m━━━━━━━━━━━━━━━━━━━━\u001b[0m\u001b[37m\u001b[0m \u001b[1m5s\u001b[0m 12ms/step - accuracy: 0.8977 - loss: 0.2726 - val_accuracy: 0.8871 - val_loss: 0.3123\n",
            "Epoch 13/31\n",
            "\u001b[1m375/375\u001b[0m \u001b[32m━━━━━━━━━━━━━━━━━━━━\u001b[0m\u001b[37m\u001b[0m \u001b[1m5s\u001b[0m 12ms/step - accuracy: 0.8990 - loss: 0.2670 - val_accuracy: 0.8848 - val_loss: 0.3286\n",
            "Epoch 14/31\n",
            "\u001b[1m375/375\u001b[0m \u001b[32m━━━━━━━━━━━━━━━━━━━━\u001b[0m\u001b[37m\u001b[0m \u001b[1m5s\u001b[0m 12ms/step - accuracy: 0.8995 - loss: 0.2640 - val_accuracy: 0.8828 - val_loss: 0.3153\n",
            "Epoch 15/31\n",
            "\u001b[1m375/375\u001b[0m \u001b[32m━━━━━━━━━━━━━━━━━━━━\u001b[0m\u001b[37m\u001b[0m \u001b[1m5s\u001b[0m 13ms/step - accuracy: 0.9010 - loss: 0.2602 - val_accuracy: 0.8885 - val_loss: 0.3101\n",
            "Epoch 16/31\n",
            "\u001b[1m375/375\u001b[0m \u001b[32m━━━━━━━━━━━━━━━━━━━━\u001b[0m\u001b[37m\u001b[0m \u001b[1m5s\u001b[0m 12ms/step - accuracy: 0.9037 - loss: 0.2540 - val_accuracy: 0.8893 - val_loss: 0.3124\n",
            "Epoch 17/31\n",
            "\u001b[1m375/375\u001b[0m \u001b[32m━━━━━━━━━━━━━━━━━━━━\u001b[0m\u001b[37m\u001b[0m \u001b[1m5s\u001b[0m 12ms/step - accuracy: 0.9054 - loss: 0.2515 - val_accuracy: 0.8913 - val_loss: 0.3031\n",
            "Epoch 18/31\n",
            "\u001b[1m375/375\u001b[0m \u001b[32m━━━━━━━━━━━━━━━━━━━━\u001b[0m\u001b[37m\u001b[0m \u001b[1m5s\u001b[0m 13ms/step - accuracy: 0.9065 - loss: 0.2454 - val_accuracy: 0.8962 - val_loss: 0.2999\n",
            "Epoch 19/31\n",
            "\u001b[1m375/375\u001b[0m \u001b[32m━━━━━━━━━━━━━━━━━━━━\u001b[0m\u001b[37m\u001b[0m \u001b[1m5s\u001b[0m 13ms/step - accuracy: 0.9067 - loss: 0.2405 - val_accuracy: 0.8931 - val_loss: 0.3009\n",
            "Epoch 20/31\n",
            "\u001b[1m375/375\u001b[0m \u001b[32m━━━━━━━━━━━━━━━━━━━━\u001b[0m\u001b[37m\u001b[0m \u001b[1m5s\u001b[0m 12ms/step - accuracy: 0.9077 - loss: 0.2359 - val_accuracy: 0.8921 - val_loss: 0.3099\n",
            "Epoch 21/31\n",
            "\u001b[1m375/375\u001b[0m \u001b[32m━━━━━━━━━━━━━━━━━━━━\u001b[0m\u001b[37m\u001b[0m \u001b[1m4s\u001b[0m 12ms/step - accuracy: 0.9123 - loss: 0.2290 - val_accuracy: 0.8943 - val_loss: 0.3018\n",
            "Epoch 22/31\n",
            "\u001b[1m375/375\u001b[0m \u001b[32m━━━━━━━━━━━━━━━━━━━━\u001b[0m\u001b[37m\u001b[0m \u001b[1m5s\u001b[0m 12ms/step - accuracy: 0.9141 - loss: 0.2277 - val_accuracy: 0.8928 - val_loss: 0.3079\n",
            "Epoch 23/31\n",
            "\u001b[1m375/375\u001b[0m \u001b[32m━━━━━━━━━━━━━━━━━━━━\u001b[0m\u001b[37m\u001b[0m \u001b[1m4s\u001b[0m 12ms/step - accuracy: 0.9126 - loss: 0.2278 - val_accuracy: 0.8951 - val_loss: 0.3078\n",
            "Epoch 24/31\n",
            "\u001b[1m375/375\u001b[0m \u001b[32m━━━━━━━━━━━━━━━━━━━━\u001b[0m\u001b[37m\u001b[0m \u001b[1m4s\u001b[0m 12ms/step - accuracy: 0.9169 - loss: 0.2230 - val_accuracy: 0.8940 - val_loss: 0.2931\n",
            "Epoch 25/31\n",
            "\u001b[1m375/375\u001b[0m \u001b[32m━━━━━━━━━━━━━━━━━━━━\u001b[0m\u001b[37m\u001b[0m \u001b[1m5s\u001b[0m 13ms/step - accuracy: 0.9170 - loss: 0.2178 - val_accuracy: 0.8924 - val_loss: 0.3205\n",
            "Epoch 26/31\n",
            "\u001b[1m375/375\u001b[0m \u001b[32m━━━━━━━━━━━━━━━━━━━━\u001b[0m\u001b[37m\u001b[0m \u001b[1m5s\u001b[0m 12ms/step - accuracy: 0.9192 - loss: 0.2166 - val_accuracy: 0.8945 - val_loss: 0.3065\n",
            "Epoch 27/31\n",
            "\u001b[1m375/375\u001b[0m \u001b[32m━━━━━━━━━━━━━━━━━━━━\u001b[0m\u001b[37m\u001b[0m \u001b[1m4s\u001b[0m 12ms/step - accuracy: 0.9194 - loss: 0.2096 - val_accuracy: 0.8961 - val_loss: 0.2980\n",
            "Epoch 28/31\n",
            "\u001b[1m375/375\u001b[0m \u001b[32m━━━━━━━━━━━━━━━━━━━━\u001b[0m\u001b[37m\u001b[0m \u001b[1m5s\u001b[0m 12ms/step - accuracy: 0.9210 - loss: 0.2094 - val_accuracy: 0.8979 - val_loss: 0.2971\n",
            "Epoch 29/31\n",
            "\u001b[1m375/375\u001b[0m \u001b[32m━━━━━━━━━━━━━━━━━━━━\u001b[0m\u001b[37m\u001b[0m \u001b[1m4s\u001b[0m 12ms/step - accuracy: 0.9222 - loss: 0.2082 - val_accuracy: 0.8941 - val_loss: 0.3070\n",
            "Epoch 30/31\n",
            "\u001b[1m375/375\u001b[0m \u001b[32m━━━━━━━━━━━━━━━━━━━━\u001b[0m\u001b[37m\u001b[0m \u001b[1m4s\u001b[0m 12ms/step - accuracy: 0.9228 - loss: 0.2061 - val_accuracy: 0.8956 - val_loss: 0.2999\n",
            "Epoch 31/31\n",
            "\u001b[1m375/375\u001b[0m \u001b[32m━━━━━━━━━━━━━━━━━━━━\u001b[0m\u001b[37m\u001b[0m \u001b[1m4s\u001b[0m 12ms/step - accuracy: 0.9207 - loss: 0.2034 - val_accuracy: 0.8945 - val_loss: 0.3094\n"
          ]
        }
      ],
      "source": [
        "# Training the model.\n",
        "training = model_4.fit(X_train, Y_train, batch_size=128, epochs=31, validation_split=0.2)"
      ]
    },
    {
      "cell_type": "code",
      "execution_count": null,
      "metadata": {
        "execution": {
          "iopub.execute_input": "2025-03-19T06:32:44.756704Z",
          "iopub.status.busy": "2025-03-19T06:32:44.756314Z",
          "iopub.status.idle": "2025-03-19T06:32:45.714522Z",
          "shell.execute_reply": "2025-03-19T06:32:45.713025Z",
          "shell.execute_reply.started": "2025-03-19T06:32:44.756634Z"
        },
        "id": "wIywzScFzUZJ",
        "outputId": "d8f6f1be-4d41-4784-cb4a-f9ba8b71d7d8"
      },
      "outputs": [
        {
          "name": "stdout",
          "output_type": "stream",
          "text": [
            "\u001b[1m313/313\u001b[0m \u001b[32m━━━━━━━━━━━━━━━━━━━━\u001b[0m\u001b[37m\u001b[0m \u001b[1m1s\u001b[0m 3ms/step - accuracy: 0.8937 - loss: 0.3206\n",
            "Test accuracy: 0.8924999833106995\n"
          ]
        }
      ],
      "source": [
        "#evaluate the model_4\n",
        "test_loss, test_acc = model_4.evaluate(X_test, Y_test)\n",
        "print('Test accuracy:', test_acc)"
      ]
    },
    {
      "cell_type": "code",
      "execution_count": null,
      "metadata": {
        "execution": {
          "iopub.execute_input": "2025-03-19T06:32:45.716198Z",
          "iopub.status.busy": "2025-03-19T06:32:45.715797Z",
          "iopub.status.idle": "2025-03-19T06:32:46.186167Z",
          "shell.execute_reply": "2025-03-19T06:32:46.185078Z",
          "shell.execute_reply.started": "2025-03-19T06:32:45.716160Z"
        },
        "id": "L3tLcpsc3tKz",
        "outputId": "b81d21c2-6d2b-4b41-f06d-b29463abb425"
      },
      "outputs": [
        {
          "name": "stdout",
          "output_type": "stream",
          "text": [
            "dict_keys(['accuracy', 'loss', 'val_accuracy', 'val_loss'])\n"
          ]
        },
        {
          "data": {
            "image/png": "[encoded data removed]",
            "text/plain": [
              "<Figure size 640x480 with 1 Axes>"
            ]
          },
          "metadata": {},
          "output_type": "display_data"
        },
        {
          "data": {
            "image/png": "[encoded data removed]",
            "text/plain": [
              "<Figure size 640x480 with 1 Axes>"
            ]
          },
          "metadata": {},
          "output_type": "display_data"
        }
      ],
      "source": [
        "import matplotlib.pyplot as plt\n",
        "%matplotlib inline\n",
        "# list all data in training\n",
        "print(training.history.keys())\n",
        "# summarize training for accuracy\n",
        "plt.plot(training.history['accuracy'])\n",
        "plt.plot(training.history['val_accuracy'])\n",
        "plt.title('model accuracy')\n",
        "plt.ylabel('accuracy')\n",
        "plt.xlabel('epoch')\n",
        "plt.legend(['train', 'test'], loc='upper left')\n",
        "plt.show()\n",
        "# summarize traning for loss\n",
        "plt.plot(training.history['loss'])\n",
        "plt.plot(training.history['val_loss'])\n",
        "plt.title('model loss')\n",
        "plt.ylabel('loss')\n",
        "plt.xlabel('epoch')\n",
        "plt.legend(['train', 'test'], loc='upper left')\n",
        "plt.show()"
      ]
    },
    {
      "cell_type": "code",
      "execution_count": null,
      "metadata": {
        "execution": {
          "iopub.execute_input": "2025-03-19T06:32:46.187557Z",
          "iopub.status.busy": "2025-03-19T06:32:46.187211Z",
          "iopub.status.idle": "2025-03-19T06:32:46.209861Z",
          "shell.execute_reply": "2025-03-19T06:32:46.208764Z",
          "shell.execute_reply.started": "2025-03-19T06:32:46.187530Z"
        },
        "id": "FmDi5zHOkQTK",
        "outputId": "54d438e6-94f6-49f6-9f36-6f37b116c53e"
      },
      "outputs": [
        {
          "data": {
            "text/html": [
              "<pre style=\"white-space:pre;overflow-x:auto;line-height:normal;font-family:Menlo,'DejaVu Sans Mono',consolas,'Courier New',monospace\"><span style=\"font-weight: bold\">Model: \"sequential_4\"</span>\n",
              "</pre>\n"
            ],
            "text/plain": [
              "\u001b[1mModel: \"sequential_4\"\u001b[0m\n"
            ]
          },
          "metadata": {},
          "output_type": "display_data"
        },
        {
          "data": {
            "text/html": [
              "<pre style=\"white-space:pre;overflow-x:auto;line-height:normal;font-family:Menlo,'DejaVu Sans Mono',consolas,'Courier New',monospace\">┏━━━━━━━━━━━━━━━━━━━━━━━━━━━━━━━━━━━━━━┳━━━━━━━━━━━━━━━━━━━━━━━━━━━━━┳━━━━━━━━━━━━━━━━━┓\n",
              "┃<span style=\"font-weight: bold\"> Layer (type)                         </span>┃<span style=\"font-weight: bold\"> Output Shape                </span>┃<span style=\"font-weight: bold\">         Param # </span>┃\n",
              "┡━━━━━━━━━━━━━━━━━━━━━━━━━━━━━━━━━━━━━━╇━━━━━━━━━━━━━━━━━━━━━━━━━━━━━╇━━━━━━━━━━━━━━━━━┩\n",
              "│ dense_layer (<span style=\"color: #0087ff; text-decoration-color: #0087ff\">Dense</span>)                  │ (<span style=\"color: #00d7ff; text-decoration-color: #00d7ff\">None</span>, <span style=\"color: #00af00; text-decoration-color: #00af00\">512</span>)                 │         <span style=\"color: #00af00; text-decoration-color: #00af00\">401,920</span> │\n",
              "├──────────────────────────────────────┼─────────────────────────────┼─────────────────┤\n",
              "│ dropout_4 (<span style=\"color: #0087ff; text-decoration-color: #0087ff\">Dropout</span>)                  │ (<span style=\"color: #00d7ff; text-decoration-color: #00d7ff\">None</span>, <span style=\"color: #00af00; text-decoration-color: #00af00\">512</span>)                 │               <span style=\"color: #00af00; text-decoration-color: #00af00\">0</span> │\n",
              "├──────────────────────────────────────┼─────────────────────────────┼─────────────────┤\n",
              "│ dense_layer_2 (<span style=\"color: #0087ff; text-decoration-color: #0087ff\">Dense</span>)                │ (<span style=\"color: #00d7ff; text-decoration-color: #00d7ff\">None</span>, <span style=\"color: #00af00; text-decoration-color: #00af00\">512</span>)                 │         <span style=\"color: #00af00; text-decoration-color: #00af00\">262,656</span> │\n",
              "├──────────────────────────────────────┼─────────────────────────────┼─────────────────┤\n",
              "│ dropout_5 (<span style=\"color: #0087ff; text-decoration-color: #0087ff\">Dropout</span>)                  │ (<span style=\"color: #00d7ff; text-decoration-color: #00d7ff\">None</span>, <span style=\"color: #00af00; text-decoration-color: #00af00\">512</span>)                 │               <span style=\"color: #00af00; text-decoration-color: #00af00\">0</span> │\n",
              "├──────────────────────────────────────┼─────────────────────────────┼─────────────────┤\n",
              "│ dense_layer_3 (<span style=\"color: #0087ff; text-decoration-color: #0087ff\">Dense</span>)                │ (<span style=\"color: #00d7ff; text-decoration-color: #00d7ff\">None</span>, <span style=\"color: #00af00; text-decoration-color: #00af00\">10</span>)                  │           <span style=\"color: #00af00; text-decoration-color: #00af00\">5,130</span> │\n",
              "└──────────────────────────────────────┴─────────────────────────────┴─────────────────┘\n",
              "</pre>\n"
            ],
            "text/plain": [
              "┏━━━━━━━━━━━━━━━━━━━━━━━━━━━━━━━━━━━━━━┳━━━━━━━━━━━━━━━━━━━━━━━━━━━━━┳━━━━━━━━━━━━━━━━━┓\n",
              "┃\u001b[1m \u001b[0m\u001b[1mLayer (type)                        \u001b[0m\u001b[1m \u001b[0m┃\u001b[1m \u001b[0m\u001b[1mOutput Shape               \u001b[0m\u001b[1m \u001b[0m┃\u001b[1m \u001b[0m\u001b[1m        Param #\u001b[0m\u001b[1m \u001b[0m┃\n",
              "┡━━━━━━━━━━━━━━━━━━━━━━━━━━━━━━━━━━━━━━╇━━━━━━━━━━━━━━━━━━━━━━━━━━━━━╇━━━━━━━━━━━━━━━━━┩\n",
              "│ dense_layer (\u001b[38;5;33mDense\u001b[0m)                  │ (\u001b[38;5;45mNone\u001b[0m, \u001b[38;5;34m512\u001b[0m)                 │         \u001b[38;5;34m401,920\u001b[0m │\n",
              "├──────────────────────────────────────┼─────────────────────────────┼─────────────────┤\n",
              "│ dropout_4 (\u001b[38;5;33mDropout\u001b[0m)                  │ (\u001b[38;5;45mNone\u001b[0m, \u001b[38;5;34m512\u001b[0m)                 │               \u001b[38;5;34m0\u001b[0m │\n",
              "├──────────────────────────────────────┼─────────────────────────────┼─────────────────┤\n",
              "│ dense_layer_2 (\u001b[38;5;33mDense\u001b[0m)                │ (\u001b[38;5;45mNone\u001b[0m, \u001b[38;5;34m512\u001b[0m)                 │         \u001b[38;5;34m262,656\u001b[0m │\n",
              "├──────────────────────────────────────┼─────────────────────────────┼─────────────────┤\n",
              "│ dropout_5 (\u001b[38;5;33mDropout\u001b[0m)                  │ (\u001b[38;5;45mNone\u001b[0m, \u001b[38;5;34m512\u001b[0m)                 │               \u001b[38;5;34m0\u001b[0m │\n",
              "├──────────────────────────────────────┼─────────────────────────────┼─────────────────┤\n",
              "│ dense_layer_3 (\u001b[38;5;33mDense\u001b[0m)                │ (\u001b[38;5;45mNone\u001b[0m, \u001b[38;5;34m10\u001b[0m)                  │           \u001b[38;5;34m5,130\u001b[0m │\n",
              "└──────────────────────────────────────┴─────────────────────────────┴─────────────────┘\n"
            ]
          },
          "metadata": {},
          "output_type": "display_data"
        },
        {
          "data": {
            "text/html": [
              "<pre style=\"white-space:pre;overflow-x:auto;line-height:normal;font-family:Menlo,'DejaVu Sans Mono',consolas,'Courier New',monospace\"><span style=\"font-weight: bold\"> Total params: </span><span style=\"color: #00af00; text-decoration-color: #00af00\">2,009,120</span> (7.66 MB)\n",
              "</pre>\n"
            ],
            "text/plain": [
              "\u001b[1m Total params: \u001b[0m\u001b[38;5;34m2,009,120\u001b[0m (7.66 MB)\n"
            ]
          },
          "metadata": {},
          "output_type": "display_data"
        },
        {
          "data": {
            "text/html": [
              "<pre style=\"white-space:pre;overflow-x:auto;line-height:normal;font-family:Menlo,'DejaVu Sans Mono',consolas,'Courier New',monospace\"><span style=\"font-weight: bold\"> Trainable params: </span><span style=\"color: #00af00; text-decoration-color: #00af00\">669,706</span> (2.55 MB)\n",
              "</pre>\n"
            ],
            "text/plain": [
              "\u001b[1m Trainable params: \u001b[0m\u001b[38;5;34m669,706\u001b[0m (2.55 MB)\n"
            ]
          },
          "metadata": {},
          "output_type": "display_data"
        },
        {
          "data": {
            "text/html": [
              "<pre style=\"white-space:pre;overflow-x:auto;line-height:normal;font-family:Menlo,'DejaVu Sans Mono',consolas,'Courier New',monospace\"><span style=\"font-weight: bold\"> Non-trainable params: </span><span style=\"color: #00af00; text-decoration-color: #00af00\">0</span> (0.00 B)\n",
              "</pre>\n"
            ],
            "text/plain": [
              "\u001b[1m Non-trainable params: \u001b[0m\u001b[38;5;34m0\u001b[0m (0.00 B)\n"
            ]
          },
          "metadata": {},
          "output_type": "display_data"
        },
        {
          "data": {
            "text/html": [
              "<pre style=\"white-space:pre;overflow-x:auto;line-height:normal;font-family:Menlo,'DejaVu Sans Mono',consolas,'Courier New',monospace\"><span style=\"font-weight: bold\"> Optimizer params: </span><span style=\"color: #00af00; text-decoration-color: #00af00\">1,339,414</span> (5.11 MB)\n",
              "</pre>\n"
            ],
            "text/plain": [
              "\u001b[1m Optimizer params: \u001b[0m\u001b[38;5;34m1,339,414\u001b[0m (5.11 MB)\n"
            ]
          },
          "metadata": {},
          "output_type": "display_data"
        }
      ],
      "source": [
        "model_4.summary()"
      ]
    },
    {
      "cell_type": "code",
      "execution_count": null,
      "metadata": {
        "execution": {
          "iopub.execute_input": "2025-03-19T06:32:46.211209Z",
          "iopub.status.busy": "2025-03-19T06:32:46.210821Z",
          "iopub.status.idle": "2025-03-19T06:32:46.218185Z",
          "shell.execute_reply": "2025-03-19T06:32:46.217151Z",
          "shell.execute_reply.started": "2025-03-19T06:32:46.211171Z"
        },
        "id": "ogODS59VkQTO",
        "outputId": "3c31df4d-462c-4a50-b057-64b9f40a60b4"
      },
      "outputs": [
        {
          "data": {
            "text/plain": [
              "[<KerasVariable shape=(784, 512), dtype=float32, path=sequential_4/dense_layer/kernel>,\n",
              " <KerasVariable shape=(512,), dtype=float32, path=sequential_4/dense_layer/bias>,\n",
              " <KerasVariable shape=(512, 512), dtype=float32, path=sequential_4/dense_layer_2/kernel>,\n",
              " <KerasVariable shape=(512,), dtype=float32, path=sequential_4/dense_layer_2/bias>,\n",
              " <KerasVariable shape=(512, 10), dtype=float32, path=sequential_4/dense_layer_3/kernel>,\n",
              " <KerasVariable shape=(10,), dtype=float32, path=sequential_4/dense_layer_3/bias>]"
            ]
          },
          "execution_count": 50,
          "metadata": {},
          "output_type": "execute_result"
        }
      ],
      "source": [
        "model_4.weights"
      ]
    },
    {
      "cell_type": "code",
      "execution_count": null,
      "metadata": {
        "execution": {
          "iopub.execute_input": "2025-03-19T06:32:46.219840Z",
          "iopub.status.busy": "2025-03-19T06:32:46.219500Z",
          "iopub.status.idle": "2025-03-19T06:32:46.241402Z",
          "shell.execute_reply": "2025-03-19T06:32:46.240456Z",
          "shell.execute_reply.started": "2025-03-19T06:32:46.219801Z"
        },
        "id": "MnrRfeyJkQTS",
        "outputId": "fe433395-a443-4652-b077-4abea1a02c28"
      },
      "outputs": [
        {
          "data": {
            "text/plain": [
              "{'name': 'sequential_4',\n",
              " 'trainable': True,\n",
              " 'dtype': {'module': 'keras',\n",
              "  'class_name': 'DTypePolicy',\n",
              "  'config': {'name': 'float32'},\n",
              "  'registered_name': None},\n",
              " 'layers': [{'module': 'keras.layers',\n",
              "   'class_name': 'InputLayer',\n",
              "   'config': {'batch_shape': (None, 784),\n",
              "    'dtype': 'float32',\n",
              "    'sparse': False,\n",
              "    'name': 'input_layer_4'},\n",
              "   'registered_name': None},\n",
              "  {'module': 'keras.layers',\n",
              "   'class_name': 'Dense',\n",
              "   'config': {'name': 'dense_layer',\n",
              "    'trainable': True,\n",
              "    'dtype': {'module': 'keras',\n",
              "     'class_name': 'DTypePolicy',\n",
              "     'config': {'name': 'float32'},\n",
              "     'registered_name': None},\n",
              "    'units': 512,\n",
              "    'activation': 'relu',\n",
              "    'use_bias': True,\n",
              "    'kernel_initializer': {'module': 'keras.initializers',\n",
              "     'class_name': 'GlorotUniform',\n",
              "     'config': {'seed': None},\n",
              "     'registered_name': None},\n",
              "    'bias_initializer': {'module': 'keras.initializers',\n",
              "     'class_name': 'Zeros',\n",
              "     'config': {},\n",
              "     'registered_name': None},\n",
              "    'kernel_regularizer': None,\n",
              "    'bias_regularizer': None,\n",
              "    'kernel_constraint': None,\n",
              "    'bias_constraint': None},\n",
              "   'registered_name': None,\n",
              "   'build_config': {'input_shape': (None, 784)}},\n",
              "  {'module': 'keras.layers',\n",
              "   'class_name': 'Dropout',\n",
              "   'config': {'name': 'dropout_4',\n",
              "    'trainable': True,\n",
              "    'dtype': {'module': 'keras',\n",
              "     'class_name': 'DTypePolicy',\n",
              "     'config': {'name': 'float32'},\n",
              "     'registered_name': None},\n",
              "    'rate': 0.3,\n",
              "    'seed': None,\n",
              "    'noise_shape': None},\n",
              "   'registered_name': None,\n",
              "   'build_config': {'input_shape': (None, 512)}},\n",
              "  {'module': 'keras.layers',\n",
              "   'class_name': 'Dense',\n",
              "   'config': {'name': 'dense_layer_2',\n",
              "    'trainable': True,\n",
              "    'dtype': {'module': 'keras',\n",
              "     'class_name': 'DTypePolicy',\n",
              "     'config': {'name': 'float32'},\n",
              "     'registered_name': None},\n",
              "    'units': 512,\n",
              "    'activation': 'relu',\n",
              "    'use_bias': True,\n",
              "    'kernel_initializer': {'module': 'keras.initializers',\n",
              "     'class_name': 'GlorotUniform',\n",
              "     'config': {'seed': None},\n",
              "     'registered_name': None},\n",
              "    'bias_initializer': {'module': 'keras.initializers',\n",
              "     'class_name': 'Zeros',\n",
              "     'config': {},\n",
              "     'registered_name': None},\n",
              "    'kernel_regularizer': None,\n",
              "    'bias_regularizer': None,\n",
              "    'kernel_constraint': None,\n",
              "    'bias_constraint': None},\n",
              "   'registered_name': None,\n",
              "   'build_config': {'input_shape': (None, 512)}},\n",
              "  {'module': 'keras.layers',\n",
              "   'class_name': 'Dropout',\n",
              "   'config': {'name': 'dropout_5',\n",
              "    'trainable': True,\n",
              "    'dtype': {'module': 'keras',\n",
              "     'class_name': 'DTypePolicy',\n",
              "     'config': {'name': 'float32'},\n",
              "     'registered_name': None},\n",
              "    'rate': 0.3,\n",
              "    'seed': None,\n",
              "    'noise_shape': None},\n",
              "   'registered_name': None,\n",
              "   'build_config': {'input_shape': (None, 512)}},\n",
              "  {'module': 'keras.layers',\n",
              "   'class_name': 'Dense',\n",
              "   'config': {'name': 'dense_layer_3',\n",
              "    'trainable': True,\n",
              "    'dtype': {'module': 'keras',\n",
              "     'class_name': 'DTypePolicy',\n",
              "     'config': {'name': 'float32'},\n",
              "     'registered_name': None},\n",
              "    'units': 10,\n",
              "    'activation': 'softmax',\n",
              "    'use_bias': True,\n",
              "    'kernel_initializer': {'module': 'keras.initializers',\n",
              "     'class_name': 'GlorotUniform',\n",
              "     'config': {'seed': None},\n",
              "     'registered_name': None},\n",
              "    'bias_initializer': {'module': 'keras.initializers',\n",
              "     'class_name': 'Zeros',\n",
              "     'config': {},\n",
              "     'registered_name': None},\n",
              "    'kernel_regularizer': None,\n",
              "    'bias_regularizer': None,\n",
              "    'kernel_constraint': None,\n",
              "    'bias_constraint': None},\n",
              "   'registered_name': None,\n",
              "   'build_config': {'input_shape': (None, 512)}}],\n",
              " 'build_input_shape': (None, 784)}"
            ]
          },
          "execution_count": 51,
          "metadata": {},
          "output_type": "execute_result"
        }
      ],
      "source": [
        "model_4.get_config()"
      ]
    },
    {
      "cell_type": "markdown",
      "metadata": {
        "id": "AFbx6XHI0KyQ"
      },
      "source": [
        "### Improved Model 5: Manipulating the batch size"
      ]
    },
    {
      "cell_type": "code",
      "execution_count": null,
      "metadata": {
        "execution": {
          "iopub.execute_input": "2025-03-19T06:32:46.242831Z",
          "iopub.status.busy": "2025-03-19T06:32:46.242519Z",
          "iopub.status.idle": "2025-03-19T06:32:46.311233Z",
          "shell.execute_reply": "2025-03-19T06:32:46.310177Z",
          "shell.execute_reply.started": "2025-03-19T06:32:46.242806Z"
        },
        "id": "WPaQm2XY0KyV"
      },
      "outputs": [],
      "source": [
        "#Most common type of model is a stack of layers\n",
        "model_5 = tf.keras.Sequential()\n",
        "N_hidden = 512\n",
        "# Adds a densely-connected layer with 64 units to the model:\n",
        "model_5.add(Dense(N_hidden, name='dense_layer', input_shape=(784,), activation = 'relu'))\n",
        "# Now the model will take as input arrays of shape (*, 784)# and output arrays of shape (*, 64)\n",
        "model_5.add(Dropout(0.3))\n",
        "# Adding another dense layer:\n",
        "model_5.add(Dense(N_hidden, name='dense_layer_2', activation='relu'))\n",
        "model_5.add(Dropout(0.3))\n",
        "# After the first layer, you don't need to specify\n",
        "# the size of the input anymore:\n",
        "# Add an output layer with 10 output units (10 different classes):\n",
        "model_5.add(Dense(10, name='dense_layer_3', activation = 'softmax'))"
      ]
    },
    {
      "cell_type": "code",
      "execution_count": null,
      "metadata": {
        "execution": {
          "iopub.execute_input": "2025-03-19T06:32:46.312814Z",
          "iopub.status.busy": "2025-03-19T06:32:46.312391Z",
          "iopub.status.idle": "2025-03-19T06:32:46.323508Z",
          "shell.execute_reply": "2025-03-19T06:32:46.322349Z",
          "shell.execute_reply.started": "2025-03-19T06:32:46.312773Z"
        },
        "id": "UWFjgHFj0Kyg"
      },
      "outputs": [],
      "source": [
        "# Compiling the model.\n",
        "model_5.compile(optimizer='Adam',\n",
        "              loss='categorical_crossentropy',\n",
        "              metrics=['accuracy'])"
      ]
    },
    {
      "cell_type": "code",
      "execution_count": null,
      "metadata": {
        "execution": {
          "iopub.execute_input": "2025-03-19T06:32:46.325090Z",
          "iopub.status.busy": "2025-03-19T06:32:46.324684Z",
          "iopub.status.idle": "2025-03-19T06:36:10.989509Z",
          "shell.execute_reply": "2025-03-19T06:36:10.988546Z",
          "shell.execute_reply.started": "2025-03-19T06:32:46.325048Z"
        },
        "id": "opXV9TbQ0Kyl",
        "outputId": "6a6948fc-12d1-49fd-8d99-c2062577cb56"
      },
      "outputs": [
        {
          "name": "stdout",
          "output_type": "stream",
          "text": [
            "Epoch 1/30\n",
            "\u001b[1m750/750\u001b[0m \u001b[32m━━━━━━━━━━━━━━━━━━━━\u001b[0m\u001b[37m\u001b[0m \u001b[1m9s\u001b[0m 10ms/step - accuracy: 0.7456 - loss: 0.7140 - val_accuracy: 0.8471 - val_loss: 0.4152\n",
            "Epoch 2/30\n",
            "\u001b[1m750/750\u001b[0m \u001b[32m━━━━━━━━━━━━━━━━━━━━\u001b[0m\u001b[37m\u001b[0m \u001b[1m7s\u001b[0m 9ms/step - accuracy: 0.8430 - loss: 0.4320 - val_accuracy: 0.8564 - val_loss: 0.3827\n",
            "Epoch 3/30\n",
            "\u001b[1m750/750\u001b[0m \u001b[32m━━━━━━━━━━━━━━━━━━━━\u001b[0m\u001b[37m\u001b[0m \u001b[1m7s\u001b[0m 9ms/step - accuracy: 0.8552 - loss: 0.3859 - val_accuracy: 0.8703 - val_loss: 0.3549\n",
            "Epoch 4/30\n",
            "\u001b[1m750/750\u001b[0m \u001b[32m━━━━━━━━━━━━━━━━━━━━\u001b[0m\u001b[37m\u001b[0m \u001b[1m7s\u001b[0m 9ms/step - accuracy: 0.8677 - loss: 0.3584 - val_accuracy: 0.8767 - val_loss: 0.3435\n",
            "Epoch 5/30\n",
            "\u001b[1m750/750\u001b[0m \u001b[32m━━━━━━━━━━━━━━━━━━━━\u001b[0m\u001b[37m\u001b[0m \u001b[1m7s\u001b[0m 9ms/step - accuracy: 0.8699 - loss: 0.3476 - val_accuracy: 0.8791 - val_loss: 0.3287\n",
            "Epoch 6/30\n",
            "\u001b[1m750/750\u001b[0m \u001b[32m━━━━━━━━━━━━━━━━━━━━\u001b[0m\u001b[37m\u001b[0m \u001b[1m7s\u001b[0m 9ms/step - accuracy: 0.8780 - loss: 0.3229 - val_accuracy: 0.8766 - val_loss: 0.3365\n",
            "Epoch 7/30\n",
            "\u001b[1m750/750\u001b[0m \u001b[32m━━━━━━━━━━━━━━━━━━━━\u001b[0m\u001b[37m\u001b[0m \u001b[1m7s\u001b[0m 9ms/step - accuracy: 0.8819 - loss: 0.3198 - val_accuracy: 0.8806 - val_loss: 0.3344\n",
            "Epoch 8/30\n",
            "\u001b[1m750/750\u001b[0m \u001b[32m━━━━━━━━━━━━━━━━━━━━\u001b[0m\u001b[37m\u001b[0m \u001b[1m7s\u001b[0m 9ms/step - accuracy: 0.8834 - loss: 0.3094 - val_accuracy: 0.8870 - val_loss: 0.3190\n",
            "Epoch 9/30\n",
            "\u001b[1m750/750\u001b[0m \u001b[32m━━━━━━━━━━━━━━━━━━━━\u001b[0m\u001b[37m\u001b[0m \u001b[1m7s\u001b[0m 9ms/step - accuracy: 0.8863 - loss: 0.2977 - val_accuracy: 0.8851 - val_loss: 0.3225\n",
            "Epoch 10/30\n",
            "\u001b[1m750/750\u001b[0m \u001b[32m━━━━━━━━━━━━━━━━━━━━\u001b[0m\u001b[37m\u001b[0m \u001b[1m7s\u001b[0m 9ms/step - accuracy: 0.8879 - loss: 0.2965 - val_accuracy: 0.8879 - val_loss: 0.3075\n",
            "Epoch 11/30\n",
            "\u001b[1m750/750\u001b[0m \u001b[32m━━━━━━━━━━━━━━━━━━━━\u001b[0m\u001b[37m\u001b[0m \u001b[1m7s\u001b[0m 9ms/step - accuracy: 0.8893 - loss: 0.2892 - val_accuracy: 0.8846 - val_loss: 0.3189\n",
            "Epoch 12/30\n",
            "\u001b[1m750/750\u001b[0m \u001b[32m━━━━━━━━━━━━━━━━━━━━\u001b[0m\u001b[37m\u001b[0m \u001b[1m7s\u001b[0m 9ms/step - accuracy: 0.8928 - loss: 0.2805 - val_accuracy: 0.8878 - val_loss: 0.3137\n",
            "Epoch 13/30\n",
            "\u001b[1m750/750\u001b[0m \u001b[32m━━━━━━━━━━━━━━━━━━━━\u001b[0m\u001b[37m\u001b[0m \u001b[1m7s\u001b[0m 9ms/step - accuracy: 0.8947 - loss: 0.2832 - val_accuracy: 0.8852 - val_loss: 0.3234\n",
            "Epoch 14/30\n",
            "\u001b[1m750/750\u001b[0m \u001b[32m━━━━━━━━━━━━━━━━━━━━\u001b[0m\u001b[37m\u001b[0m \u001b[1m7s\u001b[0m 9ms/step - accuracy: 0.8972 - loss: 0.2723 - val_accuracy: 0.8877 - val_loss: 0.3089\n",
            "Epoch 15/30\n",
            "\u001b[1m750/750\u001b[0m \u001b[32m━━━━━━━━━━━━━━━━━━━━\u001b[0m\u001b[37m\u001b[0m \u001b[1m7s\u001b[0m 9ms/step - accuracy: 0.9003 - loss: 0.2675 - val_accuracy: 0.8886 - val_loss: 0.3166\n",
            "Epoch 16/30\n",
            "\u001b[1m750/750\u001b[0m \u001b[32m━━━━━━━━━━━━━━━━━━━━\u001b[0m\u001b[37m\u001b[0m \u001b[1m7s\u001b[0m 9ms/step - accuracy: 0.9008 - loss: 0.2587 - val_accuracy: 0.8925 - val_loss: 0.3009\n",
            "Epoch 17/30\n",
            "\u001b[1m750/750\u001b[0m \u001b[32m━━━━━━━━━━━━━━━━━━━━\u001b[0m\u001b[37m\u001b[0m \u001b[1m7s\u001b[0m 9ms/step - accuracy: 0.8995 - loss: 0.2601 - val_accuracy: 0.8936 - val_loss: 0.3047\n",
            "Epoch 18/30\n",
            "\u001b[1m750/750\u001b[0m \u001b[32m━━━━━━━━━━━━━━━━━━━━\u001b[0m\u001b[37m\u001b[0m \u001b[1m7s\u001b[0m 9ms/step - accuracy: 0.9006 - loss: 0.2579 - val_accuracy: 0.8877 - val_loss: 0.3108\n",
            "Epoch 19/30\n",
            "\u001b[1m750/750\u001b[0m \u001b[32m━━━━━━━━━━━━━━━━━━━━\u001b[0m\u001b[37m\u001b[0m \u001b[1m7s\u001b[0m 9ms/step - accuracy: 0.9064 - loss: 0.2521 - val_accuracy: 0.8904 - val_loss: 0.3135\n",
            "Epoch 20/30\n",
            "\u001b[1m750/750\u001b[0m \u001b[32m━━━━━━━━━━━━━━━━━━━━\u001b[0m\u001b[37m\u001b[0m \u001b[1m7s\u001b[0m 9ms/step - accuracy: 0.9033 - loss: 0.2490 - val_accuracy: 0.8941 - val_loss: 0.3042\n",
            "Epoch 21/30\n",
            "\u001b[1m750/750\u001b[0m \u001b[32m━━━━━━━━━━━━━━━━━━━━\u001b[0m\u001b[37m\u001b[0m \u001b[1m7s\u001b[0m 9ms/step - accuracy: 0.9061 - loss: 0.2475 - val_accuracy: 0.8876 - val_loss: 0.3112\n",
            "Epoch 22/30\n",
            "\u001b[1m750/750\u001b[0m \u001b[32m━━━━━━━━━━━━━━━━━━━━\u001b[0m\u001b[37m\u001b[0m \u001b[1m7s\u001b[0m 9ms/step - accuracy: 0.9081 - loss: 0.2436 - val_accuracy: 0.8891 - val_loss: 0.3065\n",
            "Epoch 23/30\n",
            "\u001b[1m750/750\u001b[0m \u001b[32m━━━━━━━━━━━━━━━━━━━━\u001b[0m\u001b[37m\u001b[0m \u001b[1m7s\u001b[0m 9ms/step - accuracy: 0.9096 - loss: 0.2348 - val_accuracy: 0.8943 - val_loss: 0.3132\n",
            "Epoch 24/30\n",
            "\u001b[1m750/750\u001b[0m \u001b[32m━━━━━━━━━━━━━━━━━━━━\u001b[0m\u001b[37m\u001b[0m \u001b[1m7s\u001b[0m 9ms/step - accuracy: 0.9099 - loss: 0.2339 - val_accuracy: 0.8955 - val_loss: 0.3097\n",
            "Epoch 25/30\n",
            "\u001b[1m750/750\u001b[0m \u001b[32m━━━━━━━━━━━━━━━━━━━━\u001b[0m\u001b[37m\u001b[0m \u001b[1m7s\u001b[0m 9ms/step - accuracy: 0.9139 - loss: 0.2290 - val_accuracy: 0.8989 - val_loss: 0.3027\n",
            "Epoch 26/30\n",
            "\u001b[1m750/750\u001b[0m \u001b[32m━━━━━━━━━━━━━━━━━━━━\u001b[0m\u001b[37m\u001b[0m \u001b[1m7s\u001b[0m 9ms/step - accuracy: 0.9136 - loss: 0.2277 - val_accuracy: 0.8956 - val_loss: 0.3103\n",
            "Epoch 27/30\n",
            "\u001b[1m750/750\u001b[0m \u001b[32m━━━━━━━━━━━━━━━━━━━━\u001b[0m\u001b[37m\u001b[0m \u001b[1m7s\u001b[0m 9ms/step - accuracy: 0.9148 - loss: 0.2255 - val_accuracy: 0.8923 - val_loss: 0.3202\n",
            "Epoch 28/30\n",
            "\u001b[1m750/750\u001b[0m \u001b[32m━━━━━━━━━━━━━━━━━━━━\u001b[0m\u001b[37m\u001b[0m \u001b[1m7s\u001b[0m 9ms/step - accuracy: 0.9142 - loss: 0.2329 - val_accuracy: 0.8953 - val_loss: 0.3150\n",
            "Epoch 29/30\n",
            "\u001b[1m750/750\u001b[0m \u001b[32m━━━━━━━━━━━━━━━━━━━━\u001b[0m\u001b[37m\u001b[0m \u001b[1m7s\u001b[0m 9ms/step - accuracy: 0.9184 - loss: 0.2249 - val_accuracy: 0.8894 - val_loss: 0.3183\n",
            "Epoch 30/30\n",
            "\u001b[1m750/750\u001b[0m \u001b[32m━━━━━━━━━━━━━━━━━━━━\u001b[0m\u001b[37m\u001b[0m \u001b[1m7s\u001b[0m 9ms/step - accuracy: 0.9168 - loss: 0.2190 - val_accuracy: 0.8963 - val_loss: 0.3027\n"
          ]
        }
      ],
      "source": [
        "# Training the model.\n",
        "training = model_5.fit(X_train, Y_train, batch_size=64, epochs=30, validation_split=0.2)"
      ]
    },
    {
      "cell_type": "code",
      "execution_count": null,
      "metadata": {
        "execution": {
          "iopub.execute_input": "2025-03-19T06:36:10.991317Z",
          "iopub.status.busy": "2025-03-19T06:36:10.990955Z",
          "iopub.status.idle": "2025-03-19T06:36:11.454413Z",
          "shell.execute_reply": "2025-03-19T06:36:11.453440Z",
          "shell.execute_reply.started": "2025-03-19T06:36:10.991280Z"
        },
        "id": "UHMf1HAskp9n",
        "outputId": "8c7f2422-bc47-42bd-80dd-fd3000f1bfc5"
      },
      "outputs": [
        {
          "name": "stdout",
          "output_type": "stream",
          "text": [
            "dict_keys(['accuracy', 'loss', 'val_accuracy', 'val_loss'])\n"
          ]
        },
        {
          "data": {
            "image/png": "[encoded data removed]",
            "text/plain": [
              "<Figure size 640x480 with 1 Axes>"
            ]
          },
          "metadata": {},
          "output_type": "display_data"
        },
        {
          "data": {
            "image/png": "[encoded data removed]",
            "text/plain": [
              "<Figure size 640x480 with 1 Axes>"
            ]
          },
          "metadata": {},
          "output_type": "display_data"
        }
      ],
      "source": [
        "import matplotlib.pyplot as plt\n",
        "%matplotlib inline\n",
        "# list all data in training\n",
        "print(training.history.keys())\n",
        "# summarize training for accuracy\n",
        "plt.plot(training.history['accuracy'])\n",
        "plt.plot(training.history['val_accuracy'])\n",
        "plt.title('model accuracy')\n",
        "plt.ylabel('accuracy')\n",
        "plt.xlabel('epoch')\n",
        "plt.legend(['train', 'test'], loc='upper left')\n",
        "plt.show()\n",
        "# summarize traning for loss\n",
        "plt.plot(training.history['loss'])\n",
        "plt.plot(training.history['val_loss'])\n",
        "plt.title('model loss')\n",
        "plt.ylabel('loss')\n",
        "plt.xlabel('epoch')\n",
        "plt.legend(['train', 'test'], loc='upper left')\n",
        "plt.show()"
      ]
    },
    {
      "cell_type": "code",
      "execution_count": null,
      "metadata": {
        "execution": {
          "iopub.execute_input": "2025-03-19T06:36:11.455744Z",
          "iopub.status.busy": "2025-03-19T06:36:11.455458Z",
          "iopub.status.idle": "2025-03-19T06:36:12.277340Z",
          "shell.execute_reply": "2025-03-19T06:36:12.276250Z",
          "shell.execute_reply.started": "2025-03-19T06:36:11.455720Z"
        },
        "id": "e4kmSKEn0Kyv",
        "outputId": "da40f73d-c9bb-4a67-c482-595149e6931d"
      },
      "outputs": [
        {
          "name": "stdout",
          "output_type": "stream",
          "text": [
            "\u001b[1m313/313\u001b[0m \u001b[32m━━━━━━━━━━━━━━━━━━━━\u001b[0m\u001b[37m\u001b[0m \u001b[1m1s\u001b[0m 2ms/step - accuracy: 0.8844 - loss: 0.3350\n",
            "Test accuracy: 0.8883000016212463\n"
          ]
        }
      ],
      "source": [
        "#evaluate the model\n",
        "test_loss, test_acc = model_5.evaluate(X_test, Y_test)\n",
        "print('Test accuracy:', test_acc)"
      ]
    },
    {
      "cell_type": "code",
      "execution_count": null,
      "metadata": {
        "execution": {
          "iopub.execute_input": "2025-03-19T06:36:12.278884Z",
          "iopub.status.busy": "2025-03-19T06:36:12.278495Z",
          "iopub.status.idle": "2025-03-19T06:36:12.300154Z",
          "shell.execute_reply": "2025-03-19T06:36:12.298991Z",
          "shell.execute_reply.started": "2025-03-19T06:36:12.278855Z"
        },
        "id": "LVr1ZMvnkp92",
        "outputId": "f44a524f-667d-4a3e-acb5-fe5f59401b1e"
      },
      "outputs": [
        {
          "data": {
            "text/html": [
              "<pre style=\"white-space:pre;overflow-x:auto;line-height:normal;font-family:Menlo,'DejaVu Sans Mono',consolas,'Courier New',monospace\"><span style=\"font-weight: bold\">Model: \"sequential_5\"</span>\n",
              "</pre>\n"
            ],
            "text/plain": [
              "\u001b[1mModel: \"sequential_5\"\u001b[0m\n"
            ]
          },
          "metadata": {},
          "output_type": "display_data"
        },
        {
          "data": {
            "text/html": [
              "<pre style=\"white-space:pre;overflow-x:auto;line-height:normal;font-family:Menlo,'DejaVu Sans Mono',consolas,'Courier New',monospace\">┏━━━━━━━━━━━━━━━━━━━━━━━━━━━━━━━━━━━━━━┳━━━━━━━━━━━━━━━━━━━━━━━━━━━━━┳━━━━━━━━━━━━━━━━━┓\n",
              "┃<span style=\"font-weight: bold\"> Layer (type)                         </span>┃<span style=\"font-weight: bold\"> Output Shape                </span>┃<span style=\"font-weight: bold\">         Param # </span>┃\n",
              "┡━━━━━━━━━━━━━━━━━━━━━━━━━━━━━━━━━━━━━━╇━━━━━━━━━━━━━━━━━━━━━━━━━━━━━╇━━━━━━━━━━━━━━━━━┩\n",
              "│ dense_layer (<span style=\"color: #0087ff; text-decoration-color: #0087ff\">Dense</span>)                  │ (<span style=\"color: #00d7ff; text-decoration-color: #00d7ff\">None</span>, <span style=\"color: #00af00; text-decoration-color: #00af00\">512</span>)                 │         <span style=\"color: #00af00; text-decoration-color: #00af00\">401,920</span> │\n",
              "├──────────────────────────────────────┼─────────────────────────────┼─────────────────┤\n",
              "│ dropout_6 (<span style=\"color: #0087ff; text-decoration-color: #0087ff\">Dropout</span>)                  │ (<span style=\"color: #00d7ff; text-decoration-color: #00d7ff\">None</span>, <span style=\"color: #00af00; text-decoration-color: #00af00\">512</span>)                 │               <span style=\"color: #00af00; text-decoration-color: #00af00\">0</span> │\n",
              "├──────────────────────────────────────┼─────────────────────────────┼─────────────────┤\n",
              "│ dense_layer_2 (<span style=\"color: #0087ff; text-decoration-color: #0087ff\">Dense</span>)                │ (<span style=\"color: #00d7ff; text-decoration-color: #00d7ff\">None</span>, <span style=\"color: #00af00; text-decoration-color: #00af00\">512</span>)                 │         <span style=\"color: #00af00; text-decoration-color: #00af00\">262,656</span> │\n",
              "├──────────────────────────────────────┼─────────────────────────────┼─────────────────┤\n",
              "│ dropout_7 (<span style=\"color: #0087ff; text-decoration-color: #0087ff\">Dropout</span>)                  │ (<span style=\"color: #00d7ff; text-decoration-color: #00d7ff\">None</span>, <span style=\"color: #00af00; text-decoration-color: #00af00\">512</span>)                 │               <span style=\"color: #00af00; text-decoration-color: #00af00\">0</span> │\n",
              "├──────────────────────────────────────┼─────────────────────────────┼─────────────────┤\n",
              "│ dense_layer_3 (<span style=\"color: #0087ff; text-decoration-color: #0087ff\">Dense</span>)                │ (<span style=\"color: #00d7ff; text-decoration-color: #00d7ff\">None</span>, <span style=\"color: #00af00; text-decoration-color: #00af00\">10</span>)                  │           <span style=\"color: #00af00; text-decoration-color: #00af00\">5,130</span> │\n",
              "└──────────────────────────────────────┴─────────────────────────────┴─────────────────┘\n",
              "</pre>\n"
            ],
            "text/plain": [
              "┏━━━━━━━━━━━━━━━━━━━━━━━━━━━━━━━━━━━━━━┳━━━━━━━━━━━━━━━━━━━━━━━━━━━━━┳━━━━━━━━━━━━━━━━━┓\n",
              "┃\u001b[1m \u001b[0m\u001b[1mLayer (type)                        \u001b[0m\u001b[1m \u001b[0m┃\u001b[1m \u001b[0m\u001b[1mOutput Shape               \u001b[0m\u001b[1m \u001b[0m┃\u001b[1m \u001b[0m\u001b[1m        Param #\u001b[0m\u001b[1m \u001b[0m┃\n",
              "┡━━━━━━━━━━━━━━━━━━━━━━━━━━━━━━━━━━━━━━╇━━━━━━━━━━━━━━━━━━━━━━━━━━━━━╇━━━━━━━━━━━━━━━━━┩\n",
              "│ dense_layer (\u001b[38;5;33mDense\u001b[0m)                  │ (\u001b[38;5;45mNone\u001b[0m, \u001b[38;5;34m512\u001b[0m)                 │         \u001b[38;5;34m401,920\u001b[0m │\n",
              "├──────────────────────────────────────┼─────────────────────────────┼─────────────────┤\n",
              "│ dropout_6 (\u001b[38;5;33mDropout\u001b[0m)                  │ (\u001b[38;5;45mNone\u001b[0m, \u001b[38;5;34m512\u001b[0m)                 │               \u001b[38;5;34m0\u001b[0m │\n",
              "├──────────────────────────────────────┼─────────────────────────────┼─────────────────┤\n",
              "│ dense_layer_2 (\u001b[38;5;33mDense\u001b[0m)                │ (\u001b[38;5;45mNone\u001b[0m, \u001b[38;5;34m512\u001b[0m)                 │         \u001b[38;5;34m262,656\u001b[0m │\n",
              "├──────────────────────────────────────┼─────────────────────────────┼─────────────────┤\n",
              "│ dropout_7 (\u001b[38;5;33mDropout\u001b[0m)                  │ (\u001b[38;5;45mNone\u001b[0m, \u001b[38;5;34m512\u001b[0m)                 │               \u001b[38;5;34m0\u001b[0m │\n",
              "├──────────────────────────────────────┼─────────────────────────────┼─────────────────┤\n",
              "│ dense_layer_3 (\u001b[38;5;33mDense\u001b[0m)                │ (\u001b[38;5;45mNone\u001b[0m, \u001b[38;5;34m10\u001b[0m)                  │           \u001b[38;5;34m5,130\u001b[0m │\n",
              "└──────────────────────────────────────┴─────────────────────────────┴─────────────────┘\n"
            ]
          },
          "metadata": {},
          "output_type": "display_data"
        },
        {
          "data": {
            "text/html": [
              "<pre style=\"white-space:pre;overflow-x:auto;line-height:normal;font-family:Menlo,'DejaVu Sans Mono',consolas,'Courier New',monospace\"><span style=\"font-weight: bold\"> Total params: </span><span style=\"color: #00af00; text-decoration-color: #00af00\">2,009,120</span> (7.66 MB)\n",
              "</pre>\n"
            ],
            "text/plain": [
              "\u001b[1m Total params: \u001b[0m\u001b[38;5;34m2,009,120\u001b[0m (7.66 MB)\n"
            ]
          },
          "metadata": {},
          "output_type": "display_data"
        },
        {
          "data": {
            "text/html": [
              "<pre style=\"white-space:pre;overflow-x:auto;line-height:normal;font-family:Menlo,'DejaVu Sans Mono',consolas,'Courier New',monospace\"><span style=\"font-weight: bold\"> Trainable params: </span><span style=\"color: #00af00; text-decoration-color: #00af00\">669,706</span> (2.55 MB)\n",
              "</pre>\n"
            ],
            "text/plain": [
              "\u001b[1m Trainable params: \u001b[0m\u001b[38;5;34m669,706\u001b[0m (2.55 MB)\n"
            ]
          },
          "metadata": {},
          "output_type": "display_data"
        },
        {
          "data": {
            "text/html": [
              "<pre style=\"white-space:pre;overflow-x:auto;line-height:normal;font-family:Menlo,'DejaVu Sans Mono',consolas,'Courier New',monospace\"><span style=\"font-weight: bold\"> Non-trainable params: </span><span style=\"color: #00af00; text-decoration-color: #00af00\">0</span> (0.00 B)\n",
              "</pre>\n"
            ],
            "text/plain": [
              "\u001b[1m Non-trainable params: \u001b[0m\u001b[38;5;34m0\u001b[0m (0.00 B)\n"
            ]
          },
          "metadata": {},
          "output_type": "display_data"
        },
        {
          "data": {
            "text/html": [
              "<pre style=\"white-space:pre;overflow-x:auto;line-height:normal;font-family:Menlo,'DejaVu Sans Mono',consolas,'Courier New',monospace\"><span style=\"font-weight: bold\"> Optimizer params: </span><span style=\"color: #00af00; text-decoration-color: #00af00\">1,339,414</span> (5.11 MB)\n",
              "</pre>\n"
            ],
            "text/plain": [
              "\u001b[1m Optimizer params: \u001b[0m\u001b[38;5;34m1,339,414\u001b[0m (5.11 MB)\n"
            ]
          },
          "metadata": {},
          "output_type": "display_data"
        }
      ],
      "source": [
        "model_5.summary()"
      ]
    },
    {
      "cell_type": "code",
      "execution_count": null,
      "metadata": {
        "execution": {
          "iopub.execute_input": "2025-03-19T06:36:12.301444Z",
          "iopub.status.busy": "2025-03-19T06:36:12.301104Z",
          "iopub.status.idle": "2025-03-19T06:36:12.312810Z",
          "shell.execute_reply": "2025-03-19T06:36:12.311589Z",
          "shell.execute_reply.started": "2025-03-19T06:36:12.301371Z"
        },
        "id": "j76rvRmxkp-C",
        "outputId": "5652e8b0-ecfe-48ad-b311-a2c820d73aef"
      },
      "outputs": [
        {
          "data": {
            "text/plain": [
              "[<KerasVariable shape=(784, 512), dtype=float32, path=sequential_5/dense_layer/kernel>,\n",
              " <KerasVariable shape=(512,), dtype=float32, path=sequential_5/dense_layer/bias>,\n",
              " <KerasVariable shape=(512, 512), dtype=float32, path=sequential_5/dense_layer_2/kernel>,\n",
              " <KerasVariable shape=(512,), dtype=float32, path=sequential_5/dense_layer_2/bias>,\n",
              " <KerasVariable shape=(512, 10), dtype=float32, path=sequential_5/dense_layer_3/kernel>,\n",
              " <KerasVariable shape=(10,), dtype=float32, path=sequential_5/dense_layer_3/bias>]"
            ]
          },
          "execution_count": 58,
          "metadata": {},
          "output_type": "execute_result"
        }
      ],
      "source": [
        "model_5.weights"
      ]
    },
    {
      "cell_type": "code",
      "execution_count": null,
      "metadata": {
        "execution": {
          "iopub.execute_input": "2025-03-19T06:36:12.314113Z",
          "iopub.status.busy": "2025-03-19T06:36:12.313708Z",
          "iopub.status.idle": "2025-03-19T06:36:12.341842Z",
          "shell.execute_reply": "2025-03-19T06:36:12.340794Z",
          "shell.execute_reply.started": "2025-03-19T06:36:12.314085Z"
        },
        "id": "0cV3gfkLkp-M",
        "outputId": "94539040-1bde-431a-8115-bdfbfb74116f"
      },
      "outputs": [
        {
          "data": {
            "text/plain": [
              "{'name': 'sequential_5',\n",
              " 'trainable': True,\n",
              " 'dtype': {'module': 'keras',\n",
              "  'class_name': 'DTypePolicy',\n",
              "  'config': {'name': 'float32'},\n",
              "  'registered_name': None},\n",
              " 'layers': [{'module': 'keras.layers',\n",
              "   'class_name': 'InputLayer',\n",
              "   'config': {'batch_shape': (None, 784),\n",
              "    'dtype': 'float32',\n",
              "    'sparse': False,\n",
              "    'name': 'input_layer_5'},\n",
              "   'registered_name': None},\n",
              "  {'module': 'keras.layers',\n",
              "   'class_name': 'Dense',\n",
              "   'config': {'name': 'dense_layer',\n",
              "    'trainable': True,\n",
              "    'dtype': {'module': 'keras',\n",
              "     'class_name': 'DTypePolicy',\n",
              "     'config': {'name': 'float32'},\n",
              "     'registered_name': None},\n",
              "    'units': 512,\n",
              "    'activation': 'relu',\n",
              "    'use_bias': True,\n",
              "    'kernel_initializer': {'module': 'keras.initializers',\n",
              "     'class_name': 'GlorotUniform',\n",
              "     'config': {'seed': None},\n",
              "     'registered_name': None},\n",
              "    'bias_initializer': {'module': 'keras.initializers',\n",
              "     'class_name': 'Zeros',\n",
              "     'config': {},\n",
              "     'registered_name': None},\n",
              "    'kernel_regularizer': None,\n",
              "    'bias_regularizer': None,\n",
              "    'kernel_constraint': None,\n",
              "    'bias_constraint': None},\n",
              "   'registered_name': None,\n",
              "   'build_config': {'input_shape': (None, 784)}},\n",
              "  {'module': 'keras.layers',\n",
              "   'class_name': 'Dropout',\n",
              "   'config': {'name': 'dropout_6',\n",
              "    'trainable': True,\n",
              "    'dtype': {'module': 'keras',\n",
              "     'class_name': 'DTypePolicy',\n",
              "     'config': {'name': 'float32'},\n",
              "     'registered_name': None},\n",
              "    'rate': 0.3,\n",
              "    'seed': None,\n",
              "    'noise_shape': None},\n",
              "   'registered_name': None,\n",
              "   'build_config': {'input_shape': (None, 512)}},\n",
              "  {'module': 'keras.layers',\n",
              "   'class_name': 'Dense',\n",
              "   'config': {'name': 'dense_layer_2',\n",
              "    'trainable': True,\n",
              "    'dtype': {'module': 'keras',\n",
              "     'class_name': 'DTypePolicy',\n",
              "     'config': {'name': 'float32'},\n",
              "     'registered_name': None},\n",
              "    'units': 512,\n",
              "    'activation': 'relu',\n",
              "    'use_bias': True,\n",
              "    'kernel_initializer': {'module': 'keras.initializers',\n",
              "     'class_name': 'GlorotUniform',\n",
              "     'config': {'seed': None},\n",
              "     'registered_name': None},\n",
              "    'bias_initializer': {'module': 'keras.initializers',\n",
              "     'class_name': 'Zeros',\n",
              "     'config': {},\n",
              "     'registered_name': None},\n",
              "    'kernel_regularizer': None,\n",
              "    'bias_regularizer': None,\n",
              "    'kernel_constraint': None,\n",
              "    'bias_constraint': None},\n",
              "   'registered_name': None,\n",
              "   'build_config': {'input_shape': (None, 512)}},\n",
              "  {'module': 'keras.layers',\n",
              "   'class_name': 'Dropout',\n",
              "   'config': {'name': 'dropout_7',\n",
              "    'trainable': True,\n",
              "    'dtype': {'module': 'keras',\n",
              "     'class_name': 'DTypePolicy',\n",
              "     'config': {'name': 'float32'},\n",
              "     'registered_name': None},\n",
              "    'rate': 0.3,\n",
              "    'seed': None,\n",
              "    'noise_shape': None},\n",
              "   'registered_name': None,\n",
              "   'build_config': {'input_shape': (None, 512)}},\n",
              "  {'module': 'keras.layers',\n",
              "   'class_name': 'Dense',\n",
              "   'config': {'name': 'dense_layer_3',\n",
              "    'trainable': True,\n",
              "    'dtype': {'module': 'keras',\n",
              "     'class_name': 'DTypePolicy',\n",
              "     'config': {'name': 'float32'},\n",
              "     'registered_name': None},\n",
              "    'units': 10,\n",
              "    'activation': 'softmax',\n",
              "    'use_bias': True,\n",
              "    'kernel_initializer': {'module': 'keras.initializers',\n",
              "     'class_name': 'GlorotUniform',\n",
              "     'config': {'seed': None},\n",
              "     'registered_name': None},\n",
              "    'bias_initializer': {'module': 'keras.initializers',\n",
              "     'class_name': 'Zeros',\n",
              "     'config': {},\n",
              "     'registered_name': None},\n",
              "    'kernel_regularizer': None,\n",
              "    'bias_regularizer': None,\n",
              "    'kernel_constraint': None,\n",
              "    'bias_constraint': None},\n",
              "   'registered_name': None,\n",
              "   'build_config': {'input_shape': (None, 512)}}],\n",
              " 'build_input_shape': (None, 784)}"
            ]
          },
          "execution_count": 59,
          "metadata": {},
          "output_type": "execute_result"
        }
      ],
      "source": [
        "model_5.get_config()"
      ]
    },
    {
      "cell_type": "markdown",
      "metadata": {
        "id": "jX8DXi1jiFYS"
      },
      "source": [
        "### Improved Model 6: Adding Another Hidden Layer to the Model"
      ]
    },
    {
      "cell_type": "code",
      "execution_count": null,
      "metadata": {
        "execution": {
          "iopub.execute_input": "2025-03-19T06:36:12.343176Z",
          "iopub.status.busy": "2025-03-19T06:36:12.342885Z",
          "iopub.status.idle": "2025-03-19T06:36:12.431854Z",
          "shell.execute_reply": "2025-03-19T06:36:12.430744Z",
          "shell.execute_reply.started": "2025-03-19T06:36:12.343153Z"
        },
        "id": "5Ad_vKSRiNq0"
      },
      "outputs": [],
      "source": [
        "import tensorflow as tf\n",
        "\n",
        "#In Keras, layers are assembled to build models\n",
        "from tensorflow.keras.layers import Dense\n",
        "from tensorflow.keras.layers import Dropout\n",
        "\n",
        "#Most common type of model is a stack of layers\n",
        "model_6 = tf.keras.Sequential()\n",
        "N_hidden = 512\n",
        "\n",
        "# Adds a densely-connected layer with 512 units to the model:\n",
        "model_6.add(Dense(N_hidden, name='dense_layer', input_shape=(784,), activation = 'relu'))\n",
        "# Now the model will take as input arrays of shape (*, 784)# and output arrays of shape (*, 512)\n",
        "model_6.add(Dropout(0.3))\n",
        "\n",
        "# Adding another dense layer:\n",
        "model_6.add(Dense(N_hidden, name='dense_layer_2', activation='relu'))\n",
        "model_6.add(Dropout(0.3))\n",
        "\n",
        "# Adding another dense layer:\n",
        "model_6.add(Dense(N_hidden, name='dense_layer_3', activation='relu'))\n",
        "model_6.add(Dropout(0.3))\n",
        "\n",
        "# Add an output layer with 10 output units (10 different classes):\n",
        "model_6.add(Dense(10, name='dense_layer_4', activation = 'softmax'))"
      ]
    },
    {
      "cell_type": "code",
      "execution_count": null,
      "metadata": {
        "execution": {
          "iopub.execute_input": "2025-03-19T06:36:12.433073Z",
          "iopub.status.busy": "2025-03-19T06:36:12.432824Z",
          "iopub.status.idle": "2025-03-19T06:36:12.443429Z",
          "shell.execute_reply": "2025-03-19T06:36:12.442144Z",
          "shell.execute_reply.started": "2025-03-19T06:36:12.433052Z"
        },
        "id": "OgTz-7_Ai03r"
      },
      "outputs": [],
      "source": [
        "# Compiling the model.\n",
        "model_6.compile(optimizer='Adam',\n",
        "              loss='categorical_crossentropy',\n",
        "              metrics=['accuracy'])"
      ]
    },
    {
      "cell_type": "code",
      "execution_count": null,
      "metadata": {
        "execution": {
          "iopub.execute_input": "2025-03-19T06:36:12.445052Z",
          "iopub.status.busy": "2025-03-19T06:36:12.444618Z",
          "iopub.status.idle": "2025-03-19T06:40:45.521642Z",
          "shell.execute_reply": "2025-03-19T06:40:45.520478Z",
          "shell.execute_reply.started": "2025-03-19T06:36:12.445013Z"
        },
        "id": "8wlsmatji03-",
        "outputId": "dd960607-d834-4444-82ff-c1baf460962f"
      },
      "outputs": [
        {
          "name": "stdout",
          "output_type": "stream",
          "text": [
            "Epoch 1/30\n",
            "\u001b[1m750/750\u001b[0m \u001b[32m━━━━━━━━━━━━━━━━━━━━\u001b[0m\u001b[37m\u001b[0m \u001b[1m10s\u001b[0m 12ms/step - accuracy: 0.7209 - loss: 0.7643 - val_accuracy: 0.8420 - val_loss: 0.4235\n",
            "Epoch 2/30\n",
            "\u001b[1m750/750\u001b[0m \u001b[32m━━━━━━━━━━━━━━━━━━━━\u001b[0m\u001b[37m\u001b[0m \u001b[1m9s\u001b[0m 12ms/step - accuracy: 0.8370 - loss: 0.4451 - val_accuracy: 0.8607 - val_loss: 0.3791\n",
            "Epoch 3/30\n",
            "\u001b[1m750/750\u001b[0m \u001b[32m━━━━━━━━━━━━━━━━━━━━\u001b[0m\u001b[37m\u001b[0m \u001b[1m9s\u001b[0m 12ms/step - accuracy: 0.8521 - loss: 0.4056 - val_accuracy: 0.8609 - val_loss: 0.3815\n",
            "Epoch 4/30\n",
            "\u001b[1m750/750\u001b[0m \u001b[32m━━━━━━━━━━━━━━━━━━━━\u001b[0m\u001b[37m\u001b[0m \u001b[1m9s\u001b[0m 12ms/step - accuracy: 0.8581 - loss: 0.3841 - val_accuracy: 0.8747 - val_loss: 0.3521\n",
            "Epoch 5/30\n",
            "\u001b[1m750/750\u001b[0m \u001b[32m━━━━━━━━━━━━━━━━━━━━\u001b[0m\u001b[37m\u001b[0m \u001b[1m9s\u001b[0m 12ms/step - accuracy: 0.8663 - loss: 0.3652 - val_accuracy: 0.8719 - val_loss: 0.3540\n",
            "Epoch 6/30\n",
            "\u001b[1m750/750\u001b[0m \u001b[32m━━━━━━━━━━━━━━━━━━━━\u001b[0m\u001b[37m\u001b[0m \u001b[1m9s\u001b[0m 12ms/step - accuracy: 0.8690 - loss: 0.3565 - val_accuracy: 0.8783 - val_loss: 0.3355\n",
            "Epoch 7/30\n",
            "\u001b[1m750/750\u001b[0m \u001b[32m━━━━━━━━━━━━━━━━━━━━\u001b[0m\u001b[37m\u001b[0m \u001b[1m9s\u001b[0m 12ms/step - accuracy: 0.8754 - loss: 0.3350 - val_accuracy: 0.8780 - val_loss: 0.3326\n",
            "Epoch 8/30\n",
            "\u001b[1m750/750\u001b[0m \u001b[32m━━━━━━━━━━━━━━━━━━━━\u001b[0m\u001b[37m\u001b[0m \u001b[1m9s\u001b[0m 12ms/step - accuracy: 0.8786 - loss: 0.3312 - val_accuracy: 0.8823 - val_loss: 0.3231\n",
            "Epoch 9/30\n",
            "\u001b[1m750/750\u001b[0m \u001b[32m━━━━━━━━━━━━━━━━━━━━\u001b[0m\u001b[37m\u001b[0m \u001b[1m9s\u001b[0m 12ms/step - accuracy: 0.8843 - loss: 0.3154 - val_accuracy: 0.8794 - val_loss: 0.3339\n",
            "Epoch 10/30\n",
            "\u001b[1m750/750\u001b[0m \u001b[32m━━━━━━━━━━━━━━━━━━━━\u001b[0m\u001b[37m\u001b[0m \u001b[1m9s\u001b[0m 12ms/step - accuracy: 0.8851 - loss: 0.3131 - val_accuracy: 0.8825 - val_loss: 0.3248\n",
            "Epoch 11/30\n",
            "\u001b[1m750/750\u001b[0m \u001b[32m━━━━━━━━━━━━━━━━━━━━\u001b[0m\u001b[37m\u001b[0m \u001b[1m9s\u001b[0m 13ms/step - accuracy: 0.8826 - loss: 0.3105 - val_accuracy: 0.8826 - val_loss: 0.3266\n",
            "Epoch 12/30\n",
            "\u001b[1m750/750\u001b[0m \u001b[32m━━━━━━━━━━━━━━━━━━━━\u001b[0m\u001b[37m\u001b[0m \u001b[1m9s\u001b[0m 12ms/step - accuracy: 0.8888 - loss: 0.3038 - val_accuracy: 0.8852 - val_loss: 0.3197\n",
            "Epoch 13/30\n",
            "\u001b[1m750/750\u001b[0m \u001b[32m━━━━━━━━━━━━━━━━━━━━\u001b[0m\u001b[37m\u001b[0m \u001b[1m9s\u001b[0m 12ms/step - accuracy: 0.8912 - loss: 0.2996 - val_accuracy: 0.8857 - val_loss: 0.3192\n",
            "Epoch 14/30\n",
            "\u001b[1m750/750\u001b[0m \u001b[32m━━━━━━━━━━━━━━━━━━━━\u001b[0m\u001b[37m\u001b[0m \u001b[1m9s\u001b[0m 12ms/step - accuracy: 0.8946 - loss: 0.2881 - val_accuracy: 0.8863 - val_loss: 0.3276\n",
            "Epoch 15/30\n",
            "\u001b[1m750/750\u001b[0m \u001b[32m━━━━━━━━━━━━━━━━━━━━\u001b[0m\u001b[37m\u001b[0m \u001b[1m9s\u001b[0m 12ms/step - accuracy: 0.8902 - loss: 0.2925 - val_accuracy: 0.8857 - val_loss: 0.3249\n",
            "Epoch 16/30\n",
            "\u001b[1m750/750\u001b[0m \u001b[32m━━━━━━━━━━━━━━━━━━━━\u001b[0m\u001b[37m\u001b[0m \u001b[1m9s\u001b[0m 12ms/step - accuracy: 0.8936 - loss: 0.2798 - val_accuracy: 0.8901 - val_loss: 0.3310\n",
            "Epoch 17/30\n",
            "\u001b[1m750/750\u001b[0m \u001b[32m━━━━━━━━━━━━━━━━━━━━\u001b[0m\u001b[37m\u001b[0m \u001b[1m9s\u001b[0m 12ms/step - accuracy: 0.8941 - loss: 0.2844 - val_accuracy: 0.8843 - val_loss: 0.3386\n",
            "Epoch 18/30\n",
            "\u001b[1m750/750\u001b[0m \u001b[32m━━━━━━━━━━━━━━━━━━━━\u001b[0m\u001b[37m\u001b[0m \u001b[1m9s\u001b[0m 12ms/step - accuracy: 0.8975 - loss: 0.2741 - val_accuracy: 0.8863 - val_loss: 0.3276\n",
            "Epoch 19/30\n",
            "\u001b[1m750/750\u001b[0m \u001b[32m━━━━━━━━━━━━━━━━━━━━\u001b[0m\u001b[37m\u001b[0m \u001b[1m9s\u001b[0m 12ms/step - accuracy: 0.8974 - loss: 0.2795 - val_accuracy: 0.8903 - val_loss: 0.3273\n",
            "Epoch 20/30\n",
            "\u001b[1m750/750\u001b[0m \u001b[32m━━━━━━━━━━━━━━━━━━━━\u001b[0m\u001b[37m\u001b[0m \u001b[1m9s\u001b[0m 12ms/step - accuracy: 0.9004 - loss: 0.2710 - val_accuracy: 0.8940 - val_loss: 0.3107\n",
            "Epoch 21/30\n",
            "\u001b[1m750/750\u001b[0m \u001b[32m━━━━━━━━━━━━━━━━━━━━\u001b[0m\u001b[37m\u001b[0m \u001b[1m9s\u001b[0m 12ms/step - accuracy: 0.8983 - loss: 0.2668 - val_accuracy: 0.8877 - val_loss: 0.3268\n",
            "Epoch 22/30\n",
            "\u001b[1m750/750\u001b[0m \u001b[32m━━━━━━━━━━━━━━━━━━━━\u001b[0m\u001b[37m\u001b[0m \u001b[1m9s\u001b[0m 12ms/step - accuracy: 0.8994 - loss: 0.2684 - val_accuracy: 0.8893 - val_loss: 0.3163\n",
            "Epoch 23/30\n",
            "\u001b[1m750/750\u001b[0m \u001b[32m━━━━━━━━━━━━━━━━━━━━\u001b[0m\u001b[37m\u001b[0m \u001b[1m9s\u001b[0m 12ms/step - accuracy: 0.9010 - loss: 0.2620 - val_accuracy: 0.8930 - val_loss: 0.3083\n",
            "Epoch 24/30\n",
            "\u001b[1m750/750\u001b[0m \u001b[32m━━━━━━━━━━━━━━━━━━━━\u001b[0m\u001b[37m\u001b[0m \u001b[1m9s\u001b[0m 12ms/step - accuracy: 0.9023 - loss: 0.2627 - val_accuracy: 0.8878 - val_loss: 0.3331\n",
            "Epoch 25/30\n",
            "\u001b[1m750/750\u001b[0m \u001b[32m━━━━━━━━━━━━━━━━━━━━\u001b[0m\u001b[37m\u001b[0m \u001b[1m9s\u001b[0m 12ms/step - accuracy: 0.9013 - loss: 0.2599 - val_accuracy: 0.8898 - val_loss: 0.3279\n",
            "Epoch 26/30\n",
            "\u001b[1m750/750\u001b[0m \u001b[32m━━━━━━━━━━━━━━━━━━━━\u001b[0m\u001b[37m\u001b[0m \u001b[1m9s\u001b[0m 12ms/step - accuracy: 0.9062 - loss: 0.2542 - val_accuracy: 0.8860 - val_loss: 0.3251\n",
            "Epoch 27/30\n",
            "\u001b[1m750/750\u001b[0m \u001b[32m━━━━━━━━━━━━━━━━━━━━\u001b[0m\u001b[37m\u001b[0m \u001b[1m9s\u001b[0m 12ms/step - accuracy: 0.9061 - loss: 0.2525 - val_accuracy: 0.8953 - val_loss: 0.3091\n",
            "Epoch 28/30\n",
            "\u001b[1m750/750\u001b[0m \u001b[32m━━━━━━━━━━━━━━━━━━━━\u001b[0m\u001b[37m\u001b[0m \u001b[1m9s\u001b[0m 12ms/step - accuracy: 0.9089 - loss: 0.2475 - val_accuracy: 0.8928 - val_loss: 0.3165\n",
            "Epoch 29/30\n",
            "\u001b[1m750/750\u001b[0m \u001b[32m━━━━━━━━━━━━━━━━━━━━\u001b[0m\u001b[37m\u001b[0m \u001b[1m9s\u001b[0m 12ms/step - accuracy: 0.9066 - loss: 0.2543 - val_accuracy: 0.8918 - val_loss: 0.3110\n",
            "Epoch 30/30\n",
            "\u001b[1m750/750\u001b[0m \u001b[32m━━━━━━━━━━━━━━━━━━━━\u001b[0m\u001b[37m\u001b[0m \u001b[1m9s\u001b[0m 12ms/step - accuracy: 0.9085 - loss: 0.2481 - val_accuracy: 0.8890 - val_loss: 0.3160\n"
          ]
        }
      ],
      "source": [
        "# Training the model.\n",
        "training = model_6.fit(X_train, Y_train, batch_size=64, epochs=30, validation_split=0.2)"
      ]
    },
    {
      "cell_type": "code",
      "execution_count": null,
      "metadata": {
        "execution": {
          "iopub.execute_input": "2025-03-19T06:40:45.523740Z",
          "iopub.status.busy": "2025-03-19T06:40:45.523406Z",
          "iopub.status.idle": "2025-03-19T06:40:45.972631Z",
          "shell.execute_reply": "2025-03-19T06:40:45.971200Z",
          "shell.execute_reply.started": "2025-03-19T06:40:45.523703Z"
        },
        "id": "we2ZBwRui04X",
        "outputId": "19fb857f-be2c-4f87-884e-32c7a392e712"
      },
      "outputs": [
        {
          "name": "stdout",
          "output_type": "stream",
          "text": [
            "dict_keys(['accuracy', 'loss', 'val_accuracy', 'val_loss'])\n"
          ]
        },
        {
          "data": {
            "image/png": "[encoded data removed]",
            "text/plain": [
              "<Figure size 640x480 with 1 Axes>"
            ]
          },
          "metadata": {},
          "output_type": "display_data"
        },
        {
          "data": {
            "image/png": "[encoded data removed]",
            "text/plain": [
              "<Figure size 640x480 with 1 Axes>"
            ]
          },
          "metadata": {},
          "output_type": "display_data"
        }
      ],
      "source": [
        "import matplotlib.pyplot as plt\n",
        "%matplotlib inline\n",
        "# list all data in training\n",
        "print(training.history.keys())\n",
        "# summarize training for accuracy\n",
        "plt.plot(training.history['accuracy'])\n",
        "plt.plot(training.history['val_accuracy'])\n",
        "plt.title('model accuracy')\n",
        "plt.ylabel('accuracy')\n",
        "plt.xlabel('epoch')\n",
        "plt.legend(['train', 'test'], loc='upper left')\n",
        "plt.show()\n",
        "# summarize traning for loss\n",
        "plt.plot(training.history['loss'])\n",
        "plt.plot(training.history['val_loss'])\n",
        "plt.title('model loss')\n",
        "plt.ylabel('loss')\n",
        "plt.xlabel('epoch')\n",
        "plt.legend(['train', 'test'], loc='upper left')\n",
        "plt.show()"
      ]
    },
    {
      "cell_type": "code",
      "execution_count": null,
      "metadata": {
        "execution": {
          "iopub.execute_input": "2025-03-19T06:40:45.974409Z",
          "iopub.status.busy": "2025-03-19T06:40:45.974022Z",
          "iopub.status.idle": "2025-03-19T06:40:47.172055Z",
          "shell.execute_reply": "2025-03-19T06:40:47.170626Z",
          "shell.execute_reply.started": "2025-03-19T06:40:45.974372Z"
        },
        "id": "rW_yiiBci04l",
        "outputId": "75c3ce98-963f-44c6-9a42-e8882675ec6e"
      },
      "outputs": [
        {
          "name": "stdout",
          "output_type": "stream",
          "text": [
            "\u001b[1m313/313\u001b[0m \u001b[32m━━━━━━━━━━━━━━━━━━━━\u001b[0m\u001b[37m\u001b[0m \u001b[1m1s\u001b[0m 3ms/step - accuracy: 0.8847 - loss: 0.3452\n",
            "Test accuracy: 0.8862000107765198\n"
          ]
        }
      ],
      "source": [
        "#evaluate the model\n",
        "test_loss, test_acc = model_6.evaluate(X_test, Y_test)\n",
        "print('Test accuracy:', test_acc)"
      ]
    },
    {
      "cell_type": "code",
      "execution_count": null,
      "metadata": {
        "execution": {
          "iopub.execute_input": "2025-03-19T06:40:47.173100Z",
          "iopub.status.busy": "2025-03-19T06:40:47.172816Z",
          "iopub.status.idle": "2025-03-19T06:40:47.199941Z",
          "shell.execute_reply": "2025-03-19T06:40:47.198592Z",
          "shell.execute_reply.started": "2025-03-19T06:40:47.173076Z"
        },
        "id": "-st6PFxmi04q",
        "outputId": "acb9a107-21ef-4a08-ef4e-f755319c0707"
      },
      "outputs": [
        {
          "data": {
            "text/html": [
              "<pre style=\"white-space:pre;overflow-x:auto;line-height:normal;font-family:Menlo,'DejaVu Sans Mono',consolas,'Courier New',monospace\"><span style=\"font-weight: bold\">Model: \"sequential_6\"</span>\n",
              "</pre>\n"
            ],
            "text/plain": [
              "\u001b[1mModel: \"sequential_6\"\u001b[0m\n"
            ]
          },
          "metadata": {},
          "output_type": "display_data"
        },
        {
          "data": {
            "text/html": [
              "<pre style=\"white-space:pre;overflow-x:auto;line-height:normal;font-family:Menlo,'DejaVu Sans Mono',consolas,'Courier New',monospace\">┏━━━━━━━━━━━━━━━━━━━━━━━━━━━━━━━━━━━━━━┳━━━━━━━━━━━━━━━━━━━━━━━━━━━━━┳━━━━━━━━━━━━━━━━━┓\n",
              "┃<span style=\"font-weight: bold\"> Layer (type)                         </span>┃<span style=\"font-weight: bold\"> Output Shape                </span>┃<span style=\"font-weight: bold\">         Param # </span>┃\n",
              "┡━━━━━━━━━━━━━━━━━━━━━━━━━━━━━━━━━━━━━━╇━━━━━━━━━━━━━━━━━━━━━━━━━━━━━╇━━━━━━━━━━━━━━━━━┩\n",
              "│ dense_layer (<span style=\"color: #0087ff; text-decoration-color: #0087ff\">Dense</span>)                  │ (<span style=\"color: #00d7ff; text-decoration-color: #00d7ff\">None</span>, <span style=\"color: #00af00; text-decoration-color: #00af00\">512</span>)                 │         <span style=\"color: #00af00; text-decoration-color: #00af00\">401,920</span> │\n",
              "├──────────────────────────────────────┼─────────────────────────────┼─────────────────┤\n",
              "│ dropout_8 (<span style=\"color: #0087ff; text-decoration-color: #0087ff\">Dropout</span>)                  │ (<span style=\"color: #00d7ff; text-decoration-color: #00d7ff\">None</span>, <span style=\"color: #00af00; text-decoration-color: #00af00\">512</span>)                 │               <span style=\"color: #00af00; text-decoration-color: #00af00\">0</span> │\n",
              "├──────────────────────────────────────┼─────────────────────────────┼─────────────────┤\n",
              "│ dense_layer_2 (<span style=\"color: #0087ff; text-decoration-color: #0087ff\">Dense</span>)                │ (<span style=\"color: #00d7ff; text-decoration-color: #00d7ff\">None</span>, <span style=\"color: #00af00; text-decoration-color: #00af00\">512</span>)                 │         <span style=\"color: #00af00; text-decoration-color: #00af00\">262,656</span> │\n",
              "├──────────────────────────────────────┼─────────────────────────────┼─────────────────┤\n",
              "│ dropout_9 (<span style=\"color: #0087ff; text-decoration-color: #0087ff\">Dropout</span>)                  │ (<span style=\"color: #00d7ff; text-decoration-color: #00d7ff\">None</span>, <span style=\"color: #00af00; text-decoration-color: #00af00\">512</span>)                 │               <span style=\"color: #00af00; text-decoration-color: #00af00\">0</span> │\n",
              "├──────────────────────────────────────┼─────────────────────────────┼─────────────────┤\n",
              "│ dense_layer_3 (<span style=\"color: #0087ff; text-decoration-color: #0087ff\">Dense</span>)                │ (<span style=\"color: #00d7ff; text-decoration-color: #00d7ff\">None</span>, <span style=\"color: #00af00; text-decoration-color: #00af00\">512</span>)                 │         <span style=\"color: #00af00; text-decoration-color: #00af00\">262,656</span> │\n",
              "├──────────────────────────────────────┼─────────────────────────────┼─────────────────┤\n",
              "│ dropout_10 (<span style=\"color: #0087ff; text-decoration-color: #0087ff\">Dropout</span>)                 │ (<span style=\"color: #00d7ff; text-decoration-color: #00d7ff\">None</span>, <span style=\"color: #00af00; text-decoration-color: #00af00\">512</span>)                 │               <span style=\"color: #00af00; text-decoration-color: #00af00\">0</span> │\n",
              "├──────────────────────────────────────┼─────────────────────────────┼─────────────────┤\n",
              "│ dense_layer_4 (<span style=\"color: #0087ff; text-decoration-color: #0087ff\">Dense</span>)                │ (<span style=\"color: #00d7ff; text-decoration-color: #00d7ff\">None</span>, <span style=\"color: #00af00; text-decoration-color: #00af00\">10</span>)                  │           <span style=\"color: #00af00; text-decoration-color: #00af00\">5,130</span> │\n",
              "└──────────────────────────────────────┴─────────────────────────────┴─────────────────┘\n",
              "</pre>\n"
            ],
            "text/plain": [
              "┏━━━━━━━━━━━━━━━━━━━━━━━━━━━━━━━━━━━━━━┳━━━━━━━━━━━━━━━━━━━━━━━━━━━━━┳━━━━━━━━━━━━━━━━━┓\n",
              "┃\u001b[1m \u001b[0m\u001b[1mLayer (type)                        \u001b[0m\u001b[1m \u001b[0m┃\u001b[1m \u001b[0m\u001b[1mOutput Shape               \u001b[0m\u001b[1m \u001b[0m┃\u001b[1m \u001b[0m\u001b[1m        Param #\u001b[0m\u001b[1m \u001b[0m┃\n",
              "┡━━━━━━━━━━━━━━━━━━━━━━━━━━━━━━━━━━━━━━╇━━━━━━━━━━━━━━━━━━━━━━━━━━━━━╇━━━━━━━━━━━━━━━━━┩\n",
              "│ dense_layer (\u001b[38;5;33mDense\u001b[0m)                  │ (\u001b[38;5;45mNone\u001b[0m, \u001b[38;5;34m512\u001b[0m)                 │         \u001b[38;5;34m401,920\u001b[0m │\n",
              "├──────────────────────────────────────┼─────────────────────────────┼─────────────────┤\n",
              "│ dropout_8 (\u001b[38;5;33mDropout\u001b[0m)                  │ (\u001b[38;5;45mNone\u001b[0m, \u001b[38;5;34m512\u001b[0m)                 │               \u001b[38;5;34m0\u001b[0m │\n",
              "├──────────────────────────────────────┼─────────────────────────────┼─────────────────┤\n",
              "│ dense_layer_2 (\u001b[38;5;33mDense\u001b[0m)                │ (\u001b[38;5;45mNone\u001b[0m, \u001b[38;5;34m512\u001b[0m)                 │         \u001b[38;5;34m262,656\u001b[0m │\n",
              "├──────────────────────────────────────┼─────────────────────────────┼─────────────────┤\n",
              "│ dropout_9 (\u001b[38;5;33mDropout\u001b[0m)                  │ (\u001b[38;5;45mNone\u001b[0m, \u001b[38;5;34m512\u001b[0m)                 │               \u001b[38;5;34m0\u001b[0m │\n",
              "├──────────────────────────────────────┼─────────────────────────────┼─────────────────┤\n",
              "│ dense_layer_3 (\u001b[38;5;33mDense\u001b[0m)                │ (\u001b[38;5;45mNone\u001b[0m, \u001b[38;5;34m512\u001b[0m)                 │         \u001b[38;5;34m262,656\u001b[0m │\n",
              "├──────────────────────────────────────┼─────────────────────────────┼─────────────────┤\n",
              "│ dropout_10 (\u001b[38;5;33mDropout\u001b[0m)                 │ (\u001b[38;5;45mNone\u001b[0m, \u001b[38;5;34m512\u001b[0m)                 │               \u001b[38;5;34m0\u001b[0m │\n",
              "├──────────────────────────────────────┼─────────────────────────────┼─────────────────┤\n",
              "│ dense_layer_4 (\u001b[38;5;33mDense\u001b[0m)                │ (\u001b[38;5;45mNone\u001b[0m, \u001b[38;5;34m10\u001b[0m)                  │           \u001b[38;5;34m5,130\u001b[0m │\n",
              "└──────────────────────────────────────┴─────────────────────────────┴─────────────────┘\n"
            ]
          },
          "metadata": {},
          "output_type": "display_data"
        },
        {
          "data": {
            "text/html": [
              "<pre style=\"white-space:pre;overflow-x:auto;line-height:normal;font-family:Menlo,'DejaVu Sans Mono',consolas,'Courier New',monospace\"><span style=\"font-weight: bold\"> Total params: </span><span style=\"color: #00af00; text-decoration-color: #00af00\">2,797,088</span> (10.67 MB)\n",
              "</pre>\n"
            ],
            "text/plain": [
              "\u001b[1m Total params: \u001b[0m\u001b[38;5;34m2,797,088\u001b[0m (10.67 MB)\n"
            ]
          },
          "metadata": {},
          "output_type": "display_data"
        },
        {
          "data": {
            "text/html": [
              "<pre style=\"white-space:pre;overflow-x:auto;line-height:normal;font-family:Menlo,'DejaVu Sans Mono',consolas,'Courier New',monospace\"><span style=\"font-weight: bold\"> Trainable params: </span><span style=\"color: #00af00; text-decoration-color: #00af00\">932,362</span> (3.56 MB)\n",
              "</pre>\n"
            ],
            "text/plain": [
              "\u001b[1m Trainable params: \u001b[0m\u001b[38;5;34m932,362\u001b[0m (3.56 MB)\n"
            ]
          },
          "metadata": {},
          "output_type": "display_data"
        },
        {
          "data": {
            "text/html": [
              "<pre style=\"white-space:pre;overflow-x:auto;line-height:normal;font-family:Menlo,'DejaVu Sans Mono',consolas,'Courier New',monospace\"><span style=\"font-weight: bold\"> Non-trainable params: </span><span style=\"color: #00af00; text-decoration-color: #00af00\">0</span> (0.00 B)\n",
              "</pre>\n"
            ],
            "text/plain": [
              "\u001b[1m Non-trainable params: \u001b[0m\u001b[38;5;34m0\u001b[0m (0.00 B)\n"
            ]
          },
          "metadata": {},
          "output_type": "display_data"
        },
        {
          "data": {
            "text/html": [
              "<pre style=\"white-space:pre;overflow-x:auto;line-height:normal;font-family:Menlo,'DejaVu Sans Mono',consolas,'Courier New',monospace\"><span style=\"font-weight: bold\"> Optimizer params: </span><span style=\"color: #00af00; text-decoration-color: #00af00\">1,864,726</span> (7.11 MB)\n",
              "</pre>\n"
            ],
            "text/plain": [
              "\u001b[1m Optimizer params: \u001b[0m\u001b[38;5;34m1,864,726\u001b[0m (7.11 MB)\n"
            ]
          },
          "metadata": {},
          "output_type": "display_data"
        }
      ],
      "source": [
        "model_6.summary()"
      ]
    },
    {
      "cell_type": "code",
      "execution_count": null,
      "metadata": {
        "execution": {
          "iopub.execute_input": "2025-03-19T06:40:47.201349Z",
          "iopub.status.busy": "2025-03-19T06:40:47.201047Z",
          "iopub.status.idle": "2025-03-19T06:40:47.209275Z",
          "shell.execute_reply": "2025-03-19T06:40:47.208158Z",
          "shell.execute_reply.started": "2025-03-19T06:40:47.201323Z"
        },
        "id": "VVS-TuqDi04v",
        "outputId": "2ecc3c36-735e-4734-e3ee-73642b5677c6"
      },
      "outputs": [
        {
          "data": {
            "text/plain": [
              "[<KerasVariable shape=(784, 512), dtype=float32, path=sequential_6/dense_layer/kernel>,\n",
              " <KerasVariable shape=(512,), dtype=float32, path=sequential_6/dense_layer/bias>,\n",
              " <KerasVariable shape=(512, 512), dtype=float32, path=sequential_6/dense_layer_2/kernel>,\n",
              " <KerasVariable shape=(512,), dtype=float32, path=sequential_6/dense_layer_2/bias>,\n",
              " <KerasVariable shape=(512, 512), dtype=float32, path=sequential_6/dense_layer_3/kernel>,\n",
              " <KerasVariable shape=(512,), dtype=float32, path=sequential_6/dense_layer_3/bias>,\n",
              " <KerasVariable shape=(512, 10), dtype=float32, path=sequential_6/dense_layer_4/kernel>,\n",
              " <KerasVariable shape=(10,), dtype=float32, path=sequential_6/dense_layer_4/bias>]"
            ]
          },
          "execution_count": 66,
          "metadata": {},
          "output_type": "execute_result"
        }
      ],
      "source": [
        "model_6.weights"
      ]
    },
    {
      "cell_type": "code",
      "execution_count": null,
      "metadata": {
        "execution": {
          "iopub.execute_input": "2025-03-19T06:40:47.211085Z",
          "iopub.status.busy": "2025-03-19T06:40:47.210789Z",
          "iopub.status.idle": "2025-03-19T06:40:47.240739Z",
          "shell.execute_reply": "2025-03-19T06:40:47.239691Z",
          "shell.execute_reply.started": "2025-03-19T06:40:47.211058Z"
        },
        "id": "V5lg_PNsi041",
        "outputId": "bcd0402f-9844-459d-c9b3-5c1266319055"
      },
      "outputs": [
        {
          "data": {
            "text/plain": [
              "{'name': 'sequential_6',\n",
              " 'trainable': True,\n",
              " 'dtype': {'module': 'keras',\n",
              "  'class_name': 'DTypePolicy',\n",
              "  'config': {'name': 'float32'},\n",
              "  'registered_name': None},\n",
              " 'layers': [{'module': 'keras.layers',\n",
              "   'class_name': 'InputLayer',\n",
              "   'config': {'batch_shape': (None, 784),\n",
              "    'dtype': 'float32',\n",
              "    'sparse': False,\n",
              "    'name': 'input_layer_6'},\n",
              "   'registered_name': None},\n",
              "  {'module': 'keras.layers',\n",
              "   'class_name': 'Dense',\n",
              "   'config': {'name': 'dense_layer',\n",
              "    'trainable': True,\n",
              "    'dtype': {'module': 'keras',\n",
              "     'class_name': 'DTypePolicy',\n",
              "     'config': {'name': 'float32'},\n",
              "     'registered_name': None},\n",
              "    'units': 512,\n",
              "    'activation': 'relu',\n",
              "    'use_bias': True,\n",
              "    'kernel_initializer': {'module': 'keras.initializers',\n",
              "     'class_name': 'GlorotUniform',\n",
              "     'config': {'seed': None},\n",
              "     'registered_name': None},\n",
              "    'bias_initializer': {'module': 'keras.initializers',\n",
              "     'class_name': 'Zeros',\n",
              "     'config': {},\n",
              "     'registered_name': None},\n",
              "    'kernel_regularizer': None,\n",
              "    'bias_regularizer': None,\n",
              "    'kernel_constraint': None,\n",
              "    'bias_constraint': None},\n",
              "   'registered_name': None,\n",
              "   'build_config': {'input_shape': (None, 784)}},\n",
              "  {'module': 'keras.layers',\n",
              "   'class_name': 'Dropout',\n",
              "   'config': {'name': 'dropout_8',\n",
              "    'trainable': True,\n",
              "    'dtype': {'module': 'keras',\n",
              "     'class_name': 'DTypePolicy',\n",
              "     'config': {'name': 'float32'},\n",
              "     'registered_name': None},\n",
              "    'rate': 0.3,\n",
              "    'seed': None,\n",
              "    'noise_shape': None},\n",
              "   'registered_name': None,\n",
              "   'build_config': {'input_shape': (None, 512)}},\n",
              "  {'module': 'keras.layers',\n",
              "   'class_name': 'Dense',\n",
              "   'config': {'name': 'dense_layer_2',\n",
              "    'trainable': True,\n",
              "    'dtype': {'module': 'keras',\n",
              "     'class_name': 'DTypePolicy',\n",
              "     'config': {'name': 'float32'},\n",
              "     'registered_name': None},\n",
              "    'units': 512,\n",
              "    'activation': 'relu',\n",
              "    'use_bias': True,\n",
              "    'kernel_initializer': {'module': 'keras.initializers',\n",
              "     'class_name': 'GlorotUniform',\n",
              "     'config': {'seed': None},\n",
              "     'registered_name': None},\n",
              "    'bias_initializer': {'module': 'keras.initializers',\n",
              "     'class_name': 'Zeros',\n",
              "     'config': {},\n",
              "     'registered_name': None},\n",
              "    'kernel_regularizer': None,\n",
              "    'bias_regularizer': None,\n",
              "    'kernel_constraint': None,\n",
              "    'bias_constraint': None},\n",
              "   'registered_name': None,\n",
              "   'build_config': {'input_shape': (None, 512)}},\n",
              "  {'module': 'keras.layers',\n",
              "   'class_name': 'Dropout',\n",
              "   'config': {'name': 'dropout_9',\n",
              "    'trainable': True,\n",
              "    'dtype': {'module': 'keras',\n",
              "     'class_name': 'DTypePolicy',\n",
              "     'config': {'name': 'float32'},\n",
              "     'registered_name': None},\n",
              "    'rate': 0.3,\n",
              "    'seed': None,\n",
              "    'noise_shape': None},\n",
              "   'registered_name': None,\n",
              "   'build_config': {'input_shape': (None, 512)}},\n",
              "  {'module': 'keras.layers',\n",
              "   'class_name': 'Dense',\n",
              "   'config': {'name': 'dense_layer_3',\n",
              "    'trainable': True,\n",
              "    'dtype': {'module': 'keras',\n",
              "     'class_name': 'DTypePolicy',\n",
              "     'config': {'name': 'float32'},\n",
              "     'registered_name': None},\n",
              "    'units': 512,\n",
              "    'activation': 'relu',\n",
              "    'use_bias': True,\n",
              "    'kernel_initializer': {'module': 'keras.initializers',\n",
              "     'class_name': 'GlorotUniform',\n",
              "     'config': {'seed': None},\n",
              "     'registered_name': None},\n",
              "    'bias_initializer': {'module': 'keras.initializers',\n",
              "     'class_name': 'Zeros',\n",
              "     'config': {},\n",
              "     'registered_name': None},\n",
              "    'kernel_regularizer': None,\n",
              "    'bias_regularizer': None,\n",
              "    'kernel_constraint': None,\n",
              "    'bias_constraint': None},\n",
              "   'registered_name': None,\n",
              "   'build_config': {'input_shape': (None, 512)}},\n",
              "  {'module': 'keras.layers',\n",
              "   'class_name': 'Dropout',\n",
              "   'config': {'name': 'dropout_10',\n",
              "    'trainable': True,\n",
              "    'dtype': {'module': 'keras',\n",
              "     'class_name': 'DTypePolicy',\n",
              "     'config': {'name': 'float32'},\n",
              "     'registered_name': None},\n",
              "    'rate': 0.3,\n",
              "    'seed': None,\n",
              "    'noise_shape': None},\n",
              "   'registered_name': None,\n",
              "   'build_config': {'input_shape': (None, 512)}},\n",
              "  {'module': 'keras.layers',\n",
              "   'class_name': 'Dense',\n",
              "   'config': {'name': 'dense_layer_4',\n",
              "    'trainable': True,\n",
              "    'dtype': {'module': 'keras',\n",
              "     'class_name': 'DTypePolicy',\n",
              "     'config': {'name': 'float32'},\n",
              "     'registered_name': None},\n",
              "    'units': 10,\n",
              "    'activation': 'softmax',\n",
              "    'use_bias': True,\n",
              "    'kernel_initializer': {'module': 'keras.initializers',\n",
              "     'class_name': 'GlorotUniform',\n",
              "     'config': {'seed': None},\n",
              "     'registered_name': None},\n",
              "    'bias_initializer': {'module': 'keras.initializers',\n",
              "     'class_name': 'Zeros',\n",
              "     'config': {},\n",
              "     'registered_name': None},\n",
              "    'kernel_regularizer': None,\n",
              "    'bias_regularizer': None,\n",
              "    'kernel_constraint': None,\n",
              "    'bias_constraint': None},\n",
              "   'registered_name': None,\n",
              "   'build_config': {'input_shape': (None, 512)}}],\n",
              " 'build_input_shape': (None, 784)}"
            ]
          },
          "execution_count": 67,
          "metadata": {},
          "output_type": "execute_result"
        }
      ],
      "source": [
        "model_6.get_config()"
      ]
    }
  ],
  "metadata": {
    "accelerator": "TPU",
    "colab": {
      "collapsed_sections": [
        "XxeyelGk_Tp4",
        "JL8GMQz2R90b",
        "HruLQ2fqS3f2",
        "PwEj36wcbsXF",
        "u5DMnZp1bxAU",
        "szLxFVyIytsv",
        "yZBPiGLXYGUM",
        "RaTcM_Gk_jco",
        "ajqy56PT_pHr",
        "n8iGAu5OAO5Y",
        "Nw7DXcLYfZzp",
        "pjps75cBuR1Z",
        "mBnxm6kkzUYm",
        "AFbx6XHI0KyQ",
        "jX8DXi1jiFYS",
        "X6UHyrSERqid",
        "hQTkURqTLcAy",
        "LFY6t7nLLukS",
        "OFeLvye1L3uN",
        "SEc5Uh-UMIOm"
      ],
      "provenance": []
    },
    "kaggle": {
      "accelerator": "none",
      "dataSources": [],
      "dockerImageVersionId": 30919,
      "isGpuEnabled": false,
      "isInternetEnabled": true,
      "language": "python",
      "sourceType": "notebook"
    },
    "kernelspec": {
      "display_name": "Python 3 (ipykernel)",
      "language": "python",
      "name": "python3"
    },
    "language_info": {
      "codemirror_mode": {
        "name": "ipython",
        "version": 3
      },
      "file_extension": ".py",
      "mimetype": "text/x-python",
      "name": "python",
      "nbconvert_exporter": "python",
      "pygments_lexer": "ipython3",
      "version": "3.11.7"
    }
  },
  "nbformat": 4,
  "nbformat_minor": 0
}